{
 "cells": [
  {
   "cell_type": "markdown",
   "metadata": {
    "id": "hr7FErtwUMZg"
   },
   "source": [
    "# Youtube comments spam classification\n",
    "\n",
    "This dataset is comprise of comments collection from users for videos on youtube of artist i.e Psy, Katy Perry, LMFAO, Eminem, and Shakira.\n",
    "\n",
    "In these datasets, there is a class column where (0) indicates that it is not a spam and (1) if it is a Spam.\n",
    "\n",
    "We will use this to build models which classify the comment is either a spam or not.\n"
   ]
  },
  {
   "cell_type": "code",
   "execution_count": 10,
   "metadata": {
    "colab": {
     "base_uri": "https://localhost:8080/"
    },
    "id": "M3eQ-K56As4X",
    "outputId": "5ffb9bf5-e99c-40cb-ee41-3432336e258f"
   },
   "outputs": [],
   "source": [
    "#pip install emoji"
   ]
  },
  {
   "cell_type": "code",
   "execution_count": 1,
   "metadata": {
    "id": "1mwiodAqUMZk"
   },
   "outputs": [],
   "source": [
    "import pandas as pd\n",
    "import matplotlib.pyplot as plt\n",
    "import numpy as np\n",
    "import seaborn as sb\n",
    "from collections import Counter\n",
    "import nltk\n",
    "import html\n",
    "import re\n",
    "import string\n",
    "import emoji"
   ]
  },
  {
   "cell_type": "code",
   "execution_count": 2,
   "metadata": {
    "colab": {
     "base_uri": "https://localhost:8080/"
    },
    "id": "sLqruHgTWqdr",
    "outputId": "d977a59f-3a1c-483e-e415-45ee9d7e12db"
   },
   "outputs": [
    {
     "name": "stderr",
     "output_type": "stream",
     "text": [
      "[nltk_data] Error loading punkt: <urlopen error [SSL:\n",
      "[nltk_data]     CERTIFICATE_VERIFY_FAILED] certificate verify failed:\n",
      "[nltk_data]     unable to get local issuer certificate (_ssl.c:1108)>\n"
     ]
    },
    {
     "data": {
      "text/plain": [
       "False"
      ]
     },
     "execution_count": 2,
     "metadata": {},
     "output_type": "execute_result"
    }
   ],
   "source": [
    "nltk.download('punkt')"
   ]
  },
  {
   "cell_type": "code",
   "execution_count": 3,
   "metadata": {
    "id": "cEJaUlSLUMZr"
   },
   "outputs": [],
   "source": [
    "df1 = pd.read_csv('Youtube01-Psy.csv')\n",
    "df2 = pd.read_csv('Youtube02-KatyPerry.csv')\n",
    "df3 = pd.read_csv('Youtube03-LMFAO.csv')\n",
    "df4 = pd.read_csv('Youtube04-Eminem.csv')\n",
    "df5 = pd.read_csv('Youtube05-Shakira.csv')\n",
    "\n",
    "frames = [df1,df2,df3,df4,df5]\n",
    "df = pd.concat(frames, ignore_index=True)\n",
    "df.to_csv(\"not_clean.csv\")"
   ]
  },
  {
   "cell_type": "code",
   "execution_count": 4,
   "metadata": {
    "colab": {
     "base_uri": "https://localhost:8080/"
    },
    "id": "-MLEjRXLUMZt",
    "outputId": "0646511c-cb9c-4059-afce-788d545c7837"
   },
   "outputs": [
    {
     "name": "stdout",
     "output_type": "stream",
     "text": [
      "(1956, 5)\n",
      "Index(['COMMENT_ID', 'AUTHOR', 'DATE', 'CONTENT', 'CLASS'], dtype='object')\n"
     ]
    },
    {
     "data": {
      "text/plain": [
       "<bound method NDFrame.head of                                        COMMENT_ID                AUTHOR  \\\n",
       "0     LZQPQhLyRh80UYxNuaDWhIGQYNQ96IuCg-AYWqNPjpU             Julius NM   \n",
       "1     LZQPQhLyRh_C2cTtd9MvFRJedxydaVW-2sNg5Diuo4A           adam riyati   \n",
       "2     LZQPQhLyRh9MSZYnf8djyk0gEF9BHDPYrrK-qCczIY8      Evgeny Murashkin   \n",
       "3             z13jhp0bxqncu512g22wvzkasxmvvzjaz04       ElNino Melendez   \n",
       "4             z13fwbwp1oujthgqj04chlngpvzmtt3r3dw                GsMega   \n",
       "...                                           ...                   ...   \n",
       "1951  _2viQ_Qnc6-bMSjqyL1NKj57ROicCSJV5SwTrw-RFFA          Katie Mettam   \n",
       "1952  _2viQ_Qnc6-pY-1yR6K2FhmC5i48-WuNx5CumlHLDAI  Sabina Pearson-Smith   \n",
       "1953  _2viQ_Qnc6_k_n_Bse9zVhJP8tJReZpo8uM2uZfnzDs         jeffrey jules   \n",
       "1954  _2viQ_Qnc6_yBt8UGMWyg3vh0PulTqcqyQtdE7d4Fl0        Aishlin Maciel   \n",
       "1955  _2viQ_Qnc685RPw1aSa1tfrIuHXRvAQ2rPT9R06KTqA           Latin Bosch   \n",
       "\n",
       "                            DATE  \\\n",
       "0            2013-11-07T06:20:48   \n",
       "1            2013-11-07T12:37:15   \n",
       "2            2013-11-08T17:34:21   \n",
       "3            2013-11-09T08:28:43   \n",
       "4            2013-11-10T16:05:38   \n",
       "...                          ...   \n",
       "1951  2013-07-13T13:27:39.441000   \n",
       "1952  2013-07-13T13:14:30.021000   \n",
       "1953  2013-07-13T12:09:31.188000   \n",
       "1954  2013-07-13T11:17:52.308000   \n",
       "1955  2013-07-12T22:33:27.916000   \n",
       "\n",
       "                                                CONTENT  CLASS  \n",
       "0     Huh, anyway check out this you[tube] channel: ...      1  \n",
       "1     Hey guys check out my new channel and our firs...      1  \n",
       "2                just for test I have to say murdev.com      1  \n",
       "3      me shaking my sexy ass on my channel enjoy ^_^ ﻿      1  \n",
       "4               watch?v=vtaRGgvGtWQ   Check this out .﻿      1  \n",
       "...                                                 ...    ...  \n",
       "1951  I love this song because we sing it at Camp al...      0  \n",
       "1952  I love this song for two reasons: 1.it is abou...      0  \n",
       "1953                                                wow      0  \n",
       "1954                            Shakira u are so wiredo      0  \n",
       "1955                         Shakira is the best dancer      0  \n",
       "\n",
       "[1956 rows x 5 columns]>"
      ]
     },
     "execution_count": 4,
     "metadata": {},
     "output_type": "execute_result"
    }
   ],
   "source": [
    "print(df.shape)\n",
    "print(df.columns)\n",
    "df.head"
   ]
  },
  {
   "cell_type": "code",
   "execution_count": 5,
   "metadata": {
    "colab": {
     "base_uri": "https://localhost:8080/",
     "height": 312
    },
    "id": "DWpjZR7fUMZx",
    "outputId": "28d691fa-c7dc-4535-8a77-f908f72b4af5"
   },
   "outputs": [
    {
     "data": {
      "text/plain": [
       "Text(0.5, 1.0, 'Frequency of Ham(0) & Spam(1)')"
      ]
     },
     "execution_count": 5,
     "metadata": {},
     "output_type": "execute_result"
    },
    {
     "data": {
      "image/png": "[encoded data removed]",
      "text/plain": [
       "<Figure size 432x288 with 1 Axes>"
      ]
     },
     "metadata": {
      "needs_background": "light"
     },
     "output_type": "display_data"
    }
   ],
   "source": [
    "sb.countplot(x='CLASS',data=df).set_title(\"Frequency of Ham(0) & Spam(1)\")"
   ]
  },
  {
   "cell_type": "code",
   "execution_count": 6,
   "metadata": {
    "colab": {
     "base_uri": "https://localhost:8080/",
     "height": 204
    },
    "id": "bgJ0qiiZUMZ2",
    "outputId": "435110cb-acdd-46fe-fc7b-7ac48151fadd"
   },
   "outputs": [
    {
     "data": {
      "text/html": [
       "<div>\n",
       "<style scoped>\n",
       "    .dataframe tbody tr th:only-of-type {\n",
       "        vertical-align: middle;\n",
       "    }\n",
       "\n",
       "    .dataframe tbody tr th {\n",
       "        vertical-align: top;\n",
       "    }\n",
       "\n",
       "    .dataframe thead th {\n",
       "        text-align: right;\n",
       "    }\n",
       "</style>\n",
       "<table border=\"1\" class=\"dataframe\">\n",
       "  <thead>\n",
       "    <tr style=\"text-align: right;\">\n",
       "      <th></th>\n",
       "      <th>COMMENT_ID</th>\n",
       "      <th>AUTHOR</th>\n",
       "      <th>DATE</th>\n",
       "      <th>CONTENT</th>\n",
       "      <th>CLASS</th>\n",
       "      <th>comment_len</th>\n",
       "    </tr>\n",
       "  </thead>\n",
       "  <tbody>\n",
       "    <tr>\n",
       "      <th>0</th>\n",
       "      <td>LZQPQhLyRh80UYxNuaDWhIGQYNQ96IuCg-AYWqNPjpU</td>\n",
       "      <td>Julius NM</td>\n",
       "      <td>2013-11-07T06:20:48</td>\n",
       "      <td>Huh, anyway check out this you[tube] channel: ...</td>\n",
       "      <td>1</td>\n",
       "      <td>56</td>\n",
       "    </tr>\n",
       "    <tr>\n",
       "      <th>1</th>\n",
       "      <td>LZQPQhLyRh_C2cTtd9MvFRJedxydaVW-2sNg5Diuo4A</td>\n",
       "      <td>adam riyati</td>\n",
       "      <td>2013-11-07T12:37:15</td>\n",
       "      <td>Hey guys check out my new channel and our firs...</td>\n",
       "      <td>1</td>\n",
       "      <td>166</td>\n",
       "    </tr>\n",
       "    <tr>\n",
       "      <th>2</th>\n",
       "      <td>LZQPQhLyRh9MSZYnf8djyk0gEF9BHDPYrrK-qCczIY8</td>\n",
       "      <td>Evgeny Murashkin</td>\n",
       "      <td>2013-11-08T17:34:21</td>\n",
       "      <td>just for test I have to say murdev.com</td>\n",
       "      <td>1</td>\n",
       "      <td>38</td>\n",
       "    </tr>\n",
       "    <tr>\n",
       "      <th>3</th>\n",
       "      <td>z13jhp0bxqncu512g22wvzkasxmvvzjaz04</td>\n",
       "      <td>ElNino Melendez</td>\n",
       "      <td>2013-11-09T08:28:43</td>\n",
       "      <td>me shaking my sexy ass on my channel enjoy ^_^ ﻿</td>\n",
       "      <td>1</td>\n",
       "      <td>48</td>\n",
       "    </tr>\n",
       "    <tr>\n",
       "      <th>4</th>\n",
       "      <td>z13fwbwp1oujthgqj04chlngpvzmtt3r3dw</td>\n",
       "      <td>GsMega</td>\n",
       "      <td>2013-11-10T16:05:38</td>\n",
       "      <td>watch?v=vtaRGgvGtWQ   Check this out .﻿</td>\n",
       "      <td>1</td>\n",
       "      <td>39</td>\n",
       "    </tr>\n",
       "  </tbody>\n",
       "</table>\n",
       "</div>"
      ],
      "text/plain": [
       "                                    COMMENT_ID            AUTHOR  \\\n",
       "0  LZQPQhLyRh80UYxNuaDWhIGQYNQ96IuCg-AYWqNPjpU         Julius NM   \n",
       "1  LZQPQhLyRh_C2cTtd9MvFRJedxydaVW-2sNg5Diuo4A       adam riyati   \n",
       "2  LZQPQhLyRh9MSZYnf8djyk0gEF9BHDPYrrK-qCczIY8  Evgeny Murashkin   \n",
       "3          z13jhp0bxqncu512g22wvzkasxmvvzjaz04   ElNino Melendez   \n",
       "4          z13fwbwp1oujthgqj04chlngpvzmtt3r3dw            GsMega   \n",
       "\n",
       "                  DATE                                            CONTENT  \\\n",
       "0  2013-11-07T06:20:48  Huh, anyway check out this you[tube] channel: ...   \n",
       "1  2013-11-07T12:37:15  Hey guys check out my new channel and our firs...   \n",
       "2  2013-11-08T17:34:21             just for test I have to say murdev.com   \n",
       "3  2013-11-09T08:28:43   me shaking my sexy ass on my channel enjoy ^_^ ﻿   \n",
       "4  2013-11-10T16:05:38            watch?v=vtaRGgvGtWQ   Check this out .﻿   \n",
       "\n",
       "   CLASS  comment_len  \n",
       "0      1           56  \n",
       "1      1          166  \n",
       "2      1           38  \n",
       "3      1           48  \n",
       "4      1           39  "
      ]
     },
     "execution_count": 6,
     "metadata": {},
     "output_type": "execute_result"
    }
   ],
   "source": [
    "df['comment_len'] = df['CONTENT'].apply(len)\n",
    "df.head(5)"
   ]
  },
  {
   "cell_type": "code",
   "execution_count": 7,
   "metadata": {
    "colab": {
     "base_uri": "https://localhost:8080/",
     "height": 173
    },
    "id": "CSG2OAX4UMZ5",
    "outputId": "c1bd0499-7b6d-4194-8d40-51cd704a8ceb"
   },
   "outputs": [
    {
     "data": {
      "text/html": [
       "<div>\n",
       "<style scoped>\n",
       "    .dataframe tbody tr th:only-of-type {\n",
       "        vertical-align: middle;\n",
       "    }\n",
       "\n",
       "    .dataframe tbody tr th {\n",
       "        vertical-align: top;\n",
       "    }\n",
       "\n",
       "    .dataframe thead tr th {\n",
       "        text-align: left;\n",
       "    }\n",
       "\n",
       "    .dataframe thead tr:last-of-type th {\n",
       "        text-align: right;\n",
       "    }\n",
       "</style>\n",
       "<table border=\"1\" class=\"dataframe\">\n",
       "  <thead>\n",
       "    <tr>\n",
       "      <th></th>\n",
       "      <th colspan=\"8\" halign=\"left\">comment_len</th>\n",
       "    </tr>\n",
       "    <tr>\n",
       "      <th></th>\n",
       "      <th>count</th>\n",
       "      <th>mean</th>\n",
       "      <th>std</th>\n",
       "      <th>min</th>\n",
       "      <th>25%</th>\n",
       "      <th>50%</th>\n",
       "      <th>75%</th>\n",
       "      <th>max</th>\n",
       "    </tr>\n",
       "    <tr>\n",
       "      <th>CLASS</th>\n",
       "      <th></th>\n",
       "      <th></th>\n",
       "      <th></th>\n",
       "      <th></th>\n",
       "      <th></th>\n",
       "      <th></th>\n",
       "      <th></th>\n",
       "      <th></th>\n",
       "    </tr>\n",
       "  </thead>\n",
       "  <tbody>\n",
       "    <tr>\n",
       "      <th>0</th>\n",
       "      <td>951.0</td>\n",
       "      <td>49.644585</td>\n",
       "      <td>56.284782</td>\n",
       "      <td>2.0</td>\n",
       "      <td>18.0</td>\n",
       "      <td>34.0</td>\n",
       "      <td>62.0</td>\n",
       "      <td>753.0</td>\n",
       "    </tr>\n",
       "    <tr>\n",
       "      <th>1</th>\n",
       "      <td>1005.0</td>\n",
       "      <td>137.336318</td>\n",
       "      <td>158.977404</td>\n",
       "      <td>10.0</td>\n",
       "      <td>36.0</td>\n",
       "      <td>65.0</td>\n",
       "      <td>171.0</td>\n",
       "      <td>1200.0</td>\n",
       "    </tr>\n",
       "  </tbody>\n",
       "</table>\n",
       "</div>"
      ],
      "text/plain": [
       "      comment_len                                                         \n",
       "            count        mean         std   min   25%   50%    75%     max\n",
       "CLASS                                                                     \n",
       "0           951.0   49.644585   56.284782   2.0  18.0  34.0   62.0   753.0\n",
       "1          1005.0  137.336318  158.977404  10.0  36.0  65.0  171.0  1200.0"
      ]
     },
     "execution_count": 7,
     "metadata": {},
     "output_type": "execute_result"
    }
   ],
   "source": [
    "df.groupby('CLASS').describe()"
   ]
  },
  {
   "cell_type": "code",
   "execution_count": 8,
   "metadata": {
    "colab": {
     "base_uri": "https://localhost:8080/",
     "height": 296
    },
    "id": "h0k42138UMZ9",
    "outputId": "7d7db1a9-c25c-4591-ab49-1a6ef138ccab"
   },
   "outputs": [
    {
     "data": {
      "text/plain": [
       "<matplotlib.axes._subplots.AxesSubplot at 0x123848520>"
      ]
     },
     "execution_count": 8,
     "metadata": {},
     "output_type": "execute_result"
    },
    {
     "data": {
      "image/png": "[encoded data removed]",
      "text/plain": [
       "<Figure size 432x288 with 1 Axes>"
      ]
     },
     "metadata": {
      "needs_background": "light"
     },
     "output_type": "display_data"
    }
   ],
   "source": [
    "sb.boxplot(x='CLASS', y='comment_len', data=df)"
   ]
  },
  {
   "cell_type": "code",
   "execution_count": 9,
   "metadata": {
    "id": "0S-R9ZzHUMaC"
   },
   "outputs": [],
   "source": [
    "#Trying to insert all available words in a list individually and count the most occuring word in each list.\n",
    "\n",
    "spam_comments = df[df[\"CLASS\"] == 1][\"CONTENT\"]\n",
    "ham_comments = df[df[\"CLASS\"] == 0][\"CONTENT\"]\n",
    "\n",
    "spam_words = []\n",
    "ham_words = []\n",
    "\n",
    "def spamword (spamWords) :\n",
    "    global spam_words\n",
    "    words = [word.lower() for word in spam_comments if word.lower().isalpha()]\n",
    "    spam_words = spam_words + words\n",
    "    \n",
    "def hamword (spamWords) :\n",
    "    global ham_words\n",
    "    words = [word.lower() for word in ham_comments if word.lower().isalpha()]\n",
    "    ham_words = ham_words + words\n",
    "\n",
    "spamlist = spamword(spam_comments)\n",
    "hamlist = hamword(spam_comments)\n",
    "\n",
    "count_ham  = Counter(hamlist)\n",
    "count_spam = Counter(spamlist)\n",
    "\n",
    "#Using Counter mos_common method to count most common instance in a dataFrame\n",
    "df_ham  = pd.DataFrame(count_ham.most_common(20),  columns=['word', 'count'])\n",
    "df_spam = pd.DataFrame(count_spam.most_common(20), columns=['word', 'count'])\n",
    "\n"
   ]
  },
  {
   "cell_type": "code",
   "execution_count": 10,
   "metadata": {
    "colab": {
     "base_uri": "https://localhost:8080/",
     "height": 477
    },
    "id": "n3WmXVIzUMaG",
    "outputId": "f23eb785-8981-47b9-e155-5e14285be084"
   },
   "outputs": [
    {
     "data": {
      "image/png": "[encoded data removed]",
      "text/plain": [
       "<Figure size 1440x432 with 2 Axes>"
      ]
     },
     "metadata": {
      "needs_background": "light"
     },
     "output_type": "display_data"
    }
   ],
   "source": [
    "f, ax = plt.subplots(1, 2, figsize = (20, 6))\n",
    "\n",
    "sb.distplot(df[df[\"CLASS\"] == 1][\"comment_len\"], bins = 20, ax = ax[0])\n",
    "ax[0].set_xlabel(\"Spam Message Word Length\")\n",
    "\n",
    "sb.distplot(df[df[\"CLASS\"] == 0][\"comment_len\"], bins = 20, ax = ax[1])\n",
    "ax[0].set_xlabel(\"Ham Message Word Length\")\n",
    "\n",
    "plt.show()"
   ]
  },
  {
   "cell_type": "code",
   "execution_count": 11,
   "metadata": {
    "id": "JaKu0F8yUMaI"
   },
   "outputs": [],
   "source": [
    "df = df.drop(['COMMENT_ID', 'AUTHOR', 'DATE', 'comment_len'], axis=1)"
   ]
  },
  {
   "cell_type": "code",
   "execution_count": 12,
   "metadata": {
    "colab": {
     "base_uri": "https://localhost:8080/"
    },
    "id": "GvkGtkdSUMaK",
    "outputId": "8a0908ef-7083-47be-94ec-adde8fa71e0e"
   },
   "outputs": [
    {
     "name": "stdout",
     "output_type": "stream",
     "text": [
      "<bound method NDFrame.describe of                                                 CONTENT  CLASS\n",
      "0     Huh, anyway check out this you[tube] channel: ...      1\n",
      "1     Hey guys check out my new channel and our firs...      1\n",
      "2                just for test I have to say murdev.com      1\n",
      "3      me shaking my sexy ass on my channel enjoy ^_^ ﻿      1\n",
      "4               watch?v=vtaRGgvGtWQ   Check this out .﻿      1\n",
      "...                                                 ...    ...\n",
      "1951  I love this song because we sing it at Camp al...      0\n",
      "1952  I love this song for two reasons: 1.it is abou...      0\n",
      "1953                                                wow      0\n",
      "1954                            Shakira u are so wiredo      0\n",
      "1955                         Shakira is the best dancer      0\n",
      "\n",
      "[1956 rows x 2 columns]>\n"
     ]
    }
   ],
   "source": [
    "print(df.describe)"
   ]
  },
  {
   "cell_type": "markdown",
   "metadata": {
    "id": "A6uPredMaeow"
   },
   "source": [
    "Lowercase all the words in the df column \"CONTENT\""
   ]
  },
  {
   "cell_type": "code",
   "execution_count": 13,
   "metadata": {
    "id": "9GDgfVJNsIBY"
   },
   "outputs": [],
   "source": [
    "df[\"CONTENT\"] = df[\"CONTENT\"].str.lower()"
   ]
  },
  {
   "cell_type": "markdown",
   "metadata": {
    "id": "9kn0AtCTaojt"
   },
   "source": [
    "Replace all the html tags <a... > with the keyword \"htmllink\""
   ]
  },
  {
   "cell_type": "code",
   "execution_count": 14,
   "metadata": {
    "id": "YW5lLrD1bLq3"
   },
   "outputs": [],
   "source": [
    "df['CONTENT']=df['CONTENT'].str.replace(\"(<a.+>)\",\"htmllink\")"
   ]
  },
  {
   "cell_type": "markdown",
   "metadata": {
    "id": "D8BniNXXa9OM"
   },
   "source": [
    "Remove all other html tags."
   ]
  },
  {
   "cell_type": "code",
   "execution_count": 15,
   "metadata": {
    "id": "INn1HRpNfQxR"
   },
   "outputs": [],
   "source": [
    "df['CONTENT']=df['CONTENT'].str.replace(\"(<.+>)\",\"\")"
   ]
  },
  {
   "cell_type": "markdown",
   "metadata": {
    "id": "5L4jI-LybLRR"
   },
   "source": [
    "Replace all the strings starting with \"http\" or \"https\" with the keyword \"htmllink\""
   ]
  },
  {
   "cell_type": "code",
   "execution_count": 16,
   "metadata": {
    "id": "iiVn5seQfb_r"
   },
   "outputs": [],
   "source": [
    "df['CONTENT']=df['CONTENT'].str.replace(r'(https?://\\S+|http?://\\S+ )',\"htmllink\")"
   ]
  },
  {
   "cell_type": "markdown",
   "metadata": {
    "id": "0c1fM3JTbS8H"
   },
   "source": [
    "Replace all the strings containing \".com\"  or \"watch\\\"  with the keyword \"htmllink\""
   ]
  },
  {
   "cell_type": "code",
   "execution_count": 17,
   "metadata": {
    "id": "rcM_U6xlqLV-"
   },
   "outputs": [],
   "source": [
    "df[\"CONTENT\"]=df[\"CONTENT\"].str.replace(r\"\\S*.com\\S*|\\S*watch\\?\\S*\",\"htmllink\")"
   ]
  },
  {
   "cell_type": "code",
   "execution_count": 18,
   "metadata": {
    "id": "6xMq1HTtXyX8"
   },
   "outputs": [],
   "source": [
    "def clean_nonalpha(input_text):\n",
    "  pattern = re.compile('([^\\s\\w]|)+')\n",
    "  return pattern.sub(\"\",input_text)"
   ]
  },
  {
   "cell_type": "code",
   "execution_count": 19,
   "metadata": {
    "id": "Vir-gP1b1RjV"
   },
   "outputs": [],
   "source": [
    "def translate_emojis(input_text):\n",
    "  return emoji.demojize(input_text, delimiters=(\" \", \" \"))"
   ]
  },
  {
   "cell_type": "code",
   "execution_count": 20,
   "metadata": {
    "id": "Qw8ai1GoXTyG"
   },
   "outputs": [],
   "source": [
    "def clean_only_numbers(input_text):\n",
    "  return ' '.join(word for word in input_text.split() if not word.isdigit())"
   ]
  },
  {
   "cell_type": "code",
   "execution_count": 21,
   "metadata": {
    "id": "PUVu6bEByzw8"
   },
   "outputs": [],
   "source": [
    "df[\"CONTENT\"]=df[\"CONTENT\"].apply(translate_emojis)"
   ]
  },
  {
   "cell_type": "code",
   "execution_count": 22,
   "metadata": {
    "id": "1QozOWYjYjMH"
   },
   "outputs": [],
   "source": [
    "df[\"CONTENT\"]=df[\"CONTENT\"].apply(clean_nonalpha)"
   ]
  },
  {
   "cell_type": "code",
   "execution_count": 23,
   "metadata": {
    "id": "sbKCF4r9ZTFm"
   },
   "outputs": [],
   "source": [
    "df[\"CONTENT\"]=df[\"CONTENT\"].apply(clean_only_numbers)"
   ]
  },
  {
   "cell_type": "markdown",
   "metadata": {
    "id": "7HRaJrnFi6R3"
   },
   "source": [
    "According to the paper, they achieved better results by not filtering stopwords and lemmatizing. This first approach is not going to perform further filtering."
   ]
  },
  {
   "cell_type": "markdown",
   "metadata": {
    "id": "ZMsCz3HCgazH"
   },
   "source": [
    "Bag of words approach."
   ]
  },
  {
   "cell_type": "code",
   "execution_count": 24,
   "metadata": {
    "id": "dmTqjsOhgfjC"
   },
   "outputs": [],
   "source": [
    "vocab = []\n",
    "for sentence in df[\"CONTENT\"]:\n",
    "  for word in sentence.split():\n",
    "    vocab.append(word)"
   ]
  },
  {
   "cell_type": "code",
   "execution_count": 25,
   "metadata": {
    "colab": {
     "base_uri": "https://localhost:8080/"
    },
    "id": "wveeIDZ2gxbW",
    "outputId": "81c70ba8-0add-4509-ce21-2908ce74a0e5"
   },
   "outputs": [
    {
     "name": "stdout",
     "output_type": "stream",
     "text": [
      "3849\n"
     ]
    }
   ],
   "source": [
    "# Eliminate duplicate words in the vocabulary\n",
    "vocabulary = set(vocab)\n",
    "print(len(vocabulary))"
   ]
  },
  {
   "cell_type": "code",
   "execution_count": 26,
   "metadata": {
    "id": "UxhIOwDGlCZo"
   },
   "outputs": [],
   "source": [
    "for word in vocabulary:\n",
    "  df[word] = 0"
   ]
  },
  {
   "cell_type": "code",
   "execution_count": 27,
   "metadata": {
    "colab": {
     "base_uri": "https://localhost:8080/",
     "height": 678
    },
    "id": "GGtzs1zIlabD",
    "outputId": "aa49a162-de1b-42e1-a8b3-f81ed591f798"
   },
   "outputs": [
    {
     "data": {
      "text/html": [
       "<div>\n",
       "<style scoped>\n",
       "    .dataframe tbody tr th:only-of-type {\n",
       "        vertical-align: middle;\n",
       "    }\n",
       "\n",
       "    .dataframe tbody tr th {\n",
       "        vertical-align: top;\n",
       "    }\n",
       "\n",
       "    .dataframe thead th {\n",
       "        text-align: right;\n",
       "    }\n",
       "</style>\n",
       "<table border=\"1\" class=\"dataframe\">\n",
       "  <thead>\n",
       "    <tr style=\"text-align: right;\">\n",
       "      <th></th>\n",
       "      <th>CONTENT</th>\n",
       "      <th>CLASS</th>\n",
       "      <th>time</th>\n",
       "      <th>mic</th>\n",
       "      <th>loving</th>\n",
       "      <th>download</th>\n",
       "      <th>answer</th>\n",
       "      <th>arrowgance</th>\n",
       "      <th>activates</th>\n",
       "      <th>sorry</th>\n",
       "      <th>...</th>\n",
       "      <th>grave</th>\n",
       "      <th>plz</th>\n",
       "      <th>slr</th>\n",
       "      <th>j</th>\n",
       "      <th>stick</th>\n",
       "      <th>called</th>\n",
       "      <th>yet</th>\n",
       "      <th>jaylan</th>\n",
       "      <th>winning</th>\n",
       "      <th>thanx</th>\n",
       "    </tr>\n",
       "  </thead>\n",
       "  <tbody>\n",
       "    <tr>\n",
       "      <th>0</th>\n",
       "      <td>huh anyway check out this youtube channel koby...</td>\n",
       "      <td>1</td>\n",
       "      <td>0</td>\n",
       "      <td>0</td>\n",
       "      <td>0</td>\n",
       "      <td>0</td>\n",
       "      <td>0</td>\n",
       "      <td>0</td>\n",
       "      <td>0</td>\n",
       "      <td>0</td>\n",
       "      <td>...</td>\n",
       "      <td>0</td>\n",
       "      <td>0</td>\n",
       "      <td>0</td>\n",
       "      <td>0</td>\n",
       "      <td>0</td>\n",
       "      <td>0</td>\n",
       "      <td>0</td>\n",
       "      <td>0</td>\n",
       "      <td>0</td>\n",
       "      <td>0</td>\n",
       "    </tr>\n",
       "    <tr>\n",
       "      <th>1</th>\n",
       "      <td>hey guys check out my new channel and our firs...</td>\n",
       "      <td>1</td>\n",
       "      <td>0</td>\n",
       "      <td>0</td>\n",
       "      <td>0</td>\n",
       "      <td>0</td>\n",
       "      <td>0</td>\n",
       "      <td>0</td>\n",
       "      <td>0</td>\n",
       "      <td>0</td>\n",
       "      <td>...</td>\n",
       "      <td>0</td>\n",
       "      <td>0</td>\n",
       "      <td>0</td>\n",
       "      <td>0</td>\n",
       "      <td>0</td>\n",
       "      <td>0</td>\n",
       "      <td>0</td>\n",
       "      <td>0</td>\n",
       "      <td>0</td>\n",
       "      <td>0</td>\n",
       "    </tr>\n",
       "    <tr>\n",
       "      <th>2</th>\n",
       "      <td>just for test i have to say htmllink</td>\n",
       "      <td>1</td>\n",
       "      <td>0</td>\n",
       "      <td>0</td>\n",
       "      <td>0</td>\n",
       "      <td>0</td>\n",
       "      <td>0</td>\n",
       "      <td>0</td>\n",
       "      <td>0</td>\n",
       "      <td>0</td>\n",
       "      <td>...</td>\n",
       "      <td>0</td>\n",
       "      <td>0</td>\n",
       "      <td>0</td>\n",
       "      <td>0</td>\n",
       "      <td>0</td>\n",
       "      <td>0</td>\n",
       "      <td>0</td>\n",
       "      <td>0</td>\n",
       "      <td>0</td>\n",
       "      <td>0</td>\n",
       "    </tr>\n",
       "    <tr>\n",
       "      <th>3</th>\n",
       "      <td>me shaking my sexy ass on my channel enjoy _</td>\n",
       "      <td>1</td>\n",
       "      <td>0</td>\n",
       "      <td>0</td>\n",
       "      <td>0</td>\n",
       "      <td>0</td>\n",
       "      <td>0</td>\n",
       "      <td>0</td>\n",
       "      <td>0</td>\n",
       "      <td>0</td>\n",
       "      <td>...</td>\n",
       "      <td>0</td>\n",
       "      <td>0</td>\n",
       "      <td>0</td>\n",
       "      <td>0</td>\n",
       "      <td>0</td>\n",
       "      <td>0</td>\n",
       "      <td>0</td>\n",
       "      <td>0</td>\n",
       "      <td>0</td>\n",
       "      <td>0</td>\n",
       "    </tr>\n",
       "    <tr>\n",
       "      <th>4</th>\n",
       "      <td>htmllink check this out</td>\n",
       "      <td>1</td>\n",
       "      <td>0</td>\n",
       "      <td>0</td>\n",
       "      <td>0</td>\n",
       "      <td>0</td>\n",
       "      <td>0</td>\n",
       "      <td>0</td>\n",
       "      <td>0</td>\n",
       "      <td>0</td>\n",
       "      <td>...</td>\n",
       "      <td>0</td>\n",
       "      <td>0</td>\n",
       "      <td>0</td>\n",
       "      <td>0</td>\n",
       "      <td>0</td>\n",
       "      <td>0</td>\n",
       "      <td>0</td>\n",
       "      <td>0</td>\n",
       "      <td>0</td>\n",
       "      <td>0</td>\n",
       "    </tr>\n",
       "  </tbody>\n",
       "</table>\n",
       "<p>5 rows × 3851 columns</p>\n",
       "</div>"
      ],
      "text/plain": [
       "                                             CONTENT  CLASS  time  mic  \\\n",
       "0  huh anyway check out this youtube channel koby...      1     0    0   \n",
       "1  hey guys check out my new channel and our firs...      1     0    0   \n",
       "2               just for test i have to say htmllink      1     0    0   \n",
       "3       me shaking my sexy ass on my channel enjoy _      1     0    0   \n",
       "4                            htmllink check this out      1     0    0   \n",
       "\n",
       "   loving  download  answer  arrowgance  activates  sorry  ...  grave  plz  \\\n",
       "0       0         0       0           0          0      0  ...      0    0   \n",
       "1       0         0       0           0          0      0  ...      0    0   \n",
       "2       0         0       0           0          0      0  ...      0    0   \n",
       "3       0         0       0           0          0      0  ...      0    0   \n",
       "4       0         0       0           0          0      0  ...      0    0   \n",
       "\n",
       "   slr  j  stick  called  yet  jaylan  winning  thanx  \n",
       "0    0  0      0       0    0       0        0      0  \n",
       "1    0  0      0       0    0       0        0      0  \n",
       "2    0  0      0       0    0       0        0      0  \n",
       "3    0  0      0       0    0       0        0      0  \n",
       "4    0  0      0       0    0       0        0      0  \n",
       "\n",
       "[5 rows x 3851 columns]"
      ]
     },
     "execution_count": 27,
     "metadata": {},
     "output_type": "execute_result"
    }
   ],
   "source": [
    "df.head()"
   ]
  },
  {
   "cell_type": "code",
   "execution_count": 28,
   "metadata": {
    "colab": {
     "base_uri": "https://localhost:8080/"
    },
    "id": "ZQg6wZkEipTJ",
    "outputId": "79a5f0ce-5235-4104-85c0-982d60b12fc1"
   },
   "outputs": [
    {
     "name": "stderr",
     "output_type": "stream",
     "text": [
      "/Library/Frameworks/Python.framework/Versions/3.8/lib/python3.8/site-packages/pandas/core/indexing.py:671: SettingWithCopyWarning: \n",
      "A value is trying to be set on a copy of a slice from a DataFrame\n",
      "\n",
      "See the caveats in the documentation: https://pandas.pydata.org/pandas-docs/stable/user_guide/indexing.html#returning-a-view-versus-a-copy\n",
      "  self._setitem_with_indexer(indexer, value)\n"
     ]
    }
   ],
   "source": [
    "for index, sentence in enumerate(df[\"CONTENT\"]):\n",
    "  for word in sentence.split():\n",
    "    df[word].iloc[index] += 1  \n"
   ]
  },
  {
   "cell_type": "code",
   "execution_count": 29,
   "metadata": {
    "colab": {
     "base_uri": "https://localhost:8080/",
     "height": 678
    },
    "id": "88Fr-EqIl_zH",
    "outputId": "2d0b1982-7261-404c-acab-7ce4c0e67c20"
   },
   "outputs": [
    {
     "data": {
      "text/html": [
       "<div>\n",
       "<style scoped>\n",
       "    .dataframe tbody tr th:only-of-type {\n",
       "        vertical-align: middle;\n",
       "    }\n",
       "\n",
       "    .dataframe tbody tr th {\n",
       "        vertical-align: top;\n",
       "    }\n",
       "\n",
       "    .dataframe thead th {\n",
       "        text-align: right;\n",
       "    }\n",
       "</style>\n",
       "<table border=\"1\" class=\"dataframe\">\n",
       "  <thead>\n",
       "    <tr style=\"text-align: right;\">\n",
       "      <th></th>\n",
       "      <th>CONTENT</th>\n",
       "      <th>CLASS</th>\n",
       "      <th>time</th>\n",
       "      <th>mic</th>\n",
       "      <th>loving</th>\n",
       "      <th>download</th>\n",
       "      <th>answer</th>\n",
       "      <th>arrowgance</th>\n",
       "      <th>activates</th>\n",
       "      <th>sorry</th>\n",
       "      <th>...</th>\n",
       "      <th>grave</th>\n",
       "      <th>plz</th>\n",
       "      <th>slr</th>\n",
       "      <th>j</th>\n",
       "      <th>stick</th>\n",
       "      <th>called</th>\n",
       "      <th>yet</th>\n",
       "      <th>jaylan</th>\n",
       "      <th>winning</th>\n",
       "      <th>thanx</th>\n",
       "    </tr>\n",
       "  </thead>\n",
       "  <tbody>\n",
       "    <tr>\n",
       "      <th>0</th>\n",
       "      <td>huh anyway check out this youtube channel koby...</td>\n",
       "      <td>1</td>\n",
       "      <td>0</td>\n",
       "      <td>0</td>\n",
       "      <td>0</td>\n",
       "      <td>0</td>\n",
       "      <td>0</td>\n",
       "      <td>0</td>\n",
       "      <td>0</td>\n",
       "      <td>0</td>\n",
       "      <td>...</td>\n",
       "      <td>0</td>\n",
       "      <td>0</td>\n",
       "      <td>0</td>\n",
       "      <td>0</td>\n",
       "      <td>0</td>\n",
       "      <td>0</td>\n",
       "      <td>0</td>\n",
       "      <td>0</td>\n",
       "      <td>0</td>\n",
       "      <td>0</td>\n",
       "    </tr>\n",
       "    <tr>\n",
       "      <th>1</th>\n",
       "      <td>hey guys check out my new channel and our firs...</td>\n",
       "      <td>1</td>\n",
       "      <td>0</td>\n",
       "      <td>0</td>\n",
       "      <td>0</td>\n",
       "      <td>0</td>\n",
       "      <td>0</td>\n",
       "      <td>0</td>\n",
       "      <td>0</td>\n",
       "      <td>0</td>\n",
       "      <td>...</td>\n",
       "      <td>0</td>\n",
       "      <td>0</td>\n",
       "      <td>0</td>\n",
       "      <td>0</td>\n",
       "      <td>0</td>\n",
       "      <td>0</td>\n",
       "      <td>0</td>\n",
       "      <td>0</td>\n",
       "      <td>0</td>\n",
       "      <td>0</td>\n",
       "    </tr>\n",
       "    <tr>\n",
       "      <th>2</th>\n",
       "      <td>just for test i have to say htmllink</td>\n",
       "      <td>1</td>\n",
       "      <td>0</td>\n",
       "      <td>0</td>\n",
       "      <td>0</td>\n",
       "      <td>0</td>\n",
       "      <td>0</td>\n",
       "      <td>0</td>\n",
       "      <td>0</td>\n",
       "      <td>0</td>\n",
       "      <td>...</td>\n",
       "      <td>0</td>\n",
       "      <td>0</td>\n",
       "      <td>0</td>\n",
       "      <td>0</td>\n",
       "      <td>0</td>\n",
       "      <td>0</td>\n",
       "      <td>0</td>\n",
       "      <td>0</td>\n",
       "      <td>0</td>\n",
       "      <td>0</td>\n",
       "    </tr>\n",
       "    <tr>\n",
       "      <th>3</th>\n",
       "      <td>me shaking my sexy ass on my channel enjoy _</td>\n",
       "      <td>1</td>\n",
       "      <td>0</td>\n",
       "      <td>0</td>\n",
       "      <td>0</td>\n",
       "      <td>0</td>\n",
       "      <td>0</td>\n",
       "      <td>0</td>\n",
       "      <td>0</td>\n",
       "      <td>0</td>\n",
       "      <td>...</td>\n",
       "      <td>0</td>\n",
       "      <td>0</td>\n",
       "      <td>0</td>\n",
       "      <td>0</td>\n",
       "      <td>0</td>\n",
       "      <td>0</td>\n",
       "      <td>0</td>\n",
       "      <td>0</td>\n",
       "      <td>0</td>\n",
       "      <td>0</td>\n",
       "    </tr>\n",
       "    <tr>\n",
       "      <th>4</th>\n",
       "      <td>htmllink check this out</td>\n",
       "      <td>1</td>\n",
       "      <td>0</td>\n",
       "      <td>0</td>\n",
       "      <td>0</td>\n",
       "      <td>0</td>\n",
       "      <td>0</td>\n",
       "      <td>0</td>\n",
       "      <td>0</td>\n",
       "      <td>0</td>\n",
       "      <td>...</td>\n",
       "      <td>0</td>\n",
       "      <td>0</td>\n",
       "      <td>0</td>\n",
       "      <td>0</td>\n",
       "      <td>0</td>\n",
       "      <td>0</td>\n",
       "      <td>0</td>\n",
       "      <td>0</td>\n",
       "      <td>0</td>\n",
       "      <td>0</td>\n",
       "    </tr>\n",
       "  </tbody>\n",
       "</table>\n",
       "<p>5 rows × 3851 columns</p>\n",
       "</div>"
      ],
      "text/plain": [
       "                                             CONTENT  CLASS  time  mic  \\\n",
       "0  huh anyway check out this youtube channel koby...      1     0    0   \n",
       "1  hey guys check out my new channel and our firs...      1     0    0   \n",
       "2               just for test i have to say htmllink      1     0    0   \n",
       "3       me shaking my sexy ass on my channel enjoy _      1     0    0   \n",
       "4                            htmllink check this out      1     0    0   \n",
       "\n",
       "   loving  download  answer  arrowgance  activates  sorry  ...  grave  plz  \\\n",
       "0       0         0       0           0          0      0  ...      0    0   \n",
       "1       0         0       0           0          0      0  ...      0    0   \n",
       "2       0         0       0           0          0      0  ...      0    0   \n",
       "3       0         0       0           0          0      0  ...      0    0   \n",
       "4       0         0       0           0          0      0  ...      0    0   \n",
       "\n",
       "   slr  j  stick  called  yet  jaylan  winning  thanx  \n",
       "0    0  0      0       0    0       0        0      0  \n",
       "1    0  0      0       0    0       0        0      0  \n",
       "2    0  0      0       0    0       0        0      0  \n",
       "3    0  0      0       0    0       0        0      0  \n",
       "4    0  0      0       0    0       0        0      0  \n",
       "\n",
       "[5 rows x 3851 columns]"
      ]
     },
     "execution_count": 29,
     "metadata": {},
     "output_type": "execute_result"
    }
   ],
   "source": [
    "df.head()"
   ]
  },
  {
   "cell_type": "markdown",
   "metadata": {
    "id": "mUVVUwzvHr2j"
   },
   "source": [
    "Now we can create two dictionaries, for spam and not spam comments, containing the words and the total count"
   ]
  },
  {
   "cell_type": "code",
   "execution_count": 30,
   "metadata": {
    "colab": {
     "base_uri": "https://localhost:8080/",
     "height": 678
    },
    "id": "xtKkNRmmCtkj",
    "outputId": "b1b24561-3873-465d-dde4-b5ebc2016800"
   },
   "outputs": [
    {
     "name": "stderr",
     "output_type": "stream",
     "text": [
      "/Library/Frameworks/Python.framework/Versions/3.8/lib/python3.8/site-packages/pandas/core/indexing.py:671: SettingWithCopyWarning: \n",
      "A value is trying to be set on a copy of a slice from a DataFrame\n",
      "\n",
      "See the caveats in the documentation: https://pandas.pydata.org/pandas-docs/stable/user_guide/indexing.html#returning-a-view-versus-a-copy\n",
      "  self._setitem_with_indexer(indexer, value)\n"
     ]
    },
    {
     "data": {
      "text/html": [
       "<div>\n",
       "<style scoped>\n",
       "    .dataframe tbody tr th:only-of-type {\n",
       "        vertical-align: middle;\n",
       "    }\n",
       "\n",
       "    .dataframe tbody tr th {\n",
       "        vertical-align: top;\n",
       "    }\n",
       "\n",
       "    .dataframe thead th {\n",
       "        text-align: right;\n",
       "    }\n",
       "</style>\n",
       "<table border=\"1\" class=\"dataframe\">\n",
       "  <thead>\n",
       "    <tr style=\"text-align: right;\">\n",
       "      <th></th>\n",
       "      <th>CONTENT</th>\n",
       "      <th>CLASS</th>\n",
       "      <th>time</th>\n",
       "      <th>mic</th>\n",
       "      <th>loving</th>\n",
       "      <th>download</th>\n",
       "      <th>answer</th>\n",
       "      <th>arrowgance</th>\n",
       "      <th>activates</th>\n",
       "      <th>sorry</th>\n",
       "      <th>...</th>\n",
       "      <th>grave</th>\n",
       "      <th>plz</th>\n",
       "      <th>slr</th>\n",
       "      <th>j</th>\n",
       "      <th>stick</th>\n",
       "      <th>called</th>\n",
       "      <th>yet</th>\n",
       "      <th>jaylan</th>\n",
       "      <th>winning</th>\n",
       "      <th>thanx</th>\n",
       "    </tr>\n",
       "  </thead>\n",
       "  <tbody>\n",
       "    <tr>\n",
       "      <th>1944</th>\n",
       "      <td>hey music fans i really appreciate all of you ...</td>\n",
       "      <td>1.0</td>\n",
       "      <td>1.0</td>\n",
       "      <td>0.0</td>\n",
       "      <td>0.0</td>\n",
       "      <td>0.0</td>\n",
       "      <td>0.0</td>\n",
       "      <td>0.0</td>\n",
       "      <td>0.0</td>\n",
       "      <td>0.0</td>\n",
       "      <td>...</td>\n",
       "      <td>0.0</td>\n",
       "      <td>0.0</td>\n",
       "      <td>0.0</td>\n",
       "      <td>0.0</td>\n",
       "      <td>0.0</td>\n",
       "      <td>0.0</td>\n",
       "      <td>0.0</td>\n",
       "      <td>0.0</td>\n",
       "      <td>0.0</td>\n",
       "      <td>0.0</td>\n",
       "    </tr>\n",
       "    <tr>\n",
       "      <th>1945</th>\n",
       "      <td>check out my new mixtape check out my new mixt...</td>\n",
       "      <td>1.0</td>\n",
       "      <td>0.0</td>\n",
       "      <td>0.0</td>\n",
       "      <td>0.0</td>\n",
       "      <td>0.0</td>\n",
       "      <td>0.0</td>\n",
       "      <td>0.0</td>\n",
       "      <td>0.0</td>\n",
       "      <td>0.0</td>\n",
       "      <td>...</td>\n",
       "      <td>0.0</td>\n",
       "      <td>0.0</td>\n",
       "      <td>0.0</td>\n",
       "      <td>0.0</td>\n",
       "      <td>0.0</td>\n",
       "      <td>0.0</td>\n",
       "      <td>0.0</td>\n",
       "      <td>0.0</td>\n",
       "      <td>0.0</td>\n",
       "      <td>0.0</td>\n",
       "    </tr>\n",
       "    <tr>\n",
       "      <th>1946</th>\n",
       "      <td>check out my new mixtape check out my new mixt...</td>\n",
       "      <td>1.0</td>\n",
       "      <td>0.0</td>\n",
       "      <td>0.0</td>\n",
       "      <td>0.0</td>\n",
       "      <td>0.0</td>\n",
       "      <td>0.0</td>\n",
       "      <td>0.0</td>\n",
       "      <td>0.0</td>\n",
       "      <td>0.0</td>\n",
       "      <td>...</td>\n",
       "      <td>0.0</td>\n",
       "      <td>0.0</td>\n",
       "      <td>0.0</td>\n",
       "      <td>0.0</td>\n",
       "      <td>0.0</td>\n",
       "      <td>0.0</td>\n",
       "      <td>0.0</td>\n",
       "      <td>0.0</td>\n",
       "      <td>0.0</td>\n",
       "      <td>0.0</td>\n",
       "    </tr>\n",
       "    <tr>\n",
       "      <th>1947</th>\n",
       "      <td>check out my new mixtape check out my new mixt...</td>\n",
       "      <td>1.0</td>\n",
       "      <td>0.0</td>\n",
       "      <td>0.0</td>\n",
       "      <td>0.0</td>\n",
       "      <td>0.0</td>\n",
       "      <td>0.0</td>\n",
       "      <td>0.0</td>\n",
       "      <td>0.0</td>\n",
       "      <td>0.0</td>\n",
       "      <td>...</td>\n",
       "      <td>0.0</td>\n",
       "      <td>0.0</td>\n",
       "      <td>0.0</td>\n",
       "      <td>0.0</td>\n",
       "      <td>0.0</td>\n",
       "      <td>0.0</td>\n",
       "      <td>0.0</td>\n",
       "      <td>0.0</td>\n",
       "      <td>0.0</td>\n",
       "      <td>0.0</td>\n",
       "    </tr>\n",
       "    <tr>\n",
       "      <th>Total</th>\n",
       "      <td>NaN</td>\n",
       "      <td>1005.0</td>\n",
       "      <td>39.0</td>\n",
       "      <td>0.0</td>\n",
       "      <td>1.0</td>\n",
       "      <td>11.0</td>\n",
       "      <td>2.0</td>\n",
       "      <td>2.0</td>\n",
       "      <td>1.0</td>\n",
       "      <td>16.0</td>\n",
       "      <td>...</td>\n",
       "      <td>1.0</td>\n",
       "      <td>20.0</td>\n",
       "      <td>1.0</td>\n",
       "      <td>2.0</td>\n",
       "      <td>0.0</td>\n",
       "      <td>48.0</td>\n",
       "      <td>2.0</td>\n",
       "      <td>1.0</td>\n",
       "      <td>1.0</td>\n",
       "      <td>2.0</td>\n",
       "    </tr>\n",
       "  </tbody>\n",
       "</table>\n",
       "<p>5 rows × 3851 columns</p>\n",
       "</div>"
      ],
      "text/plain": [
       "                                                 CONTENT   CLASS  time  mic  \\\n",
       "1944   hey music fans i really appreciate all of you ...     1.0   1.0  0.0   \n",
       "1945   check out my new mixtape check out my new mixt...     1.0   0.0  0.0   \n",
       "1946   check out my new mixtape check out my new mixt...     1.0   0.0  0.0   \n",
       "1947   check out my new mixtape check out my new mixt...     1.0   0.0  0.0   \n",
       "Total                                                NaN  1005.0  39.0  0.0   \n",
       "\n",
       "       loving  download  answer  arrowgance  activates  sorry  ...  grave  \\\n",
       "1944      0.0       0.0     0.0         0.0        0.0    0.0  ...    0.0   \n",
       "1945      0.0       0.0     0.0         0.0        0.0    0.0  ...    0.0   \n",
       "1946      0.0       0.0     0.0         0.0        0.0    0.0  ...    0.0   \n",
       "1947      0.0       0.0     0.0         0.0        0.0    0.0  ...    0.0   \n",
       "Total     1.0      11.0     2.0         2.0        1.0   16.0  ...    1.0   \n",
       "\n",
       "        plz  slr    j  stick  called  yet  jaylan  winning  thanx  \n",
       "1944    0.0  0.0  0.0    0.0     0.0  0.0     0.0      0.0    0.0  \n",
       "1945    0.0  0.0  0.0    0.0     0.0  0.0     0.0      0.0    0.0  \n",
       "1946    0.0  0.0  0.0    0.0     0.0  0.0     0.0      0.0    0.0  \n",
       "1947    0.0  0.0  0.0    0.0     0.0  0.0     0.0      0.0    0.0  \n",
       "Total  20.0  1.0  2.0    0.0    48.0  2.0     1.0      1.0    2.0  \n",
       "\n",
       "[5 rows x 3851 columns]"
      ]
     },
     "execution_count": 30,
     "metadata": {},
     "output_type": "execute_result"
    }
   ],
   "source": [
    "df_spam =df[df[\"CLASS\"] == 1]\n",
    "df_spam.loc['Total']= df_spam.sum(numeric_only=True, axis=0)\n",
    "df_spam.tail()"
   ]
  },
  {
   "cell_type": "code",
   "execution_count": 31,
   "metadata": {
    "colab": {
     "base_uri": "https://localhost:8080/"
    },
    "id": "kZ9-WZFuKTwJ",
    "outputId": "40fd416c-d991-4e8b-a036-048fd723ee15"
   },
   "outputs": [
    {
     "name": "stdout",
     "output_type": "stream",
     "text": [
      "(1006, 3851)\n"
     ]
    }
   ],
   "source": [
    "print(df_spam.shape)"
   ]
  },
  {
   "cell_type": "code",
   "execution_count": 32,
   "metadata": {
    "colab": {
     "base_uri": "https://localhost:8080/",
     "height": 525
    },
    "id": "KLuxWj-cJKrr",
    "outputId": "3ab97ceb-1085-4fd5-b283-ef2e8bc148ac"
   },
   "outputs": [
    {
     "name": "stderr",
     "output_type": "stream",
     "text": [
      "/Library/Frameworks/Python.framework/Versions/3.8/lib/python3.8/site-packages/pandas/core/indexing.py:671: SettingWithCopyWarning: \n",
      "A value is trying to be set on a copy of a slice from a DataFrame\n",
      "\n",
      "See the caveats in the documentation: https://pandas.pydata.org/pandas-docs/stable/user_guide/indexing.html#returning-a-view-versus-a-copy\n",
      "  self._setitem_with_indexer(indexer, value)\n"
     ]
    },
    {
     "data": {
      "text/html": [
       "<div>\n",
       "<style scoped>\n",
       "    .dataframe tbody tr th:only-of-type {\n",
       "        vertical-align: middle;\n",
       "    }\n",
       "\n",
       "    .dataframe tbody tr th {\n",
       "        vertical-align: top;\n",
       "    }\n",
       "\n",
       "    .dataframe thead th {\n",
       "        text-align: right;\n",
       "    }\n",
       "</style>\n",
       "<table border=\"1\" class=\"dataframe\">\n",
       "  <thead>\n",
       "    <tr style=\"text-align: right;\">\n",
       "      <th></th>\n",
       "      <th>CONTENT</th>\n",
       "      <th>CLASS</th>\n",
       "      <th>time</th>\n",
       "      <th>mic</th>\n",
       "      <th>loving</th>\n",
       "      <th>download</th>\n",
       "      <th>answer</th>\n",
       "      <th>arrowgance</th>\n",
       "      <th>activates</th>\n",
       "      <th>sorry</th>\n",
       "      <th>...</th>\n",
       "      <th>grave</th>\n",
       "      <th>plz</th>\n",
       "      <th>slr</th>\n",
       "      <th>j</th>\n",
       "      <th>stick</th>\n",
       "      <th>called</th>\n",
       "      <th>yet</th>\n",
       "      <th>jaylan</th>\n",
       "      <th>winning</th>\n",
       "      <th>thanx</th>\n",
       "    </tr>\n",
       "  </thead>\n",
       "  <tbody>\n",
       "    <tr>\n",
       "      <th>1952</th>\n",
       "      <td>i love this song for two reasons 1it is about ...</td>\n",
       "      <td>0.0</td>\n",
       "      <td>0.0</td>\n",
       "      <td>0.0</td>\n",
       "      <td>0.0</td>\n",
       "      <td>0.0</td>\n",
       "      <td>0.0</td>\n",
       "      <td>0.0</td>\n",
       "      <td>0.0</td>\n",
       "      <td>0.0</td>\n",
       "      <td>...</td>\n",
       "      <td>0.0</td>\n",
       "      <td>0.0</td>\n",
       "      <td>0.0</td>\n",
       "      <td>0.0</td>\n",
       "      <td>0.0</td>\n",
       "      <td>0.0</td>\n",
       "      <td>0.0</td>\n",
       "      <td>0.0</td>\n",
       "      <td>0.0</td>\n",
       "      <td>0.0</td>\n",
       "    </tr>\n",
       "    <tr>\n",
       "      <th>1953</th>\n",
       "      <td>wow</td>\n",
       "      <td>0.0</td>\n",
       "      <td>0.0</td>\n",
       "      <td>0.0</td>\n",
       "      <td>0.0</td>\n",
       "      <td>0.0</td>\n",
       "      <td>0.0</td>\n",
       "      <td>0.0</td>\n",
       "      <td>0.0</td>\n",
       "      <td>0.0</td>\n",
       "      <td>...</td>\n",
       "      <td>0.0</td>\n",
       "      <td>0.0</td>\n",
       "      <td>0.0</td>\n",
       "      <td>0.0</td>\n",
       "      <td>0.0</td>\n",
       "      <td>0.0</td>\n",
       "      <td>0.0</td>\n",
       "      <td>0.0</td>\n",
       "      <td>0.0</td>\n",
       "      <td>0.0</td>\n",
       "    </tr>\n",
       "    <tr>\n",
       "      <th>1954</th>\n",
       "      <td>shakira u are so wiredo</td>\n",
       "      <td>0.0</td>\n",
       "      <td>0.0</td>\n",
       "      <td>0.0</td>\n",
       "      <td>0.0</td>\n",
       "      <td>0.0</td>\n",
       "      <td>0.0</td>\n",
       "      <td>0.0</td>\n",
       "      <td>0.0</td>\n",
       "      <td>0.0</td>\n",
       "      <td>...</td>\n",
       "      <td>0.0</td>\n",
       "      <td>0.0</td>\n",
       "      <td>0.0</td>\n",
       "      <td>0.0</td>\n",
       "      <td>0.0</td>\n",
       "      <td>0.0</td>\n",
       "      <td>0.0</td>\n",
       "      <td>0.0</td>\n",
       "      <td>0.0</td>\n",
       "      <td>0.0</td>\n",
       "    </tr>\n",
       "    <tr>\n",
       "      <th>1955</th>\n",
       "      <td>shakira is the best dancer</td>\n",
       "      <td>0.0</td>\n",
       "      <td>0.0</td>\n",
       "      <td>0.0</td>\n",
       "      <td>0.0</td>\n",
       "      <td>0.0</td>\n",
       "      <td>0.0</td>\n",
       "      <td>0.0</td>\n",
       "      <td>0.0</td>\n",
       "      <td>0.0</td>\n",
       "      <td>...</td>\n",
       "      <td>0.0</td>\n",
       "      <td>0.0</td>\n",
       "      <td>0.0</td>\n",
       "      <td>0.0</td>\n",
       "      <td>0.0</td>\n",
       "      <td>0.0</td>\n",
       "      <td>0.0</td>\n",
       "      <td>0.0</td>\n",
       "      <td>0.0</td>\n",
       "      <td>0.0</td>\n",
       "    </tr>\n",
       "    <tr>\n",
       "      <th>Total</th>\n",
       "      <td>NaN</td>\n",
       "      <td>0.0</td>\n",
       "      <td>16.0</td>\n",
       "      <td>1.0</td>\n",
       "      <td>3.0</td>\n",
       "      <td>0.0</td>\n",
       "      <td>0.0</td>\n",
       "      <td>0.0</td>\n",
       "      <td>0.0</td>\n",
       "      <td>5.0</td>\n",
       "      <td>...</td>\n",
       "      <td>0.0</td>\n",
       "      <td>0.0</td>\n",
       "      <td>0.0</td>\n",
       "      <td>0.0</td>\n",
       "      <td>1.0</td>\n",
       "      <td>1.0</td>\n",
       "      <td>2.0</td>\n",
       "      <td>0.0</td>\n",
       "      <td>0.0</td>\n",
       "      <td>0.0</td>\n",
       "    </tr>\n",
       "  </tbody>\n",
       "</table>\n",
       "<p>5 rows × 3851 columns</p>\n",
       "</div>"
      ],
      "text/plain": [
       "                                                 CONTENT  CLASS  time  mic  \\\n",
       "1952   i love this song for two reasons 1it is about ...    0.0   0.0  0.0   \n",
       "1953                                                 wow    0.0   0.0  0.0   \n",
       "1954                             shakira u are so wiredo    0.0   0.0  0.0   \n",
       "1955                          shakira is the best dancer    0.0   0.0  0.0   \n",
       "Total                                                NaN    0.0  16.0  1.0   \n",
       "\n",
       "       loving  download  answer  arrowgance  activates  sorry  ...  grave  \\\n",
       "1952      0.0       0.0     0.0         0.0        0.0    0.0  ...    0.0   \n",
       "1953      0.0       0.0     0.0         0.0        0.0    0.0  ...    0.0   \n",
       "1954      0.0       0.0     0.0         0.0        0.0    0.0  ...    0.0   \n",
       "1955      0.0       0.0     0.0         0.0        0.0    0.0  ...    0.0   \n",
       "Total     3.0       0.0     0.0         0.0        0.0    5.0  ...    0.0   \n",
       "\n",
       "       plz  slr    j  stick  called  yet  jaylan  winning  thanx  \n",
       "1952   0.0  0.0  0.0    0.0     0.0  0.0     0.0      0.0    0.0  \n",
       "1953   0.0  0.0  0.0    0.0     0.0  0.0     0.0      0.0    0.0  \n",
       "1954   0.0  0.0  0.0    0.0     0.0  0.0     0.0      0.0    0.0  \n",
       "1955   0.0  0.0  0.0    0.0     0.0  0.0     0.0      0.0    0.0  \n",
       "Total  0.0  0.0  0.0    1.0     1.0  2.0     0.0      0.0    0.0  \n",
       "\n",
       "[5 rows x 3851 columns]"
      ]
     },
     "execution_count": 32,
     "metadata": {},
     "output_type": "execute_result"
    }
   ],
   "source": [
    "df_not_spam =df[df[\"CLASS\"] == 0]\n",
    "df_not_spam.loc['Total']= df_not_spam.sum(numeric_only=True, axis=0)\n",
    "df_not_spam.tail()"
   ]
  },
  {
   "cell_type": "code",
   "execution_count": 33,
   "metadata": {
    "colab": {
     "base_uri": "https://localhost:8080/"
    },
    "id": "c5_Jz4V4Kt3d",
    "outputId": "d5ac33f9-b53d-464d-ebf9-8ebc00146db8"
   },
   "outputs": [
    {
     "name": "stdout",
     "output_type": "stream",
     "text": [
      "(952, 3851)\n"
     ]
    }
   ],
   "source": [
    "print(df_not_spam.shape)"
   ]
  },
  {
   "cell_type": "markdown",
   "metadata": {
    "id": "Asqqc7P2IAPe"
   },
   "source": [
    "Drop the first two columns of each dictionary."
   ]
  },
  {
   "cell_type": "code",
   "execution_count": 34,
   "metadata": {
    "colab": {
     "base_uri": "https://localhost:8080/"
    },
    "id": "PEv6DKNGE8Al",
    "outputId": "3aba08ae-50ea-490a-fe58-ab13b2cc1c0f"
   },
   "outputs": [
    {
     "name": "stderr",
     "output_type": "stream",
     "text": [
      "/Library/Frameworks/Python.framework/Versions/3.8/lib/python3.8/site-packages/pandas/core/frame.py:3990: SettingWithCopyWarning: \n",
      "A value is trying to be set on a copy of a slice from a DataFrame\n",
      "\n",
      "See the caveats in the documentation: https://pandas.pydata.org/pandas-docs/stable/user_guide/indexing.html#returning-a-view-versus-a-copy\n",
      "  return super().drop(\n"
     ]
    }
   ],
   "source": [
    "df_spam.drop(\"CONTENT\",1,inplace=True)\n",
    "df_spam.drop(\"CLASS\",1,inplace=True)\n",
    "df_not_spam.drop(\"CONTENT\",1,inplace=True)\n",
    "df_not_spam.drop(\"CLASS\",1,inplace=True)"
   ]
  },
  {
   "cell_type": "code",
   "execution_count": 35,
   "metadata": {
    "id": "oJH-XxYDDaw0"
   },
   "outputs": [],
   "source": [
    "dict_spam = {word: count for word, count in zip(df_spam.columns,df_spam.loc['Total'])}\n",
    "dict_not_spam = {word: count for word, count in zip(df_not_spam.columns,df_not_spam.loc['Total'])}"
   ]
  },
  {
   "cell_type": "code",
   "execution_count": 36,
   "metadata": {
    "colab": {
     "base_uri": "https://localhost:8080/"
    },
    "id": "WjFzqN2TGKRL",
    "outputId": "8069ab8c-6805-41f4-a2e4-ae278d8c11e7"
   },
   "outputs": [
    {
     "name": "stdout",
     "output_type": "stream",
     "text": [
      "[('out', 569.0), ('check', 545.0), ('htmllink', 514.0), ('my', 512.0), ('and', 485.0), ('to', 480.0), ('you', 463.0), ('i', 457.0), ('the', 413.0), ('a', 389.0)]\n",
      "[('this', 293.0), ('i', 284.0), ('the', 278.0), ('song', 217.0), ('is', 214.0), ('love', 144.0), ('to', 133.0), ('and', 132.0), ('a', 114.0), ('it', 112.0)]\n"
     ]
    }
   ],
   "source": [
    "sorted_spam = sorted(dict_spam.items(),key=lambda x: x[1], reverse=True)\n",
    "sorted_not_spam = sorted(dict_not_spam.items(),key=lambda x: x[1], reverse=True)\n",
    "print(sorted_spam[:10])\n",
    "print(sorted_not_spam[:10])"
   ]
  },
  {
   "cell_type": "code",
   "execution_count": 37,
   "metadata": {
    "colab": {
     "base_uri": "https://localhost:8080/",
     "height": 142
    },
    "id": "WQRHGj2tnOMn",
    "outputId": "a74309ee-4b10-4701-f7c3-0a7dfc99d9d4"
   },
   "outputs": [
    {
     "data": {
      "text/html": [
       "<div>\n",
       "<style scoped>\n",
       "    .dataframe tbody tr th:only-of-type {\n",
       "        vertical-align: middle;\n",
       "    }\n",
       "\n",
       "    .dataframe tbody tr th {\n",
       "        vertical-align: top;\n",
       "    }\n",
       "\n",
       "    .dataframe thead th {\n",
       "        text-align: right;\n",
       "    }\n",
       "</style>\n",
       "<table border=\"1\" class=\"dataframe\">\n",
       "  <thead>\n",
       "    <tr style=\"text-align: right;\">\n",
       "      <th>col_0</th>\n",
       "      <th>Count</th>\n",
       "    </tr>\n",
       "    <tr>\n",
       "      <th>CLASS</th>\n",
       "      <th></th>\n",
       "    </tr>\n",
       "  </thead>\n",
       "  <tbody>\n",
       "    <tr>\n",
       "      <th>0</th>\n",
       "      <td>951</td>\n",
       "    </tr>\n",
       "    <tr>\n",
       "      <th>1</th>\n",
       "      <td>1005</td>\n",
       "    </tr>\n",
       "  </tbody>\n",
       "</table>\n",
       "</div>"
      ],
      "text/plain": [
       "col_0  Count\n",
       "CLASS       \n",
       "0        951\n",
       "1       1005"
      ]
     },
     "execution_count": 37,
     "metadata": {},
     "output_type": "execute_result"
    }
   ],
   "source": [
    "X = df.iloc[:,2:]\n",
    "y = df.iloc[:,1]\n",
    "pd.crosstab(index=y,columns=\"Count\")"
   ]
  },
  {
   "cell_type": "code",
   "execution_count": 38,
   "metadata": {
    "id": "ZO_zU6ycnm_x"
   },
   "outputs": [],
   "source": [
    "from sklearn.model_selection import train_test_split\n",
    "X_train, X_test, y_train, y_test = train_test_split(X, y, test_size=0.25)"
   ]
  },
  {
   "cell_type": "code",
   "execution_count": 39,
   "metadata": {
    "colab": {
     "base_uri": "https://localhost:8080/"
    },
    "id": "tMY97kNyoPkW",
    "outputId": "6b11e30e-039b-4978-84a4-7fe138c7d0d1"
   },
   "outputs": [
    {
     "name": "stdout",
     "output_type": "stream",
     "text": [
      "SVC(C=1.0, break_ties=False, cache_size=200, class_weight=None, coef0=0.0,\n",
      "    decision_function_shape='ovr', degree=3, gamma=0.001, kernel='linear',\n",
      "    max_iter=-1, probability=False, random_state=0, shrinking=True, tol=0.001,\n",
      "    verbose=False)\n"
     ]
    }
   ],
   "source": [
    "from sklearn.svm import SVC #support vector classifier\n",
    "clf = SVC(kernel='linear', random_state=0, gamma=0.001).fit(X_train, y_train)\n",
    "print(clf)"
   ]
  },
  {
   "cell_type": "code",
   "execution_count": 40,
   "metadata": {
    "colab": {
     "base_uri": "https://localhost:8080/",
     "height": 279
    },
    "id": "ZoMSwJddoWNh",
    "outputId": "cbe53dee-7b68-45a0-8be7-ea917f341254"
   },
   "outputs": [
    {
     "data": {
      "image/png": "[encoded data removed]",
      "text/plain": [
       "<Figure size 432x288 with 2 Axes>"
      ]
     },
     "metadata": {
      "needs_background": "light"
     },
     "output_type": "display_data"
    }
   ],
   "source": [
    "from sklearn.metrics import confusion_matrix, classification_report\n",
    "import seaborn as sns\n",
    "y_pred = clf.predict(X_test)\n",
    "mat = confusion_matrix(y_test, y_pred) #Print the number of good/bad classified points \n",
    "sns.heatmap(mat.T, square=True, annot=True, fmt='d', cbar=True,\n",
    "            xticklabels=[0,1], yticklabels=[0,1])\n",
    "plt.xlabel('true label')\n",
    "plt.ylabel('predicted label');"
   ]
  },
  {
   "cell_type": "code",
   "execution_count": 41,
   "metadata": {
    "colab": {
     "base_uri": "https://localhost:8080/"
    },
    "id": "BHc17uExojH-",
    "outputId": "45a8c4d6-b6d4-4442-e6ef-67d581573e70"
   },
   "outputs": [
    {
     "name": "stdout",
     "output_type": "stream",
     "text": [
      "              precision    recall  f1-score   support\n",
      "\n",
      "           0       0.93      0.95      0.94       233\n",
      "           1       0.95      0.93      0.94       256\n",
      "\n",
      "    accuracy                           0.94       489\n",
      "   macro avg       0.94      0.94      0.94       489\n",
      "weighted avg       0.94      0.94      0.94       489\n",
      "\n"
     ]
    }
   ],
   "source": [
    "print(classification_report(y_test,y_pred))"
   ]
  },
  {
   "cell_type": "markdown",
   "metadata": {},
   "source": [
    "Implementing Naive Bayes model on the train dataset classified with bag2words approach"
   ]
  },
  {
   "cell_type": "code",
   "execution_count": 42,
   "metadata": {},
   "outputs": [],
   "source": [
    "# import and initialize a Multinomial Naive Bayes model\n",
    "from sklearn.naive_bayes import MultinomialNB\n",
    "nb = MultinomialNB(alpha=0.75)"
   ]
  },
  {
   "cell_type": "code",
   "execution_count": 43,
   "metadata": {},
   "outputs": [
    {
     "data": {
      "text/plain": [
       "MultinomialNB(alpha=0.75, class_prior=None, fit_prior=True)"
      ]
     },
     "execution_count": 43,
     "metadata": {},
     "output_type": "execute_result"
    }
   ],
   "source": [
    "#Train model\n",
    "nb.fit(X_train, y_train)"
   ]
  },
  {
   "cell_type": "code",
   "execution_count": 44,
   "metadata": {},
   "outputs": [],
   "source": [
    "#Predict the outcome of either spam or ham\n",
    "y_pred_NB = nb.predict(X_test)"
   ]
  },
  {
   "cell_type": "code",
   "execution_count": 45,
   "metadata": {},
   "outputs": [
    {
     "data": {
      "text/plain": [
       "0.9222903885480572"
      ]
     },
     "execution_count": 45,
     "metadata": {},
     "output_type": "execute_result"
    }
   ],
   "source": [
    "# calculate accuracy of class predictions\n",
    "from sklearn import metrics\n",
    "metrics.accuracy_score(y_test, y_pred_NB)"
   ]
  },
  {
   "cell_type": "code",
   "execution_count": 46,
   "metadata": {},
   "outputs": [
    {
     "data": {
      "image/png": "[encoded data removed]",
      "text/plain": [
       "<Figure size 432x288 with 2 Axes>"
      ]
     },
     "metadata": {
      "needs_background": "light"
     },
     "output_type": "display_data"
    }
   ],
   "source": [
    "from sklearn.metrics import confusion_matrix, classification_report\n",
    "import seaborn as sns\n",
    "y_pred = nb.predict(X_test)\n",
    "mat = confusion_matrix(y_test, y_pred_NB) #Print the number of good/bad classified points \n",
    "sns.heatmap(mat.T, square=True, annot=True, fmt='d', cbar=True,\n",
    "            xticklabels=[0,1], yticklabels=[0,1])\n",
    "plt.xlabel('true label')\n",
    "plt.ylabel('predicted label');"
   ]
  },
  {
   "cell_type": "code",
   "execution_count": 47,
   "metadata": {},
   "outputs": [
    {
     "name": "stdout",
     "output_type": "stream",
     "text": [
      "              precision    recall  f1-score   support\n",
      "\n",
      "           0     0.9295    0.9056    0.9174       233\n",
      "           1     0.9160    0.9375    0.9266       256\n",
      "\n",
      "    accuracy                         0.9223       489\n",
      "   macro avg     0.9228    0.9215    0.9220       489\n",
      "weighted avg     0.9225    0.9223    0.9222       489\n",
      "\n"
     ]
    }
   ],
   "source": [
    "from sklearn.metrics import classification_report\n",
    "print(classification_report(y_test, y_pred_NB, digits=4))"
   ]
  },
  {
   "cell_type": "markdown",
   "metadata": {},
   "source": [
    "Implementing KNN model on the train dataset classified with bag2words approach"
   ]
  },
  {
   "cell_type": "markdown",
   "metadata": {},
   "source": [
    "Feature Scaling"
   ]
  },
  {
   "cell_type": "code",
   "execution_count": 48,
   "metadata": {},
   "outputs": [],
   "source": [
    "from sklearn.preprocessing import StandardScaler\n",
    "scaler = StandardScaler()\n",
    "scaler.fit(X_train)\n",
    "\n",
    "X_train = scaler.transform(X_train)\n",
    "X_test = scaler.transform(X_test)"
   ]
  },
  {
   "cell_type": "markdown",
   "metadata": {},
   "source": [
    "Training and Predictions"
   ]
  },
  {
   "cell_type": "code",
   "execution_count": 49,
   "metadata": {},
   "outputs": [
    {
     "data": {
      "text/plain": [
       "KNeighborsClassifier(algorithm='auto', leaf_size=30, metric='minkowski',\n",
       "                     metric_params=None, n_jobs=None, n_neighbors=5, p=2,\n",
       "                     weights='uniform')"
      ]
     },
     "execution_count": 49,
     "metadata": {},
     "output_type": "execute_result"
    }
   ],
   "source": [
    "from sklearn.neighbors import KNeighborsClassifier\n",
    "classifier = KNeighborsClassifier(n_neighbors=5)\n",
    "classifier.fit(X_train, y_train)"
   ]
  },
  {
   "cell_type": "code",
   "execution_count": 50,
   "metadata": {},
   "outputs": [],
   "source": [
    "y_pred = classifier.predict(X_test)"
   ]
  },
  {
   "cell_type": "markdown",
   "metadata": {},
   "source": [
    "Evaluating the Algorithm"
   ]
  },
  {
   "cell_type": "code",
   "execution_count": 51,
   "metadata": {},
   "outputs": [
    {
     "name": "stdout",
     "output_type": "stream",
     "text": [
      "[[229   4]\n",
      " [ 74 182]]\n",
      "              precision    recall  f1-score   support\n",
      "\n",
      "           0       0.76      0.98      0.85       233\n",
      "           1       0.98      0.71      0.82       256\n",
      "\n",
      "    accuracy                           0.84       489\n",
      "   macro avg       0.87      0.85      0.84       489\n",
      "weighted avg       0.87      0.84      0.84       489\n",
      "\n"
     ]
    }
   ],
   "source": [
    "from sklearn.metrics import classification_report, confusion_matrix\n",
    "print(confusion_matrix(y_test, y_pred))\n",
    "print(classification_report(y_test, y_pred))"
   ]
  },
  {
   "cell_type": "markdown",
   "metadata": {},
   "source": [
    "Comparing Error Rate with the K Value"
   ]
  },
  {
   "cell_type": "code",
   "execution_count": 52,
   "metadata": {},
   "outputs": [],
   "source": [
    "error = []\n",
    "\n",
    "# Calculating error for K values between 1 and 40\n",
    "for i in range(1, 40):\n",
    "    knn = KNeighborsClassifier(n_neighbors=i)\n",
    "    knn.fit(X_train, y_train)\n",
    "    pred_i = knn.predict(X_test)\n",
    "    error.append(np.mean(pred_i != y_test))"
   ]
  },
  {
   "cell_type": "code",
   "execution_count": 53,
   "metadata": {},
   "outputs": [
    {
     "data": {
      "text/plain": [
       "Text(0, 0.5, 'Mean Error')"
      ]
     },
     "execution_count": 53,
     "metadata": {},
     "output_type": "execute_result"
    },
    {
     "data": {
      "image/png": "[encoded data removed]",
      "text/plain": [
       "<Figure size 864x432 with 1 Axes>"
      ]
     },
     "metadata": {
      "needs_background": "light"
     },
     "output_type": "display_data"
    }
   ],
   "source": [
    "plt.figure(figsize=(12, 6))\n",
    "plt.plot(range(1, 40), error, color='red', linestyle='dashed', marker='o',\n",
    "         markerfacecolor='blue', markersize=10)\n",
    "plt.title('Error Rate K Value')\n",
    "plt.xlabel('K Value')\n",
    "plt.ylabel('Mean Error')"
   ]
  },
  {
   "cell_type": "markdown",
   "metadata": {},
   "source": [
    " The mean error is low when the value of the K is 5 and 9"
   ]
  },
  {
   "cell_type": "markdown",
   "metadata": {
    "id": "OqeTmtg8bd05"
   },
   "source": [
    "# **Word2Vec Model**"
   ]
  },
  {
   "cell_type": "code",
   "execution_count": 54,
   "metadata": {
    "id": "WZEKa9PibdMq"
   },
   "outputs": [],
   "source": [
    "#pip install --upgrade gensim"
   ]
  },
  {
   "cell_type": "code",
   "execution_count": 55,
   "metadata": {},
   "outputs": [],
   "source": [
    "import spacy\n",
    "import multiprocessing\n",
    "from gensim.models import Word2Vec\n",
    "from gensim.models.phrases import Phrases, Phraser\n",
    "import sys"
   ]
  },
  {
   "cell_type": "code",
   "execution_count": 56,
   "metadata": {
    "id": "SdxwCR-D2B2T"
   },
   "outputs": [
    {
     "name": "stdout",
     "output_type": "stream",
     "text": [
      "Traceback (most recent call last):\r\n",
      "  File \"/System/Library/Frameworks/Python.framework/Versions/2.7/lib/python2.7/runpy.py\", line 163, in _run_module_as_main\r\n",
      "    mod_name, _Error)\r\n",
      "  File \"/System/Library/Frameworks/Python.framework/Versions/2.7/lib/python2.7/runpy.py\", line 111, in _get_module_details\r\n",
      "    __import__(mod_name)  # Do not catch exceptions initializing package\r\n",
      "  File \"/Users/toedark/Library/Python/2.7/lib/python/site-packages/spacy/__init__.py\", line 12, in <module>\r\n",
      "    from . import pipeline\r\n",
      "  File \"/Users/toedark/Library/Python/2.7/lib/python/site-packages/spacy/pipeline/__init__.py\", line 4, in <module>\r\n",
      "    from .pipes import Tagger, DependencyParser, EntityRecognizer, EntityLinker\r\n",
      "  File \"pipes.pyx\", line 25, in init spacy.pipeline.pipes\r\n",
      "  File \"/Users/toedark/Library/Python/2.7/lib/python/site-packages/spacy/pipeline/functions.py\", line 4, in <module>\r\n",
      "    from ..language import component\r\n",
      "  File \"/Users/toedark/Library/Python/2.7/lib/python/site-packages/spacy/language.py\", line 31, in <module>\r\n",
      "    from .lang.tokenizer_exceptions import TOKEN_MATCH, URL_MATCH\r\n",
      "  File \"/Users/toedark/Library/Python/2.7/lib/python/site-packages/spacy/lang/tokenizer_exceptions.py\", line 62, in <module>\r\n",
      "    URL_MATCH = re.compile(\"(?u)\" + URL_PATTERN).match\r\n",
      "  File \"/System/Library/Frameworks/Python.framework/Versions/2.7/lib/python2.7/re.py\", line 194, in compile\r\n",
      "    return _compile(pattern, flags)\r\n",
      "  File \"/System/Library/Frameworks/Python.framework/Versions/2.7/lib/python2.7/re.py\", line 251, in _compile\r\n",
      "    raise error, v # invalid expression\r\n",
      "sre_constants.error: bad character range\r\n"
     ]
    }
   ],
   "source": [
    "df.to_csv(\"clean_comments.csv\")\n",
    "!python -m spacy download en"
   ]
  },
  {
   "cell_type": "code",
   "execution_count": null,
   "metadata": {},
   "outputs": [],
   "source": [
    " "
   ]
  },
  {
   "cell_type": "code",
   "execution_count": 57,
   "metadata": {
    "id": "Sigr70fJZHYM"
   },
   "outputs": [],
   "source": [
    "class W2V_embedding:\n",
    "  def __init__(self, document, lemma, stopwords, min_count, window, nlp):\n",
    "    self.document = document\n",
    "    self.nlp = nlp\n",
    "    self.lemma = lemma\n",
    "    self.stopwords = stopwords\n",
    "    self.min_count = min_count\n",
    "    self.window = window\n",
    "  def clean_sentence(self, sentence):\n",
    "    # Lemmatizes and removes stopwords\n",
    "    if self.lemma and self.stopwords:\n",
    "      txt = [token.lemma_ for token in sentence if not token.is_stop]\n",
    "    elif self.lemma:\n",
    "      txt = [token.lemma_ for token in sentence ]\n",
    "    elif self.stopwords:\n",
    "      txt = [token for token in sentence if not token.is_stop]\n",
    "    return ' '.join(txt)\n",
    "  def clean_document(self):\n",
    "    #Clean and drop duplicates from the comments in the dataset.\n",
    "    txt = [self.clean_sentence(sentence) for sentence in self.nlp.pipe(self.document, batch_size=500, n_threads=-1)]\n",
    "    df_clean = pd.DataFrame({'clean': txt})\n",
    "    df_clean = df_clean.dropna().drop_duplicates()\n",
    "    sentences = [row.split() for row in df_clean['clean']]\n",
    "    return sentences\n",
    "  def run(self):\n",
    "    self.sentences = self.clean_document()\n",
    "    cores = multiprocessing.cpu_count() \n",
    "    w2v_model = Word2Vec(min_count=self.min_count,\n",
    "                     window=self.window,\n",
    "                     size=300,\n",
    "                     workers=cores-1)\n",
    "    w2v_model.build_vocab(self.sentences, progress_per=100)\n",
    "    w2v_model.train(self.sentences, total_examples=w2v_model.corpus_count, epochs=50, report_delay=1)\n",
    "    w2v_model.init_sims(replace=True)\n",
    "    return w2v_model\n"
   ]
  },
  {
   "cell_type": "code",
   "execution_count": 58,
   "metadata": {
    "id": "95qgUMSrg4B2"
   },
   "outputs": [],
   "source": [
    "nlp = spacy.load('en', disable=['ner','parser'])\n",
    "init_w2v = W2V_embedding(min_count=1, window=5, lemma=True, stopwords=True, document=df[\"CONTENT\"], nlp=nlp)\n",
    "w2v_model = init_w2v.run()"
   ]
  },
  {
   "cell_type": "code",
   "execution_count": 59,
   "metadata": {
    "colab": {
     "base_uri": "https://localhost:8080/"
    },
    "id": "65Si6yoOodqG",
    "outputId": "825c623d-5993-4b0b-a72c-e4965e5514e5"
   },
   "outputs": [
    {
     "data": {
      "text/plain": [
       "[('second', 0.9786516427993774),\n",
       " ('kitten', 0.9653494954109192),\n",
       " ('think', 0.9573882818222046),\n",
       " ('let', 0.9561957716941833),\n",
       " ('d', 0.9505674839019775),\n",
       " ('you39re', 0.9475746154785156),\n",
       " ('miss', 0.9452927112579346),\n",
       " ('loose', 0.9434001445770264),\n",
       " ('people', 0.939258337020874),\n",
       " ('not', 0.9374794960021973)]"
      ]
     },
     "execution_count": 59,
     "metadata": {},
     "output_type": "execute_result"
    }
   ],
   "source": [
    "w2v_model.wv.most_similar(positive=[\"like\"])"
   ]
  },
  {
   "cell_type": "code",
   "execution_count": 60,
   "metadata": {
    "colab": {
     "base_uri": "https://localhost:8080/"
    },
    "id": "ZK91MizzleNb",
    "outputId": "1a7e66d8-a7bf-478f-f552-83f21b03e6d7"
   },
   "outputs": [
    {
     "name": "stderr",
     "output_type": "stream",
     "text": [
      "<ipython-input-60-09fbaba9c113>:9: DeprecationWarning: Call to deprecated `__getitem__` (Method will be removed in 4.0.0, use self.wv.__getitem__() instead).\n",
      "  sentence_vector.append(w2v_model[word] )\n",
      "/Library/Frameworks/Python.framework/Versions/3.8/lib/python3.8/site-packages/numpy/core/fromnumeric.py:3334: RuntimeWarning: Mean of empty slice.\n",
      "  return _methods._mean(a, axis=axis, dtype=dtype,\n",
      "/Library/Frameworks/Python.framework/Versions/3.8/lib/python3.8/site-packages/numpy/core/_methods.py:161: RuntimeWarning: invalid value encountered in double_scalars\n",
      "  ret = ret.dtype.type(ret / rcount)\n"
     ]
    }
   ],
   "source": [
    "comments_array = np.zeros(shape=(len(df[\"CONTENT\"]),300))\n",
    "for index, sentence in enumerate(df[\"CONTENT\"]):\n",
    "  tokens = nlp(sentence)\n",
    "  clean_sentence = [token.lemma_ for token in tokens if not token.is_stop]\n",
    "  #clean_sentence = [str(token) for token in tokens ]\n",
    "  sentence_vector = []\n",
    "  for word in clean_sentence: # In the case a word is not found in the vocabulary, we will append a vector of zeros instead\n",
    "    try: \n",
    "      sentence_vector.append(w2v_model[word] ) \n",
    "    except:\n",
    "      sentence_vector.append(np.zeros(300))\n",
    "      print(word, 'not found')\n",
    "  comments_array[index] = np.mean(sentence_vector,axis=0)"
   ]
  },
  {
   "cell_type": "code",
   "execution_count": 61,
   "metadata": {
    "id": "6TZwMr73mTcf"
   },
   "outputs": [],
   "source": [
    "X = comments_array\n",
    "isnan = np.argwhere(np.isnan(X))\n",
    "nan_comments = sorted(set(isnan[:,0])) #index of comments that are NaN values"
   ]
  },
  {
   "cell_type": "code",
   "execution_count": 62,
   "metadata": {
    "id": "9RYibECLlz43"
   },
   "outputs": [],
   "source": [
    "X[nan_comments,:] = np.zeros(300) # translating NaN comments to an array of zeroes\n",
    "y = df.iloc[:,1]"
   ]
  },
  {
   "cell_type": "code",
   "execution_count": 63,
   "metadata": {
    "colab": {
     "base_uri": "https://localhost:8080/"
    },
    "id": "qzS1JoOGmEmp",
    "outputId": "d102315e-809d-4dab-c7eb-814e88ef72ab"
   },
   "outputs": [
    {
     "name": "stdout",
     "output_type": "stream",
     "text": [
      "SVC(C=1.0, break_ties=False, cache_size=200, class_weight=None, coef0=0.0,\n",
      "    decision_function_shape='ovr', degree=3, gamma=0.001, kernel='linear',\n",
      "    max_iter=-1, probability=False, random_state=0, shrinking=True, tol=0.001,\n",
      "    verbose=False)\n"
     ]
    }
   ],
   "source": [
    "X_train, X_test, y_train, y_test = train_test_split(X, y, test_size=0.25)\n",
    "clf = SVC(kernel='linear', random_state=0, gamma=0.001).fit(X_train, y_train)\n",
    "print(clf)"
   ]
  },
  {
   "cell_type": "code",
   "execution_count": 64,
   "metadata": {
    "colab": {
     "base_uri": "https://localhost:8080/",
     "height": 279
    },
    "id": "gkLZczIcmHf0",
    "outputId": "d8e58e16-b58c-4b9c-8e27-12c0166bbe77"
   },
   "outputs": [
    {
     "data": {
      "image/png": "[encoded data removed]",
      "text/plain": [
       "<Figure size 432x288 with 2 Axes>"
      ]
     },
     "metadata": {
      "needs_background": "light"
     },
     "output_type": "display_data"
    }
   ],
   "source": [
    "y_pred = clf.predict(X_test)\n",
    "mat = confusion_matrix(y_test, y_pred) #Print the number of good/bad classified points \n",
    "sns.heatmap(mat.T, square=True, annot=True, fmt='d', cbar=True,\n",
    "            xticklabels=[0,1], yticklabels=[0,1])\n",
    "plt.xlabel('true label')\n",
    "plt.ylabel('predicted label');"
   ]
  },
  {
   "cell_type": "code",
   "execution_count": 65,
   "metadata": {
    "colab": {
     "base_uri": "https://localhost:8080/"
    },
    "id": "JNJd5ab-mcr9",
    "outputId": "cde32714-8710-41ce-b79f-4e02986ba6c2"
   },
   "outputs": [
    {
     "name": "stdout",
     "output_type": "stream",
     "text": [
      "              precision    recall  f1-score   support\n",
      "\n",
      "           0       0.87      0.88      0.87       247\n",
      "           1       0.87      0.86      0.87       242\n",
      "\n",
      "    accuracy                           0.87       489\n",
      "   macro avg       0.87      0.87      0.87       489\n",
      "weighted avg       0.87      0.87      0.87       489\n",
      "\n"
     ]
    }
   ],
   "source": [
    "print(classification_report(y_test,y_pred))"
   ]
  },
  {
   "cell_type": "markdown",
   "metadata": {},
   "source": [
    "Implementing Naive Bayes model on the train dataset classified with Word2vec approach"
   ]
  },
  {
   "cell_type": "code",
   "execution_count": 69,
   "metadata": {},
   "outputs": [
    {
     "name": "stdout",
     "output_type": "stream",
     "text": [
      "[[-0.03379187  0.06302494 -0.07217252 ... -0.02777742  0.03394709\n",
      "  -0.00652051]\n",
      " [-0.06340227 -0.03576026 -0.07520874 ...  0.00573973 -0.01800817\n",
      "   0.02254786]\n",
      " [-0.03368922  0.10716035 -0.04567175 ... -0.04320864  0.03392563\n",
      "  -0.04352021]\n",
      " ...\n",
      " [-0.04622031  0.07923674 -0.07223997 ... -0.01738462  0.01735623\n",
      "  -0.02685337]\n",
      " [-0.02207466  0.0261269  -0.0726772  ...  0.00035179 -0.02991195\n",
      "  -0.02821514]\n",
      " [-0.05088726  0.08353429 -0.05083851 ... -0.04627712 -0.01256803\n",
      "  -0.05478889]]\n",
      "[0.28352733 0.30210321 0.28672865 ... 0.28943999 0.30531521 0.27901156]\n",
      "range of numpy array : 0.3574464023113251 0.0\n"
     ]
    }
   ],
   "source": [
    "# import and initialize a Multinomial Naive Bayes model\n",
    "from sklearn.naive_bayes import MultinomialNB\n",
    "nb2 = MultinomialNB(alpha=0.75)\n",
    "\n",
    "#checking the range of the numpy array \n",
    "r = np.ptp(X_train,axis=1)\n",
    "print(X_train)\n",
    "print(r)\n",
    "print(\"range of numpy array :\", max(r), min(r))"
   ]
  },
  {
   "cell_type": "code",
   "execution_count": null,
   "metadata": {},
   "outputs": [],
   "source": []
  },
  {
   "cell_type": "code",
   "execution_count": 70,
   "metadata": {},
   "outputs": [],
   "source": [
    "from sklearn.preprocessing import MinMaxScaler\n",
    "#Normalizing the values in the array because naive bayes doesn't work with negative values\n",
    "scaler = MinMaxScaler()\n",
    "X_train_minmax = scaler.fit_transform(X_train)"
   ]
  },
  {
   "cell_type": "code",
   "execution_count": 71,
   "metadata": {},
   "outputs": [
    {
     "data": {
      "text/plain": [
       "MultinomialNB(alpha=0.75, class_prior=None, fit_prior=True)"
      ]
     },
     "execution_count": 71,
     "metadata": {},
     "output_type": "execute_result"
    }
   ],
   "source": [
    "#Train model\n",
    "nb2.fit(X_train_minmax, y_train)"
   ]
  },
  {
   "cell_type": "code",
   "execution_count": 72,
   "metadata": {},
   "outputs": [],
   "source": [
    "#Predict the outcome of either spam or ham\n",
    "y_pred_NB2 = nb2.predict(X_test)"
   ]
  },
  {
   "cell_type": "code",
   "execution_count": 73,
   "metadata": {},
   "outputs": [
    {
     "data": {
      "text/plain": [
       "0.8323108384458078"
      ]
     },
     "execution_count": 73,
     "metadata": {},
     "output_type": "execute_result"
    }
   ],
   "source": [
    "# calculate accuracy of class predictions\n",
    "from sklearn import metrics\n",
    "metrics.accuracy_score(y_test, y_pred_NB2)"
   ]
  },
  {
   "cell_type": "code",
   "execution_count": 74,
   "metadata": {},
   "outputs": [
    {
     "data": {
      "image/png": "[encoded data removed]",
      "text/plain": [
       "<Figure size 432x288 with 2 Axes>"
      ]
     },
     "metadata": {
      "needs_background": "light"
     },
     "output_type": "display_data"
    }
   ],
   "source": [
    "from sklearn.metrics import confusion_matrix, classification_report\n",
    "import seaborn as sns\n",
    "y_pred = nb2.predict(X_test)\n",
    "mat = confusion_matrix(y_test, y_pred_NB2) #Print the number of good/bad classified points \n",
    "sns.heatmap(mat.T, square=True, annot=True, fmt='d', cbar=True,\n",
    "            xticklabels=[0,1], yticklabels=[0,1])\n",
    "plt.xlabel('true label')\n",
    "plt.ylabel('predicted label');"
   ]
  },
  {
   "cell_type": "code",
   "execution_count": 75,
   "metadata": {},
   "outputs": [
    {
     "name": "stdout",
     "output_type": "stream",
     "text": [
      "              precision    recall  f1-score   support\n",
      "\n",
      "           0     0.8873    0.7652    0.8217       247\n",
      "           1     0.7899    0.9008    0.8417       242\n",
      "\n",
      "    accuracy                         0.8323       489\n",
      "   macro avg     0.8386    0.8330    0.8317       489\n",
      "weighted avg     0.8391    0.8323    0.8316       489\n",
      "\n"
     ]
    }
   ],
   "source": [
    "from sklearn.metrics import classification_report\n",
    "print(classification_report(y_test, y_pred_NB2, digits=4))"
   ]
  },
  {
   "cell_type": "markdown",
   "metadata": {},
   "source": [
    "K-nearest Neighbor"
   ]
  },
  {
   "cell_type": "markdown",
   "metadata": {},
   "source": [
    "Feature Scaling"
   ]
  },
  {
   "cell_type": "code",
   "execution_count": 76,
   "metadata": {},
   "outputs": [],
   "source": [
    "from sklearn.preprocessing import StandardScaler\n",
    "scaler = StandardScaler()\n",
    "scaler.fit(X_train)\n",
    "\n",
    "X_train = scaler.transform(X_train)\n",
    "X_test = scaler.transform(X_test)"
   ]
  },
  {
   "cell_type": "markdown",
   "metadata": {},
   "source": [
    "Training and Predictions"
   ]
  },
  {
   "cell_type": "code",
   "execution_count": 77,
   "metadata": {},
   "outputs": [
    {
     "data": {
      "text/plain": [
       "KNeighborsClassifier(algorithm='auto', leaf_size=30, metric='minkowski',\n",
       "                     metric_params=None, n_jobs=None, n_neighbors=5, p=2,\n",
       "                     weights='uniform')"
      ]
     },
     "execution_count": 77,
     "metadata": {},
     "output_type": "execute_result"
    }
   ],
   "source": [
    "from sklearn.neighbors import KNeighborsClassifier\n",
    "classifier = KNeighborsClassifier(n_neighbors=5)\n",
    "classifier.fit(X_train, y_train)"
   ]
  },
  {
   "cell_type": "code",
   "execution_count": 78,
   "metadata": {},
   "outputs": [],
   "source": [
    "y_pred = classifier.predict(X_test)"
   ]
  },
  {
   "cell_type": "code",
   "execution_count": 79,
   "metadata": {},
   "outputs": [
    {
     "name": "stdout",
     "output_type": "stream",
     "text": [
      "[[217  30]\n",
      " [ 26 216]]\n",
      "              precision    recall  f1-score   support\n",
      "\n",
      "           0       0.89      0.88      0.89       247\n",
      "           1       0.88      0.89      0.89       242\n",
      "\n",
      "    accuracy                           0.89       489\n",
      "   macro avg       0.89      0.89      0.89       489\n",
      "weighted avg       0.89      0.89      0.89       489\n",
      "\n"
     ]
    }
   ],
   "source": [
    "from sklearn.metrics import classification_report, confusion_matrix\n",
    "print(confusion_matrix(y_test, y_pred))\n",
    "print(classification_report(y_test, y_pred))"
   ]
  },
  {
   "cell_type": "markdown",
   "metadata": {},
   "source": [
    "Comparing Error Rate with the K Value"
   ]
  },
  {
   "cell_type": "code",
   "execution_count": 80,
   "metadata": {},
   "outputs": [],
   "source": [
    "error = []\n",
    "\n",
    "# Calculating error for K values between 1 and 40\n",
    "for i in range(1, 40):\n",
    "    knn = KNeighborsClassifier(n_neighbors=i)\n",
    "    knn.fit(X_train, y_train)\n",
    "    pred_i = knn.predict(X_test)\n",
    "    error.append(np.mean(pred_i != y_test))"
   ]
  },
  {
   "cell_type": "code",
   "execution_count": 81,
   "metadata": {},
   "outputs": [
    {
     "data": {
      "text/plain": [
       "Text(0, 0.5, 'Mean Error')"
      ]
     },
     "execution_count": 81,
     "metadata": {},
     "output_type": "execute_result"
    },
    {
     "data": {
      "image/png": "[encoded data removed]",
      "text/plain": [
       "<Figure size 864x432 with 1 Axes>"
      ]
     },
     "metadata": {
      "needs_background": "light"
     },
     "output_type": "display_data"
    }
   ],
   "source": [
    "plt.figure(figsize=(12, 6))\n",
    "plt.plot(range(1, 40), error, color='red', linestyle='dashed', marker='o',\n",
    "         markerfacecolor='blue', markersize=10)\n",
    "plt.title('Error Rate K Value')\n",
    "plt.xlabel('K Value')\n",
    "plt.ylabel('Mean Error')"
   ]
  },
  {
   "cell_type": "markdown",
   "metadata": {},
   "source": [
    "Best K value is probably between 3 and 5 as can be seen from the error rate k value"
   ]
  },
  {
   "cell_type": "code",
   "execution_count": null,
   "metadata": {},
   "outputs": [],
   "source": []
  }
 ],
 "metadata": {
  "colab": {
   "collapsed_sections": [],
   "name": "spamDetector_EDA.ipynb",
   "provenance": [],
   "toc_visible": true
  },
  "kernelspec": {
   "display_name": "Python 3",
   "language": "python",
   "name": "python3"
  },
  "language_info": {
   "codemirror_mode": {
    "name": "ipython",
    "version": 3
   },
   "file_extension": ".py",
   "mimetype": "text/x-python",
   "name": "python",
   "nbconvert_exporter": "python",
   "pygments_lexer": "ipython3",
   "version": "3.8.0"
  }
 },
 "nbformat": 4,
 "nbformat_minor": 1
}
