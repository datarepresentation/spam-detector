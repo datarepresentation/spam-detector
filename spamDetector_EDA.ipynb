{
  "nbformat": 4,
  "nbformat_minor": 0,
  "metadata": {
    "kernelspec": {
      "display_name": "Python 3",
      "language": "python",
      "name": "python3"
    },
    "language_info": {
      "codemirror_mode": {
        "name": "ipython",
        "version": 3
      },
      "file_extension": ".py",
      "mimetype": "text/x-python",
      "name": "python",
      "nbconvert_exporter": "python",
      "pygments_lexer": "ipython3",
      "version": "3.8.0"
    },
    "colab": {
      "name": "spamDetector_EDA.ipynb",
      "provenance": [],
      "collapsed_sections": [],
      "toc_visible": true
    }
  },
  "cells": [
    {
      "cell_type": "markdown",
      "metadata": {
        "id": "hr7FErtwUMZg"
      },
      "source": [
        "# Youtube comments spam classification\n",
        "\n",
        "This dataset is comprise of comments collection from users for videos on youtube of artist i.e Psy, Katy Perry, LMFAO, Eminem, and Shakira.\n",
        "\n",
        "In these datasets, there is a class column where (0) indicates that it is not a spam and (1) if it is a Spam.\n",
        "\n",
        "We will use this to build models which classify the comment is either a spam or not.\n"
      ]
    },
    {
      "cell_type": "code",
      "metadata": {
        "id": "1mwiodAqUMZk"
      },
      "source": [
        "import pandas as pd\n",
        "import matplotlib.pyplot as plt\n",
        "import numpy as np\n",
        "import seaborn as sb\n",
        "from collections import Counter\n",
        "import nltk\n",
        "import html\n",
        "import re\n",
        "import string\n",
        "import emoji"
      ],
      "execution_count": 360,
      "outputs": []
    },
    {
      "cell_type": "code",
      "metadata": {
        "id": "sLqruHgTWqdr",
        "outputId": "55f2b0ae-506d-4b2f-f7bc-635c2132839f",
        "colab": {
          "base_uri": "https://localhost:8080/"
        }
      },
      "source": [
        "nltk.download('punkt')"
      ],
      "execution_count": 361,
      "outputs": [
        {
          "output_type": "stream",
          "text": [
            "[nltk_data] Downloading package punkt to /root/nltk_data...\n",
            "[nltk_data]   Package punkt is already up-to-date!\n"
          ],
          "name": "stdout"
        },
        {
          "output_type": "execute_result",
          "data": {
            "text/plain": [
              "True"
            ]
          },
          "metadata": {
            "tags": []
          },
          "execution_count": 361
        }
      ]
    },
    {
      "cell_type": "code",
      "metadata": {
        "id": "cEJaUlSLUMZr"
      },
      "source": [
        "df1 = pd.read_csv('Youtube01-Psy.csv')\n",
        "df2 = pd.read_csv('Youtube02-KatyPerry.csv')\n",
        "df3 = pd.read_csv('Youtube03-LMFAO.csv')\n",
        "df4 = pd.read_csv('Youtube04-Eminem.csv')\n",
        "df5 = pd.read_csv('Youtube05-Shakira.csv')\n",
        "\n",
        "frames = [df1,df2,df3,df4,df5]\n",
        "df = pd.concat(frames)"
      ],
      "execution_count": 362,
      "outputs": []
    },
    {
      "cell_type": "code",
      "metadata": {
        "id": "-MLEjRXLUMZt",
        "outputId": "bb36999a-af15-4376-dce6-9571c7440dca",
        "colab": {
          "base_uri": "https://localhost:8080/"
        }
      },
      "source": [
        "print(df.shape)\n",
        "print(df.columns)\n",
        "df.head"
      ],
      "execution_count": 363,
      "outputs": [
        {
          "output_type": "stream",
          "text": [
            "(1956, 5)\n",
            "Index(['COMMENT_ID', 'AUTHOR', 'DATE', 'CONTENT', 'CLASS'], dtype='object')\n"
          ],
          "name": "stdout"
        },
        {
          "output_type": "execute_result",
          "data": {
            "text/plain": [
              "<bound method NDFrame.head of                                       COMMENT_ID  ... CLASS\n",
              "0    LZQPQhLyRh80UYxNuaDWhIGQYNQ96IuCg-AYWqNPjpU  ...     1\n",
              "1    LZQPQhLyRh_C2cTtd9MvFRJedxydaVW-2sNg5Diuo4A  ...     1\n",
              "2    LZQPQhLyRh9MSZYnf8djyk0gEF9BHDPYrrK-qCczIY8  ...     1\n",
              "3            z13jhp0bxqncu512g22wvzkasxmvvzjaz04  ...     1\n",
              "4            z13fwbwp1oujthgqj04chlngpvzmtt3r3dw  ...     1\n",
              "..                                           ...  ...   ...\n",
              "365  _2viQ_Qnc6-bMSjqyL1NKj57ROicCSJV5SwTrw-RFFA  ...     0\n",
              "366  _2viQ_Qnc6-pY-1yR6K2FhmC5i48-WuNx5CumlHLDAI  ...     0\n",
              "367  _2viQ_Qnc6_k_n_Bse9zVhJP8tJReZpo8uM2uZfnzDs  ...     0\n",
              "368  _2viQ_Qnc6_yBt8UGMWyg3vh0PulTqcqyQtdE7d4Fl0  ...     0\n",
              "369  _2viQ_Qnc685RPw1aSa1tfrIuHXRvAQ2rPT9R06KTqA  ...     0\n",
              "\n",
              "[1956 rows x 5 columns]>"
            ]
          },
          "metadata": {
            "tags": []
          },
          "execution_count": 363
        }
      ]
    },
    {
      "cell_type": "code",
      "metadata": {
        "id": "DWpjZR7fUMZx",
        "outputId": "1c84c3c8-ae35-4bc3-efb1-4f8742023e94",
        "colab": {
          "base_uri": "https://localhost:8080/",
          "height": 313
        }
      },
      "source": [
        "sb.countplot(x='CLASS',data=df).set_title(\"Frequency of Ham(0) & Spam(1)\")"
      ],
      "execution_count": 364,
      "outputs": [
        {
          "output_type": "execute_result",
          "data": {
            "text/plain": [
              "Text(0.5, 1.0, 'Frequency of Ham(0) & Spam(1)')"
            ]
          },
          "metadata": {
            "tags": []
          },
          "execution_count": 364
        },
        {
          "output_type": "display_data",
          "data": {
            "image/png": "[encoded data removed]",
            "text/plain": [
              "<Figure size 432x288 with 1 Axes>"
            ]
          },
          "metadata": {
            "tags": [],
            "needs_background": "light"
          }
        }
      ]
    },
    {
      "cell_type": "code",
      "metadata": {
        "id": "bgJ0qiiZUMZ2",
        "outputId": "0c46a6e0-652a-4059-daf6-5ef21e98e9a6",
        "colab": {
          "base_uri": "https://localhost:8080/",
          "height": 198
        }
      },
      "source": [
        "df['comment_len'] = df['CONTENT'].apply(len)\n",
        "df.head(5)"
      ],
      "execution_count": 365,
      "outputs": [
        {
          "output_type": "execute_result",
          "data": {
            "text/html": [
              "<div>\n",
              "<style scoped>\n",
              "    .dataframe tbody tr th:only-of-type {\n",
              "        vertical-align: middle;\n",
              "    }\n",
              "\n",
              "    .dataframe tbody tr th {\n",
              "        vertical-align: top;\n",
              "    }\n",
              "\n",
              "    .dataframe thead th {\n",
              "        text-align: right;\n",
              "    }\n",
              "</style>\n",
              "<table border=\"1\" class=\"dataframe\">\n",
              "  <thead>\n",
              "    <tr style=\"text-align: right;\">\n",
              "      <th></th>\n",
              "      <th>COMMENT_ID</th>\n",
              "      <th>AUTHOR</th>\n",
              "      <th>DATE</th>\n",
              "      <th>CONTENT</th>\n",
              "      <th>CLASS</th>\n",
              "      <th>comment_len</th>\n",
              "    </tr>\n",
              "  </thead>\n",
              "  <tbody>\n",
              "    <tr>\n",
              "      <th>0</th>\n",
              "      <td>LZQPQhLyRh80UYxNuaDWhIGQYNQ96IuCg-AYWqNPjpU</td>\n",
              "      <td>Julius NM</td>\n",
              "      <td>2013-11-07T06:20:48</td>\n",
              "      <td>Huh, anyway check out this you[tube] channel: ...</td>\n",
              "      <td>1</td>\n",
              "      <td>56</td>\n",
              "    </tr>\n",
              "    <tr>\n",
              "      <th>1</th>\n",
              "      <td>LZQPQhLyRh_C2cTtd9MvFRJedxydaVW-2sNg5Diuo4A</td>\n",
              "      <td>adam riyati</td>\n",
              "      <td>2013-11-07T12:37:15</td>\n",
              "      <td>Hey guys check out my new channel and our firs...</td>\n",
              "      <td>1</td>\n",
              "      <td>166</td>\n",
              "    </tr>\n",
              "    <tr>\n",
              "      <th>2</th>\n",
              "      <td>LZQPQhLyRh9MSZYnf8djyk0gEF9BHDPYrrK-qCczIY8</td>\n",
              "      <td>Evgeny Murashkin</td>\n",
              "      <td>2013-11-08T17:34:21</td>\n",
              "      <td>just for test I have to say murdev.com</td>\n",
              "      <td>1</td>\n",
              "      <td>38</td>\n",
              "    </tr>\n",
              "    <tr>\n",
              "      <th>3</th>\n",
              "      <td>z13jhp0bxqncu512g22wvzkasxmvvzjaz04</td>\n",
              "      <td>ElNino Melendez</td>\n",
              "      <td>2013-11-09T08:28:43</td>\n",
              "      <td>me shaking my sexy ass on my channel enjoy ^_^ ﻿</td>\n",
              "      <td>1</td>\n",
              "      <td>48</td>\n",
              "    </tr>\n",
              "    <tr>\n",
              "      <th>4</th>\n",
              "      <td>z13fwbwp1oujthgqj04chlngpvzmtt3r3dw</td>\n",
              "      <td>GsMega</td>\n",
              "      <td>2013-11-10T16:05:38</td>\n",
              "      <td>watch?v=vtaRGgvGtWQ   Check this out .﻿</td>\n",
              "      <td>1</td>\n",
              "      <td>39</td>\n",
              "    </tr>\n",
              "  </tbody>\n",
              "</table>\n",
              "</div>"
            ],
            "text/plain": [
              "                                    COMMENT_ID  ... comment_len\n",
              "0  LZQPQhLyRh80UYxNuaDWhIGQYNQ96IuCg-AYWqNPjpU  ...          56\n",
              "1  LZQPQhLyRh_C2cTtd9MvFRJedxydaVW-2sNg5Diuo4A  ...         166\n",
              "2  LZQPQhLyRh9MSZYnf8djyk0gEF9BHDPYrrK-qCczIY8  ...          38\n",
              "3          z13jhp0bxqncu512g22wvzkasxmvvzjaz04  ...          48\n",
              "4          z13fwbwp1oujthgqj04chlngpvzmtt3r3dw  ...          39\n",
              "\n",
              "[5 rows x 6 columns]"
            ]
          },
          "metadata": {
            "tags": []
          },
          "execution_count": 365
        }
      ]
    },
    {
      "cell_type": "code",
      "metadata": {
        "id": "CSG2OAX4UMZ5",
        "outputId": "32d195bf-be1b-4b87-c674-ba186c696904",
        "colab": {
          "base_uri": "https://localhost:8080/",
          "height": 168
        }
      },
      "source": [
        "df.groupby('CLASS').describe()"
      ],
      "execution_count": 366,
      "outputs": [
        {
          "output_type": "execute_result",
          "data": {
            "text/html": [
              "<div>\n",
              "<style scoped>\n",
              "    .dataframe tbody tr th:only-of-type {\n",
              "        vertical-align: middle;\n",
              "    }\n",
              "\n",
              "    .dataframe tbody tr th {\n",
              "        vertical-align: top;\n",
              "    }\n",
              "\n",
              "    .dataframe thead tr th {\n",
              "        text-align: left;\n",
              "    }\n",
              "\n",
              "    .dataframe thead tr:last-of-type th {\n",
              "        text-align: right;\n",
              "    }\n",
              "</style>\n",
              "<table border=\"1\" class=\"dataframe\">\n",
              "  <thead>\n",
              "    <tr>\n",
              "      <th></th>\n",
              "      <th colspan=\"8\" halign=\"left\">comment_len</th>\n",
              "    </tr>\n",
              "    <tr>\n",
              "      <th></th>\n",
              "      <th>count</th>\n",
              "      <th>mean</th>\n",
              "      <th>std</th>\n",
              "      <th>min</th>\n",
              "      <th>25%</th>\n",
              "      <th>50%</th>\n",
              "      <th>75%</th>\n",
              "      <th>max</th>\n",
              "    </tr>\n",
              "    <tr>\n",
              "      <th>CLASS</th>\n",
              "      <th></th>\n",
              "      <th></th>\n",
              "      <th></th>\n",
              "      <th></th>\n",
              "      <th></th>\n",
              "      <th></th>\n",
              "      <th></th>\n",
              "      <th></th>\n",
              "    </tr>\n",
              "  </thead>\n",
              "  <tbody>\n",
              "    <tr>\n",
              "      <th>0</th>\n",
              "      <td>951.0</td>\n",
              "      <td>49.644585</td>\n",
              "      <td>56.284782</td>\n",
              "      <td>2.0</td>\n",
              "      <td>18.0</td>\n",
              "      <td>34.0</td>\n",
              "      <td>62.0</td>\n",
              "      <td>753.0</td>\n",
              "    </tr>\n",
              "    <tr>\n",
              "      <th>1</th>\n",
              "      <td>1005.0</td>\n",
              "      <td>137.336318</td>\n",
              "      <td>158.977404</td>\n",
              "      <td>10.0</td>\n",
              "      <td>36.0</td>\n",
              "      <td>65.0</td>\n",
              "      <td>171.0</td>\n",
              "      <td>1200.0</td>\n",
              "    </tr>\n",
              "  </tbody>\n",
              "</table>\n",
              "</div>"
            ],
            "text/plain": [
              "      comment_len                                                         \n",
              "            count        mean         std   min   25%   50%    75%     max\n",
              "CLASS                                                                     \n",
              "0           951.0   49.644585   56.284782   2.0  18.0  34.0   62.0   753.0\n",
              "1          1005.0  137.336318  158.977404  10.0  36.0  65.0  171.0  1200.0"
            ]
          },
          "metadata": {
            "tags": []
          },
          "execution_count": 366
        }
      ]
    },
    {
      "cell_type": "code",
      "metadata": {
        "id": "h0k42138UMZ9",
        "outputId": "f423c3d0-2f33-438c-f277-d26b47b62291",
        "colab": {
          "base_uri": "https://localhost:8080/",
          "height": 297
        }
      },
      "source": [
        "sb.boxplot(x='CLASS', y='comment_len', data=df)"
      ],
      "execution_count": 367,
      "outputs": [
        {
          "output_type": "execute_result",
          "data": {
            "text/plain": [
              "<matplotlib.axes._subplots.AxesSubplot at 0x7fd6ed8b0eb8>"
            ]
          },
          "metadata": {
            "tags": []
          },
          "execution_count": 367
        },
        {
          "output_type": "display_data",
          "data": {
            "image/png": "[encoded data removed]",
            "text/plain": [
              "<Figure size 432x288 with 1 Axes>"
            ]
          },
          "metadata": {
            "tags": [],
            "needs_background": "light"
          }
        }
      ]
    },
    {
      "cell_type": "code",
      "metadata": {
        "id": "0S-R9ZzHUMaC"
      },
      "source": [
        "#Trying to insert all available words in a list individually and count the most occuring word in each list.\n",
        "\n",
        "spam_comments = df[df[\"CLASS\"] == 1][\"CONTENT\"]\n",
        "ham_comments = df[df[\"CLASS\"] == 0][\"CONTENT\"]\n",
        "\n",
        "spam_words = []\n",
        "ham_words = []\n",
        "\n",
        "def spamword (spamWords) :\n",
        "    global spam_words\n",
        "    words = [word.lower() for word in spam_comments if word.lower().isalpha()]\n",
        "    spam_words = spam_words + words\n",
        "    \n",
        "def hamword (spamWords) :\n",
        "    global ham_words\n",
        "    words = [word.lower() for word in ham_comments if word.lower().isalpha()]\n",
        "    ham_words = ham_words + words\n",
        "\n",
        "spamlist = spamword(spam_comments)\n",
        "hamlist = hamword(spam_comments)\n",
        "\n",
        "count_ham  = Counter(hamlist)\n",
        "count_spam = Counter(spamlist)\n",
        "\n",
        "#Using Counter mos_common method to count most common instance in a dataFrame\n",
        "df_ham  = pd.DataFrame(count_ham.most_common(20),  columns=['word', 'count'])\n",
        "df_spam = pd.DataFrame(count_spam.most_common(20), columns=['word', 'count'])\n",
        "\n"
      ],
      "execution_count": 368,
      "outputs": []
    },
    {
      "cell_type": "code",
      "metadata": {
        "id": "n3WmXVIzUMaG",
        "outputId": "f903c21c-168b-4e47-dd17-e66e88d0fbe1",
        "colab": {
          "base_uri": "https://localhost:8080/",
          "height": 482
        }
      },
      "source": [
        "f, ax = plt.subplots(1, 2, figsize = (20, 6))\n",
        "\n",
        "sb.distplot(df[df[\"CLASS\"] == 1][\"comment_len\"], bins = 20, ax = ax[0])\n",
        "ax[0].set_xlabel(\"Spam Message Word Length\")\n",
        "\n",
        "sb.distplot(df[df[\"CLASS\"] == 0][\"comment_len\"], bins = 20, ax = ax[1])\n",
        "ax[0].set_xlabel(\"Ham Message Word Length\")\n",
        "\n",
        "plt.show()"
      ],
      "execution_count": 369,
      "outputs": [
        {
          "output_type": "stream",
          "text": [
            "/usr/local/lib/python3.6/dist-packages/seaborn/distributions.py:2551: FutureWarning: `distplot` is a deprecated function and will be removed in a future version. Please adapt your code to use either `displot` (a figure-level function with similar flexibility) or `histplot` (an axes-level function for histograms).\n",
            "  warnings.warn(msg, FutureWarning)\n",
            "/usr/local/lib/python3.6/dist-packages/seaborn/distributions.py:2551: FutureWarning: `distplot` is a deprecated function and will be removed in a future version. Please adapt your code to use either `displot` (a figure-level function with similar flexibility) or `histplot` (an axes-level function for histograms).\n",
            "  warnings.warn(msg, FutureWarning)\n"
          ],
          "name": "stderr"
        },
        {
          "output_type": "display_data",
          "data": {
            "image/png": "[encoded data removed]",
            "text/plain": [
              "<Figure size 1440x432 with 2 Axes>"
            ]
          },
          "metadata": {
            "tags": [],
            "needs_background": "light"
          }
        }
      ]
    },
    {
      "cell_type": "code",
      "metadata": {
        "id": "JaKu0F8yUMaI"
      },
      "source": [
        "df = df.drop(['COMMENT_ID', 'AUTHOR', 'DATE', 'comment_len'], axis=1)"
      ],
      "execution_count": 370,
      "outputs": []
    },
    {
      "cell_type": "code",
      "metadata": {
        "id": "GvkGtkdSUMaK",
        "outputId": "791b2a1e-48e0-4af4-c639-0c2eb0018fd1",
        "colab": {
          "base_uri": "https://localhost:8080/"
        }
      },
      "source": [
        "print(df.describe)"
      ],
      "execution_count": 371,
      "outputs": [
        {
          "output_type": "stream",
          "text": [
            "<bound method NDFrame.describe of                                                CONTENT  CLASS\n",
            "0    Huh, anyway check out this you[tube] channel: ...      1\n",
            "1    Hey guys check out my new channel and our firs...      1\n",
            "2               just for test I have to say murdev.com      1\n",
            "3     me shaking my sexy ass on my channel enjoy ^_^ ﻿      1\n",
            "4              watch?v=vtaRGgvGtWQ   Check this out .﻿      1\n",
            "..                                                 ...    ...\n",
            "365  I love this song because we sing it at Camp al...      0\n",
            "366  I love this song for two reasons: 1.it is abou...      0\n",
            "367                                                wow      0\n",
            "368                            Shakira u are so wiredo      0\n",
            "369                         Shakira is the best dancer      0\n",
            "\n",
            "[1956 rows x 2 columns]>\n"
          ],
          "name": "stdout"
        }
      ]
    },
    {
      "cell_type": "markdown",
      "metadata": {
        "id": "A6uPredMaeow"
      },
      "source": [
        "Lowercase all the words in the df column \"CONTENT\""
      ]
    },
    {
      "cell_type": "code",
      "metadata": {
        "id": "9GDgfVJNsIBY"
      },
      "source": [
        "df[\"CONTENT\"] = df[\"CONTENT\"].str.lower()"
      ],
      "execution_count": 372,
      "outputs": []
    },
    {
      "cell_type": "markdown",
      "metadata": {
        "id": "9kn0AtCTaojt"
      },
      "source": [
        "Replace all the html tags <a... > with the keyword \"htmllink\""
      ]
    },
    {
      "cell_type": "code",
      "metadata": {
        "id": "YW5lLrD1bLq3"
      },
      "source": [
        "df['CONTENT']=df['CONTENT'].str.replace(\"(<a.+>)\",\"htmllink\")"
      ],
      "execution_count": 373,
      "outputs": []
    },
    {
      "cell_type": "markdown",
      "metadata": {
        "id": "D8BniNXXa9OM"
      },
      "source": [
        "Remove all other html tags."
      ]
    },
    {
      "cell_type": "code",
      "metadata": {
        "id": "INn1HRpNfQxR"
      },
      "source": [
        "df['CONTENT']=df['CONTENT'].str.replace(\"(<.+>)\",\"\")"
      ],
      "execution_count": 374,
      "outputs": []
    },
    {
      "cell_type": "markdown",
      "metadata": {
        "id": "5L4jI-LybLRR"
      },
      "source": [
        "Replace all the strings starting with \"http\" or \"https\" with the keyword \"htmllink\""
      ]
    },
    {
      "cell_type": "code",
      "metadata": {
        "id": "iiVn5seQfb_r"
      },
      "source": [
        "df['CONTENT']=df['CONTENT'].str.replace(r'(https?://\\S+|http?://\\S+ )',\"htmllink\")"
      ],
      "execution_count": 375,
      "outputs": []
    },
    {
      "cell_type": "markdown",
      "metadata": {
        "id": "0c1fM3JTbS8H"
      },
      "source": [
        "Replace all the strings containing \".com\"  or \"watch\\\"  with the keyword \"htmllink\""
      ]
    },
    {
      "cell_type": "code",
      "metadata": {
        "id": "rcM_U6xlqLV-"
      },
      "source": [
        "df[\"CONTENT\"]=df[\"CONTENT\"].str.replace(r\"\\S*.com\\S*|\\S*watch\\?\\S*\",\"htmllink\")"
      ],
      "execution_count": 376,
      "outputs": []
    },
    {
      "cell_type": "code",
      "metadata": {
        "id": "6xMq1HTtXyX8"
      },
      "source": [
        "def clean_nonalpha(input_text):\n",
        "  pattern = re.compile('([^\\s\\w]|)+')\n",
        "  return pattern.sub(\"\",input_text)"
      ],
      "execution_count": 377,
      "outputs": []
    },
    {
      "cell_type": "code",
      "metadata": {
        "id": "Vir-gP1b1RjV"
      },
      "source": [
        "def translate_emojis(input_text):\n",
        "  return emoji.demojize(input_text, delimiters=(\" \", \" \"))"
      ],
      "execution_count": 378,
      "outputs": []
    },
    {
      "cell_type": "code",
      "metadata": {
        "id": "PUVu6bEByzw8"
      },
      "source": [
        "df[\"CONTENT\"]=df[\"CONTENT\"].apply(translate_emojis)"
      ],
      "execution_count": 379,
      "outputs": []
    },
    {
      "cell_type": "code",
      "metadata": {
        "id": "1QozOWYjYjMH"
      },
      "source": [
        "df[\"CONTENT\"]=df[\"CONTENT\"].apply(clean_nonalpha)"
      ],
      "execution_count": 380,
      "outputs": []
    },
    {
      "cell_type": "markdown",
      "metadata": {
        "id": "7HRaJrnFi6R3"
      },
      "source": [
        "According to the paper, they achieved better results by not filtering stopwords and lemmatizing. This first approach is not going to perform further filtering."
      ]
    },
    {
      "cell_type": "markdown",
      "metadata": {
        "id": "ZMsCz3HCgazH"
      },
      "source": [
        "Bag of words approach."
      ]
    },
    {
      "cell_type": "code",
      "metadata": {
        "id": "dmTqjsOhgfjC"
      },
      "source": [
        "vocab = []\n",
        "for sentence in df[\"CONTENT\"]:\n",
        "  for word in sentence.split():\n",
        "    vocab.append(word)"
      ],
      "execution_count": 381,
      "outputs": []
    },
    {
      "cell_type": "code",
      "metadata": {
        "id": "wveeIDZ2gxbW",
        "outputId": "2f9ea556-8302-448e-8cc0-8833690eef6a",
        "colab": {
          "base_uri": "https://localhost:8080/"
        }
      },
      "source": [
        "# Eliminate duplicate words in the vocabulary\n",
        "vocabulary = set(vocab)\n",
        "print(len(vocabulary))"
      ],
      "execution_count": 382,
      "outputs": [
        {
          "output_type": "stream",
          "text": [
            "3973\n",
            "{'src', '100', 'eat', 'curly', 'relationship', 'looooooooove', 'yay', 'tango', 'somewhere', 'definitley', 'you39re', 'core', 'awful', 'ovbiously', 'happens', 'buys', 'americans', 'wow5', 'womanly', 'shares', 'showcase', '2nd', 'keyword', 'maybe', 'range', 'daneja', '1990', 'experiments', 'rave', 'sound', 'monkeys', 'easily', 'onece', '113', 'sounds', 'koreans', 'bite', 'refused', 'hart', 'topic', 'musical_note', 'used', 'depressed', 'dakota', 'distribution', 'characterized', 'flaming', 'purchase', 'monkey', '2010', 'incquot', 'unique', 'thailand', 'openly', 'password', 'whole', '12', 'watching', 'photo', 'playing', 'example', 'reflective', 'set', 'href', 'macklemore', 'sins', 'erection', 'pic', 'bady', 'yellow', 'transport', 'ryhme', 'tendency', 'winners', 'project', 'facebookpage', 'results', 'viewsand', 'technique', 'email', 'sisters', 'idiots', '13', 'visiting', 'hopes', 'holy', 'rid', 'may', 'magnificent', 'straight', 'pro', 'prioritize', 'criticism', 'itquot', 'dunno', 'health', 'fresh', 'ｔｈｉｓ', 'likethis', 'viewers', 'version', '4', 'rekt', 'drum', 'there39s', 'shakiralt33333', 'apologies', 'spying', 'raw', 'begin', 'delete', 'gain', 'mixtape', 'poprock', 'modgone', 'eliminate', 'boyfriend', 'student', 'checked', 'jus', 'daughter', 'definitily', 'columbus', 'perhaps', 'advertisements', 'youtubehbbhhhgh', 'die', 'moments', 'vi', 'shake', 'youtuber39s', 'ya', 'stick', 'jawan', 'good', 'luxuries', 'songafter', 'spirits', 'persevering_face', 'playerhis', 'those', 'borderlands', 'kamal', 'government', 'virgin', 'admit', 'lt3keep', 'she39s', 'water', 'remix', '205', 'ema', 'notch', 'elevator', 'confidence', 'fool', 'goot', 'untitled', 'quoti39m', 'challenges', 'tv', 'apps', 'gook', 'paragraph', 'he39s', '2', 'driveshaft', 'there', 'writing', 'chance', 'hav', 'stupid', 'criminals', 'rhymes', 'sleepy_face', 'see', 'acaer', 'this', 'inviting', 'clicked', 'mogotrevo', 'talents', 'alert', 'del', 'mockingbird', 'ilovethissong', 'y39all', 'axy665', 'ej', 'loves', 'surviving', 'hooker', 'featured', 'amendment', 'bella', 'jam', 'dribbleproshot', 'hour', 'deaf', 'body', 'memorized', 'burst', 'stream', 'birtgday', 'likeampsubscribe', 'martin', 'drone', '0', '111', 'bearkglzjqup0', 'having', '1bi', 'cheetos', 'ever', 'giving', 'criminal', 'will', 'oh', 'fave', 'dislike', 'conference', 'web', 'confirmed', 'anguished_face', 'arent', 'brand', 'mahogany', 'brother', 'words', '1m', 'humanity', '025', 'news', 'plese', 'auditioning', 'dreaming', 'favour', 'frndzzl', 'it39s', 'high', 'asia', 'dealing', 'camera', 'named', 'moderock', 'gorlingoltz', 'pushes', 'worldcup', 'access', 'pagee', 'learning', 'bewatching', 'job', 'slimy', 'toy', 'lip', 'monster', 'selfie', 'strength', 'very', 'hilarious', 'oldspice', 'tricep', 'taylor', 'joining', 'internet', 'called', 'attention', 'melody', 'theories', 'potential', 'recentley', 'lumineers', 'truly', 'frowning_face_with_open_mouth', '5th', 'france', 'synch', 'sup', 'quoton', 'sleeveless', '600606', 'scientific', 'happiness', 'leopard', 'stfu', 'women', 'right_arrow_curving_up', 'quotcrown', '200k', 'turnoff', 'pants', 'nepal', 'upto', 'songhas', 'wasnt', 'these', 'wiry', 'stronglittlepsy', 'sty', 'open_hands', 'rich', 'statement', 'ஜஜ', 'sing', 'hackers', 'justien', 'give', 'zero', 'celebrate', 'until', 'homeless', 'wanderfol', 'quotversace', 'shotgun', 'intention', 'nikon', 'czfcxsn0jnq', 'yg', '870000000', 'zip', 'beutiful', 'false', 'weren39t', 'celebrity', '2009', 'kashoo', 'kyle', 'conveying', 'nguyen', 'no', 'lexis', 'sparkles', 'buzz', '19', 'quotso', 'faze', 'quothollywood', 'update', 'fame', 'ding', 'subscription', 'n', 'skylarworks', 'everyone', 'winooze', 'pointers', 'fireball', 'didnt', 'gold', 'waste', 'bots', 'mine', 'nude', '860000000', 'weekendmix', 'button', 'touch', 'pouring', 'lovers', 'yall', 'me', '2014', 'adult', 'noodile', 'full', 'views0', 'extremely', 'active', 'followers', 'ik', 'songs', 'thats', 'deserve', 'line', 'activates', 'neon', 'they39re', 'dislikesssssssssssssssssssssssssssssssss', 'chrck', 'significantly', 'bisexual', 'subscribed', 'hatersfor', 'oncueapparel', 'animal', 'beibs', '3', 'gtattention', 'eye', 'a', 'sold', 'knowledge', 'whos', 'creating', 'protective', 'we39re', 'led', 'synthesizes', 'judges', 'resort', 'yetbut', 'as', 'languages', 'dislikesepic', 'eating', 'skip', 'face_with_open_mouth', 'even', 'smile', 'tan', 'heroin', 'csgo', 'diys', 'mercurys', 'katyand', 'enjoy', 'mai', 'subscrib', 'ampi', 'undefiled', 'muzik', 'ima', 'cmon', 'male', 'astauand', 'first', '4s', 'singlewave', 'remember', 'speaks', 'style', 'improves', 'youtubechcfcvzfzfbvzdr', 'steam', 'vid', 'going', 'pensive_face', 'coolest', 'since', 'spirit', '700000000', 'videosdownloading', 'cheats', 'superbowl', 'plant', 'spending', 'picked', 'edlikeampshare', 'perpetrated', 'loudly_crying_face', 'peach', 'terrance', 'angry_face_with_horns', 'eh', 'makeup', 'anand', 'goodquot', 'media', 'splashes', 'channel', 'worth', 'plifal', 'forever', 'player', 'herself', 'enjoyable', 'ummm', 'huge', 'oreo', 'exact', 'barspart', 'vma', 'treu', 'something', 'mirror', 'im2458444', 'wtp', 'instantly', 'oldchattk', 'riri', 'westerners', '30', 'eminemlt3', 'definitely', 'protect', 'meaty', 'canal', 'queen', 'songcongratulations', 'tumor', 'votekatyperry', 'roaaarrr', 'p', 'linz', 'away', 'vidz', 'grinning_face', 'ouf', 'oleald', 'historical', 'snowboarder', 'face_screaming_in_fear', 'fuego', 'underrated', 'shufflin', 'smoke', 'itt', 'enter', 'moneyquot', '20082010', 'figured', 'makes', 'interested', 'statistics', '1billiom', 'case', 'covers', 'damn', 'imagine', 'd90', 'chanicka', 'macabre', 'minecraft', 'inspiration', 'sparks', 'freind', 'illustrate', '39cuz', 'target', 'form', 'therefore', 'lights', 'eyes', 'part', 'natural', '2004', 'sturdy', 'devils', 'learned', 'beneath', '90000', 'symbolic', 'increidebl', '3000000', 'editor', 'retards', 'shakira39s', 'sony', 'picture', 'class', 'enterthen', 'song', 'calls', 'measure', 'audio', 'members', 'brought', 'yearquot', 'edm', 'trailer', 'fact', 'hire', 'vipsplease', 'dante', 'clip', 'days', 'sell', 'bucks', 'discusss', 'dollars', 'qerrassa', 'northland', 'october', 'pc', 'gta5', 'available', 'isnt', 'guarantee', 'stretch', 'trophy', 'clap', 'catchy', 'you39ll', 'disclose', 'britishs', 'youre', 'ans', 'estonia', 'lt3trust', 'buchmair', 'happen', 'verses', 'bennett', 'madly', 'pakistan', 'contest', 'senses', 'inspirational', 'seal', 'pizza', 'korea', 'violence', 'edit', 'categories', 'kissing_face_with_smiling_eyes', 'worried', 'randomly', 'gamezz', 'worthless', 'addfollow', 'dance', 'dresses', '46', 'spoken', 'raps', 'old', 'signed', 'let', 'psn', 'shit', 'really', 'victory_hand', 'actor', 'thanx', 'space', 'garnered', 'dylan', 'covered', 'curti', 'enormously', 'katty', 'releasing', 'musician', 'rand', 'crdits', 'rapped', 'tyga39s', 'fuckin', 'counsel', 'sleeping_face', 'seeing', 'fricking', 'bass', 'fair', 'boxium', 'outfit', 'plays', 'nelson', 'ex', '911', 'gives', 'final', 'goosebumps', 'musique', '490000', 'thus', 'recognizes', 'od', 'reduce', 'cirus', 'fish', 'mmph', 'lord', 'visits', 'track', 'strategizes', 'mission', 'change', 'millonget', 'supposed', 'ethosien', 'paper', 'nick', 'quotdeazy99quot', 'everyday', 'remezcla', 'grateful', 'show', 'practically', 'youtubepl', 'hips', '128gb', 'child', 'value', 'nike', 'didn39t', 'support', 'wallet', 'zesty', 'brutally', 'let39s', 'soccer', 'youtubejjiwajwkajajqjaubkm', 'small', 'ginius', 'rehabilitate', 'ladies', 'mini', 'shaking', 'winking_face_with_tongue', 'etc', 'minoo', 'toximble', 'healing', 'apocalypse', 'mountain', 'red_heart', 'de', 'an', 'signup', '15', 'pass', 'lamest', 'palastine', 'dress', 'quot', 'man', 'missing', 'youtubeopponents', 'damnnnnnnnn', 'acting', 'translate', 'june2715', 'scitenoa', 'sophisticated', '16gb', 'transformed', 'jean', 'mail', 'by', 'painting', 'kiss_mark', 'pls', 'goal100', 'billions', 'crabby', 'spourmo', 'skill', 'face_blowing_a_kiss', 'edge', 'fork_and_knife', 'mi', 'can39t', '3939life39s', 'future', 'fill', 'generated', 'fack', 'crush', 'itsooooo', 'apparently', 'drama', 'youtubeالإعلاناتلل', 'smiley', 'eminen', '4000', 'olds', 'gooooood', 'profits', 'mmlp2', 'ask', 'dizzy', 'understands', 'african', 'all', 'expectations', 'vines', 'moment', 'cold', 'ourself', 'guess', 'hunger', 'maroon', 'spongebob', 'thergloveblogspotin201308blogpost_10html', 'celebrated', 'baba', 'quothelp', 'then', 'searching', 'gangnamstyle', 'jovaphile', 'fbyou', 'peaceful', 'racist', 'hahahahah', 'dysfunctional', 'invito', 'metal', 'alone', 'hiphop', 'gotten', 'dna', 'gtgtgtgt', '__killuminati94', 'hicheck', 'cri', 'tiger', 'somehow', 'lost', 'wk', 'constrictor', 'promote', 'perverse', 'thankful', 'pranks', 'officialpsy', 'crank', 'rage', 'do', 'special', '2012bitches', 'boygirl', 'successful', 'generation', 'msg', 'youtubers', 'gamezzmta', 'paused', '2013', 'youtubem', 'the1fantasy', 'where', 'millions', 'roasted', 'inviolate', 'possible', 'lies', 'chap', 'viewshtmllink', 'youtuber', 'kid', '4000dollars', 'forward', '25', 'night', 'miley', 'intelligence', 'say', 'matters', 'singer', 'against', 'aspiring', 'propa', 'cook', 'reinforce', 'pleasant', 'disorder', 'loud', 'saturday', 'her', 'confused_face', 'wery', 'trafficking', 'notes', 'cazzy', 'especially', 'think', 'los', 'belly', 'past', 'filibuster', 'coverswe', 'fbtwitterg', 'saved', 'never', 'herehtmllink', 'animations', 'swing', 'under', 'club_suit', '5million', 'quotyeahquot', 'boa', 'continue', 'symptomatic', 'skinny', 'powerful', 'scare', 'grave', 'bottom', 'aye', 'bil', 'weird', 'gt', 'solve', 'reiltas', 'wagers', 'naperone', 'quotfeelin39', 'j', 'reaction', 'allways', 'aka', 'belgium', 'neighbor', 'on', 'housee', 'work', 'tutorials', 'transformation', 'collaboration', 'demonstrating', 'back', 'ended', 'jbs', 'fifa', 'bitch', 'unequaled', 'countless', 'ps4', 'b', 'weekend', 'get', 'head', 'gat', '1manband', 'voyage', 'smiling_cat_face_with_hearteyes', 'seat', 'awesomeness', 'cards', 'rihanna', 'cubik', 'annoyed', 'weight', 'killing', '2016', 'fashionable', 'forgot', 'jr', '1000', 'spousal', 'you39d', 'largest', 'trust', 'telling', 'steps', 'fund', 'mayby', 'feeling', 'immediately', 'viral', 'flat', 'highly', 'shuffles', 'jail', 'mp3s', 'suscríbase', 'wrong', 'gangsta', 'quotcruz', 'wilsubscribe', 'flimsy', 'beautiful', 'dundundunnn', '851247920merci', 'shellskip', 'hermann', 'phone', 'woman', 'congress', 'caroline', 'would', 'acquire', 'number', 'goodbye', 'shuffling', 'bitlymakemoneywithoutadroid', 'equipment', 'quotnoquot', 'slappin', 'terrorist', 'ganga', 'xoxo', 'montages', 'responsible', 'upquot', 'that', 'dopethat39s', '8', 'writingrecordingmixingperforming', 'gun', 'word', 'approve', 'chorenn', 'musicbut', 'vids', 'feet', 'tips', 'seem', 'fanboys', 'promise', 'pisses', 'increase', 'mary', 'gtltnoscriptgt', 'youtubecentral', 'month', 'hop', 'opportunity', 'songsearch', 'celebration3939', '28', 'khalifa', 'growing_heart', '9', 'united', 'unfortunatly', 'popular', 'made', 'usa', 'daughters', 'rapid', 'financial', 'pal', 'appoints', 'myself', 'fyi', 'english', 'adapt', 'harry', '969210', 'swift', 'white', 'hit', 'tracks', 'posted', 'knew', 'views', 'red_heart_selector', 'volume', 't', 'abusive', 'shame', 'wellif', 'top', 'lt30', 'profile', 'angry', 'husbands', 'animation', 'fishing_pole', 'tension', 'funnier', 'abusedmistreated', 'videos', 'fullest', 'video', 'promo', 'listen', 'four', 'hardcore', 'page', 'tiger_face', 'achieve', 'riled', 'are', 'kind', 'kpop', 'roaaaaarrrrrr', 'exciting', 'enabled', 'beginning', 'rhinnah', 'skin', 'gaming', 'close', 'giftcard', 'which', 'mê', 'dream', 'within', 'problems', 'conhece', 'channnnnnelll', 'yet', 'yeat', 'muslims', 'truth', 'facebooktwitter', 'artists', 'moved', 'finally', 'alex', 'asian', 'mri', 'colour', 'mammoth', 'tigerlike', 'island', 'samsung', 'tops', 'hamburger', '16', 'brings', 'tax', 'moroccan', 'spotify', 'goose', 'chiptunes', 'positive', 'tent', 'counts', 'room', 'axiomatic', 'youve', 'recipe', 'sweet', '4500', 'festival', 'he', 'self', 'ww', 'bomb', 'off0', 'opening', 'visor', 'drop', 'harbor', 'illegal', 'anywhere', 'silly', 'fragile', 'lt3', 'posts', 'spaces', 'fiddle', 'shoot', 'tony', 'dissertation', 'aswell', 'situationbut', 'projects', '2005', 'gift', 'bbut', 'forgetful', 'hi5', 'around', 'charlie', 'whats', 'thing', 'sttuupid', 'drones', 'left', 'remixer', 'hug', 'went', 'rainbow', 'spit', 'thumbs', 'plane', 'across', 'nobody', 'earns', 'watched', 'country', '17yr', 'theres', 'smiling_face_with_sunglasses', 'muchd', 'loved', 'reunion', 'bonus', 'wafence', 'cabelo', 'prophets', 'enough', 'trojmiastoplvenabustaxio59253html', 'likeeee', 'memory', 'following', 'racists', 'want', 'true', 'rockin', 'youtubeit', 'alright', 'children', 'asking', 'happy', 'repass', 'wahoo', 'serov', 'mexico', 'hoping', 'two', 'memorable', 'blank', 'rosary', 'm', 'language', 'channelsubscribe', 'just', 'near', 'sneeze', 'live', 'beaties', 'realkevinheart', 'certain', 'noxu', 'couldnt', 'plzzzzzzzzzzzzzzzzzzzzzzzzzzzzzzz', 'fb', 'obsessed', 'headphone', 'psys', 'nowplaying', 'duel', 'is', 'anxious', 'divine', 'screwing', 'lives', 'hot_beverage', 'wants', 'take', '3m', 'niko20130926t220043613000hey', 'chills', 'similar', 'road', 'entire', 'putty', 'soldiers', 'gtgtjust', 'shaki', 'recording', 'jaesuk', 'afflicted', 'paša20130926t222817047000croatia', 'losing', 'supreme', 'omgim', 'million', 'numbers', 'stopis', 'foolish', 'halp', 'providers', '39', 'some', 'stay', 'strong', '365', 'angels', 'barsto', 'entertaining', 'brain', 'phenomena', 'smart', 'uncle', 'life', 'accidental', 'anything', 'poor', 'duo', 'fausto', 'lead', '2124821694', 'online', 'read', 'newest', 'own', 'inspiring', 'withing', 'ehi', 'normal', 'filming', 'congrats', 'iiiiiiiiiii', 'dis', 'samurman', 'jdp', 'mtv', 'sites', '60inch', 'cleanse', 'forty', 'whatever', 'between', 'brooooo', 'week', 'greatly', 'everyones', 'unlocked', 'kobyoshi02', 'bands', 'generate', 'multiple', 'freakin', 'explicit', 'memories', 'swag', 'trash', 'spamming', 'south', 'supatquothe', 'styletextdecorationnoneborder0padding0margin0', '14', 'feel', 'superstar', 'most', 'cringeworhty', 'quick', 'obtain', 'applied', 'express', 'katycat', 'underground', 'can', 'price510', 'dj', 'wave', 'houronly', 'psykorean', 'shop', 'defuse', '60', 'smiling_face_with_halo', 'awards', 'coby', 'creativity', 'information', 'lad', 'care', 'br', 'thered', 'reed', 'esyest', 'cooooooooooooolllllllllll', 'rants', 'arive', 'gangman', 'dreams', 'blog', 'itunes', 'insanely', 'crash', 'won39t', 'loveparty', 'modern', 'em39s', 'column', 'price320', 'plizz', 'entertainers', 'guy', 'clean', 'ol39', 'respect', 'quotlike', 'parede', 'producers', 'amount', 'millioon', 'plzz', 'thru', 'murder', 'videoxx', 'effect', 'pe', 'customers', 'shirt', 'sinar', 'wavefire', 'shuffllllllllllllllllllllllinnnnn', 'him', 'someone39s', 'charlieee', 'youtubelove', 'prehistoric', 'rihana', 'favor', 'crowd', 'adele', 'times', 'toll', 'ones', 'spanish', 'selecting', 'wright', 'donating', 'mee', 'wager', 'pwell', 'quadrillion', 'aid', 'to', 'passed', 'others', 'call', 'dope', 'quality', 'youtubebut', 'quotwhite', 'swear', 'arbitrate', 'keyboards', 'votre', 'cap', 'boys', 'fears', 'petitionhtmllink', 'cuz', 'mobile', 'boooobs', 'awesum', 'coffee', 'numberless', 'invented', 'valuable', 'channelbecause', 'shaeel', 'it39d', '32gb', 'test', 'dad', 'celeb', 'poster', 'dhg', 'figure', 'shkira', '6th', 'acquiring', 'xxbb5tczhm39hvzd', 'curse', 'hoppa', 'anime', 'notice', 'righteousness', 'banging', 'youll', 'doubt', 'tattoo', 'certification', 'felt', 'populatoin', '20', 'gf', 'sleeping', 'name39s', 'ebayltagtltimg', 'moly', 'lol', 'thank', 'ending', 'lake', 'ep', 'wont', 'bing', 'helps', 'crimes', 'noise', 'george', 'beauty', 'streets', 'lanequot', 'people', 'suicide', 'beast', '857482940', 'hello', 'bumps', 'flowi39m', 'dancepsy', 'magically', 'feandra', 'jack', 'wtf', 'tomorrowjoking', '2127322484', 'listenersupported', 'faded', 'quickest', 'lunden', 'thoughts', 'serving', 'admire', 'wwwsmartfmnllivestreamhtml', 'copy', 'sex', 'red', 'dubstep', 'dead2me', 'kevin', 'alive', 'itz', 'axeljonssons', 'impossible', 'nature', 'sneakiestg', 'actually', 'serious', 'btw', 'soooooooooooooooooooooooooooooooooooooooo', 'courtthanks', 'ociramma', 'remeber', 'wavelength', 'outs', 'diving', 'luxuriant', 'nuketown', 'hate', 'lame', 'doh', 'disabled', 'reach', 'rey', 'quotwe', 'frequent', 'believing', 'virus', 'noticed', 'operation', 'love', 'current', 'suck', 'nearly', 'inaccurate', 'dudes', 'sometime', 'nonsense', 'lands', 'ig', 'quid', 'hook', 'chanson', 'right', 'portugal', 'war', 'secrets', 'loads', 'micheal', 'rappersinger', 'someone', 'leeched', 'appreciate', 'bd3721315', 'saythis', 'types', 'drugs', 'verse', 'place', 'making', 'meat', 'katyperryvevo', 'chose', 'claire', 'redeemer', 'twin', 'mere', 'juice', 'mabey', 'nerdy', 'delightful', 'improve', 'ring', 'year39s', 'hands', 'terrible', 'ablaze', 'expensive', 'niko', 'costfree', 'amiable', 'eva', 'titled', 'decided', 'worked', 'website', 'lyrics', 'fashions', 'oppa', 'insult', 'replay', 'person_wearing_turban', 'check', 'incandescent', 'cock', 'french_fries', 'absolutely', 'rapping', 'monstrous', 'pause', 'potter', 'kids', 'download', 'seen', 'doesn39t', 'glozzom', 'investmentjust', 'warcraft', 'goes', 'review', 'hhnl', 'youtubeladies39', 'book', 'five', 'mario', 'explains', 'vet', 'says', 'advance', 'spare', 'y', 'deathly', 'yboiveth', 'leave', 'mind', 'beating', 'they', 'grynn', 'person_surfing', 'youtubehjalp', 'lneadw26bfst76vhkjl8pxaey6vmnlvmriudtsfk6vyali', 'software', 'crescendoing', 'penny', 'meets', 'songeveryday', 'kld3y', 'chick', 'duty', 'sure', 'bleach', 'open', 'ad', 'or', 'realized', 'intervene', 'cypher', 'gypsy', '2i', 'suscribe', 'hyuck', '87', 'sucking', 'roulette', 're', 'now', 'lt', 'half', 'smirking_face', 'grade', 'briefs', '55200mm', 'joanna', 'authority', 'evidence', 'like', 'cup', 'destinyforever_', 'cause', '_', 'tshirtof', 'juno', 'vaio', '500k', 'facebook', 'champion', 'stole', 'twitch', 'loops', 'rap', 'spotted', 'countries', 'swim', '33', 'exposes', 'moves', 'earning', 'thanks', 'excellent', 'try', 'had', 'box', 'group', 'fantastic', 'grinning_face_with_sweat', 'bucket', 'lyrical', 'international', 'fucked', 'scoping', 'morgage', 'round', 'eager', 'ho', 'order', 'substantially', 'craft', 'perrys', 'pray', 'price390', 'acidic', '1111111111111111111', 'connected', 'them', 'break', 'static', 'ftw', 'scared', 'difficult', 'gained', 'luck', 'sucscribe', 'bout', 'οh', 'lacked', 'iv', 'gameplay', 'reveling', 'driving', 'lyricism', 'marius', 'presequel', 'irl', 'name', 'mom', 'supporters', 'officiates', 'share', 'thisthe', 'nothingplease', 'fucken', 'extinct', 'yust', 'husky', 'brah', 'jesus', 'cutie', 'wobblers', 'humankind', 'found', 'letting', 'ebay', 'crazycelebnewseupn', 'buggti', 'business', 'freinds', 'africans', 'coverup', 'billie', 'surveys', 'steel', 'wakad', 'worried_face', 'amazon', 'planet', 'yesterday', 'bikini', 'harder', 'gonna', 'wide', 'prophetz', 'bored', 'does', 'você', 'nigger', 'uranus', 'hahaa', 'improvehelp', 'beating_heart', 'nokia', 'alcoholic', 'adam', 'wats', 'constitution', 'i5', 'knows', 'gtlt', 'sponsor', 'omniscient', 'bookies', 'djj', 'waratel', 'the', 'card', '0058', 'shorogyt', 'wood', 'face_with_tears_of_joy', 'chanell', 'feels', 'price515', 'htmllinkbox', 'haven39t', '18', 'sextoy', 'grinning_squinting_face', 'awsome', 'luther', 'shmelev', 'couch', 'latinoamerica', 'unlike', 'extraordinary', 'pride', 'lhudygirlamaya', 'un', '50', 'brazil', 'hot', '2124923004', 'numbering', 'gardens', 'ghost', 'codes', 'nezo', 'zealous', '1it', 'skis', 'inspire', 'dinero', 'direction', 'fast', 'luckymusiqlive', 'instagraml', 'credit', 'shes', 'police', 'roarrrr', 'aunt', 'summon', 'info', 'reminds', 'folks', 'mgtow', 'importantly', 'jesses', 'idiotic', 'billsand', 'advertise', 'hi', 'i39d', 'music', 'fans', 'ahhh', 'admirable', 'umph', 'mean', 'drirathiel', 'lmfaovevo', 'incredible', 'tank', 'id', 'knocks', 'report', 'haha', 'oportunity', 'superr', 'reading', 'hopme', 'idols', 'survival', 'quotwake', 'wrote', '50k', 'koean', 'dayd', 'lanta', 'lisening', 'buy', 'youtubeי', 'fairy', 'homies', 'decio', '5s', 'hahaha', 'deals', 'vaahidmustafic', 'john', 'faves', 'lover39s', 'julie', 'alfred', 'food', 'niggas', 'classsic', 'freddy', 'wazzasoft', 'kissing_face_with_closed_eyes', 'respond', 'power', 'username', '2924', 'viewer', 'experience', 'possiblequot', '2127315950', 'trop', 'rocks', 'katys', 'africanquot', 'smoking', 'haterz', 'need', 'thumbs_up', '7k', 'doctor', 'angry_face', 'ball', 'guruofmovie', 'wanna', 'land', 'stuck', 'leandrus', 'sinpad', 'da', 'burned', '666002018', 'tuto', 'flixter', 'shall', 'halloween', 'miusic', 'model', 'intelligent', 'ty', 'subscrible', 'dances', 'plausible', 'worry', 'advice', 'anybody', 'count', 'year365', 'member', 'w', 'wastin', 'amazement', 'thumsb', 'mampm', 'famine', 'pleasewere', 'follower', 'often', 'nonasian', 'helping', 'la', 'mile', 'guss', 'facilitate', 'wish', 'anyone', 'macbook', 'many', 'basketball', 'hood', 'apple', 'minutes', 'avoid', 'walmart', 'spraytan', 'drives', 'iphone', 'why', 'mighty', 'sad', 'literally', 'co', 'uk', '2126492636', 'capitalized', 'hating', 'suit', 'wifi4g', 'sin', 'view', 'weve', 'omg', 'did', 'pcs', 'nikki', 'believe', 'yo', 'recovery', 'anyway', 'hacking', 'wooooo', 'falls', 'aloidia', 'bigelow', 'u', 'venezuela', 'youtubyou', 'letter', 'kingston', 'law', 'almost', 'post', 'spain', 'blue', 'users', 'critisism', 'funnytortspics', 'different', 'lmao', 'master', 'okay', 'sones', 'cheers', 'face_without_mouth', 'oil', 'lada', '6500', 'totally', 'divorce', 'click', 'titles', 'katy', 'youtubeqq', 'drake', 'monthly', 'burder', 'end', 'roar', 'son', 'boring', 'xd', 'founded', 'base', 'quiet', 'favourite', 'professor', 'were', 'cudi', 'beatboxing', 'rules', 'render', 'rule', 'poultry_leg', '1min', 'germany', 'brothers', 'wind', 'awesome', 'miss', '1337', 'your', 'lana', 'crestboot', 'vegetables', 'españa', 'canvas', 'for', '700', 'able', 'fruity', 'perform', 'survive', 'leader', 'addicting', 'jahitan', 'wonder', 'kitty', 'sec', 'above', 'fredom', 'second', '5c', 'frame', 'fefefefefegelein', 'shakifans', 'leah', 'absolute', 'eminem39s', 'htmllinkand', 'butt', 'pester', 'senate', 'remind', 'image', 'integrated', 'untanlted', 'always', 'hair', 'downloads', 'write', 'expressionless_face', 'cry', 'whenever', 'sang', 'personally', 'democracy', 'teenage', 'sparkling_heart', '9039s', 'entertainer', 'successcheers', 'house', 'thanksmercigraciasdankeobrigadograzie', 'clapping_hands', 'lauren', 'quotpmwquot', 'worries', 'rapper', 'face_with_tongue', '2000000000', 'paypal', 'pure', 'tonighttoday', 'uploading', 'jacket', 'cash', 'sam', 'ok', 'woods', 'cheer', 'missouri', 'excuse', 'everything', 'laughing', 'chhanel', 'cameraman', 'isn39t', 'three', 'wait', 'car', '500', 'android', 'geeze', 'mta', 'gardner', 'thishtmllink', 'crap', 'partyman318', 'hushed_face', 'none', 'dakoda', 'disappointed', 'what39s', 'willing', 'probable', 'theme', 'herd', 'gotta', 'muchshakira', 'french', 'sensejust', 'footballsoccer', 'goo', 'sharing', 'lik', 'critiquing', 'discrimination', 'privacy', 'talk', 'achieved', 'denis', 'a39n', 'flies', 'fight', 'et', 'swooflia', 'collectionquot', 'quotfirequot', 'purpy', 'wasn39t', 'done', 'working', 'town', 'caution', 'autotuned', 'lykum', 'reason', 'hole', 'stereotyped', 'whiz', 'that39s', 'send', 'relieved_face', 'overplayed', 'yuliya', 'every', 'soooooooooooooooooooooooooooooooooooooooooooooooooo', 'tired_face', 'hdtv', 'haki', '2126521750', 'ha', 'partydrunk', 'genocidequot', 'title', 'h', 'target_self', 'songbut', 'population', 'quotthumbs', 'tazz', 'pleaaaase', 'actors', 'bookmakers', 'keep', 'earn', 'build', 'cancer', 'my', 'behold', 'viewing', 'years', '17', 'emphasis', 'meaning', 'lovee', 'listeningstill', 'shallow', 'motivate', 'musical_notes', 'quotlove', 'subscribing', 'new', 'bieber', 'growing', 'too', 'nsa', 'random', 'front', 'juyk', 'concerts', 'youtubethankyou', 'delicate', 'visuelgamingznl', 'k', 'salt', 'sm', 'subscribers', 'understand', 'wowwwwwwwwwwwwwwwwwwwwwwwwwwwwww', 'checking', 'joke', 'growtopia', 'maylaysia', 'wiredo', '2015i', 'delicious', 'savior', 'cd', 'lift', 'charity', 'us', 'firework', 'selling', 'mother', 'drink', 'katycats', 'lulerain', 'simple', 'towered', 'x', 'december', 'hairstylist', 'telephone', 'nirvanatrust', 'kluivert', 'não', 'heaven', 'auburn', 'dddddddrop', 'pictures', 'bilion', 'mediocre', 'noms', 'sassy', 'ancestors', 'ambitious', 'ur', 'and', '3000', 'katheryns', 'mainstream', 'works', 'but', 'trigo', 'educated', 'youtube', 'wank', 'don39t', 'spot', 'songfeel', 'rookie', 'jemini', 'shout', 'shouldd', 'chooses', 'dated', 'pet', 'finding', '35', 'eeeveryone', 'next', 'jenny', 'replies', 'has', 'liked', 'rip', 'reasons', 'mequot', '157', 'freestyle', 'code', 'amy', 'dreamers', 'anderson', 'games', 'research', 'songgod', 'utility', 'squinting_face_with_tongue', 'artist', 'could', 'goonrock', 'juss', 'disposable', 'sore', 'nite', 'answer', 'hope', 'waka', 'less', 'melbourne', 'last', 'success', 'hearing', 'ready', 'visit', 'reviews', 'dog', 'dancing', 'i39ll', 'lively', 'bulgaria', 'versace', 'effort', 'mothers', 'lipstick', 'shot', 'sit', 'encouraging', 'yours', 'prove', 'imma', 'farrell', 'swamp', 'in', 'period', 'saw', 'addition', 'world', 'warmth', 'aftermath', 'join', 'except', 'vidios', 'singing', 'any', 'passionate', 'deserves', 'cent', 'consumers', 'nicely', 'subscribes', '1000000000', 'discount', 'accessories', 'danced', 'ways', 'abuses', 'art', 'tsū', 'cking', 'ｃｏｍｍｅｎｔ', 'performance', 'peace', 'kpopcitynet', 'lmfao', 'v', 'mebut', 'actresses', '1hmvtx', 'app', 'ink', 'domestic', 'i39ve', 'looplab', 'thundering', 'martyrs', 'skizzle', 'ｉｓ', 'trying', 'chorus', 'black', 'about661', 'noi', 'purple_heart', 'eminems', 'euro', 'searchs', 'teacup_without_handle', 'hell', 'dieroar', 'jellyfish', 'parry', 'abomination', 'afford', 'guasch', 'other', 'keeps', 'girl', 'hero', 'usually', 'when', 'lv', '1030', 'nail', 'em', 'foward', 'montagesninja', 'fell', 'fort', '1855mm', 'cardsbut', 'r', 'alot', 'horn', 'anthem', 'df', 'bang', 'parody', 'honesty', '25000', 'started', 'drews', 'i39am', 'undesirable', 'trelod', 'vistazo', '800m', '682', 'ayyy', 'disappointed_face', 'better', 'useless', 's', 'abuse', 'songvideo', '6', 'thankss', 'midnight', 'youquot', 'netherlands', 'peoples', 'sometimes', 'hand', 'bitly14gkvdo', 'grow', 'thingyou', 'unstoppable', 'clinking_beer_mugs', 'tde', 'manager', 'blond', 'ps', 'latest', 'babyquot', 'victorious', 'guys', 'htmllink', 'dragons', 'smaller', 'efforts', 'sillyquot', 'pilot', 'fruits', 'prod', 'feelz', '629', 'itself', 'smiling_face_with_smiling_eyes', 'behind', 'dominate', 'copied', 'torunament', 'depth', 'tears', 'per', 'original', 'rockshtmllink', 'crazy', 'cease', 'singers', 'store', 'cat_face_with_wry_smile', 'naive', 'fly', 'quoti', 'kissing_face', 'rised', '200', 'aways', 'porno', 'dont', 'youd', 'hallowseither', 'exceptions', 'innocent', 'kinda', 'sadly', 'sertave', 'rising', 'uncovered', 'weary_face', 'yrs', 'sleeve', 'opinion', 'tvcmcadavidweebly', 'organizations', 'illuminati', 'citizen', 'canibus', 'females', 'cheilith', 'market', 'doesnt', '800', 'décio', 'googlbxrosr', 'xxx', 'suscribite', 'mates', 'mixtapecheck', 'harts', 'promotes', 'limit', 'nicei', 'lookalike', 'fabricates', 'message', 'nice', 'spam', '10000000', 'collections', 'garbage', 'mileysecretvideocouk', 'belrus20130926t222612832000nice', '753', 'quotghostpoet100quot', 'justing', 'narrow', 'pay', 'robo', 'nervous', 'warning', 'haters', 'you', 'its', 'idiocy', 'eyebrows', 'flight', 'absorbing', 'enlace', 'face_savoring_food', 'fathers', 'career', 'consolidating', 'hwang', 'ambition', 'talking', 'abbas20130926t221545476000fuck', 'offical', '_chris_cz', '97in', 'thingie', 'kidsmediausa', 'min', 'dongs', 'duzafizz', 'spent', 'ytma', 'point', 'hahah', 'browser', 'empowering', 'lion', 'lil', 'tqvm', 'girly', 'lucks', 'down', 'shooting', '4gb', 'disguisequot', 'famous', 'gave', 'sean', 'megt', 'doe', 'htmllinkdelete', 'saving', 'football', 'mess', 'though', 'constructive', 'dddd', 'vanishes', 'spell', 'segue', 'photograph', 'afraid', 'nalpure', 'giveaways', 'shirtplease', 'wat', 'win', 'animator', 'daniels', 'blonde', 'al', 'sooooooooooooong', 'annoying', 'must', '2b', 'without', 'thot', 'game', 'grass', 'smartie', 'eve', 'repay', 'bring', 'size', 'record', 'adfly', 'diddle', 'came', 'section', 'wholehearted', 'protest', 'recently', '1884034783', 'odowd', 'sad_but_relieved_face', 'realtionship', 'ppl', 'such', 'fun', 'perry', 'tabs', 'means', 'witnesss', 'lazy', 'ah', 'because', 'cares', 'brazilian', 'baby', 'abusue', 'richest', 'thereim', 'grinning_face_with_smiling_eyes', 'trigger', 'person_swimming', 'posting', 'skits', 'radio', 'groups', 'guitar', 'likeee', 'girls', 'told', 'themselves', 'instead', 'slr', 'giveaway', 'over', 'heshe', 'apostles', 'took', 'liking', 'ends', 'later', 'wisdom', 'jyp', 'woke', 'recaps', 'promos', 'advertising', 'push', 'wonderful', 'thirsty', 'cge', '1015', 'exists', 'hip', 'heartbreaking', 'mscalifornia95', 'mix', 'higher', 'older', 'windshield', 'horrible', 'dear', 'risk', 'ching', 'heart_suit', 'of', 'quotyour', 'patrik', 'besloor', 'tropical_drink', '868', 'producer', 'breath', 'blessing', 'looking', '279898', 'adsense', 'conscious', 'problem', 'writer', 'paranormal', 'everlt3', 'nummber', 'insanity', 'training', 'youhtmllink', 'sweat', 'confusing', 'everybody', 'nothing', 'selection', 'youtubefb', 'babe', 'play', 'illfated', 'rape', 'abominable', 'loosing', 'championand', 'registr', 'cross', '346', 'giant', 'known', 'economic', 'yeah', 'mil', 'brinkman', 'behavior', 'creator', 'hoppler', 'poeple', 'youtubeeminem', 'sick', 'hes', 'lots', 'irritating', 'goodlooking', 'thousands', 'kidz', 'changeable', 'fit', 'bars', 'ultrabooks', 'youtubelo', 'drunk', 'dosing', 'confounded_face', 'spammers', 'paid', 'sirius', 'vnecks', 'wheels', 'network', 'adore', 'jackson', 'austin', 'somebody', 'airplane', 'gtgtdont', 'impress', 'watch', '1billion', 'musicvideo', 'trade', '5800', 'likeeeeeeeee', 'attacks', 'heard', 'piss', 'ass', 'dedicated', 'long', 'lool', 'conquerors', 'satisfying', 'loon', 'tryna', 'dislikes', 'laugh', 'michael', 'whitney', 'tayara', 'gangam', 'designs', 'ive', 'yoffa', 'trends', 'ignorant', 'china', 'floooooooooooooooooooop', 'yea', 'face', 'ooooo', 'greetings', 'robox', 'bless', 'written', 'retrieve', 'mizuxe', 'ear', 'subscriber', 'enimen', 'wited', 'who', 'invest', 'jobs', 'ilove', 'she', 'applause', 'ballad', 'allinone', 'hurt', 'handsome', 'notorious', 'failready', 'patriarchs', 'esteem', 'inside', '39beware39', 'acceptance', 'australia', 'broken', 'zombie', 'rights', 'quite', 'youtubecodytolleson', 'register', 'been', 'renewal', 'know', 'glasses', 'important', '9nlmemakemoneywithoutinvestment1', 'insane', 'pepelexa', 'surveyshtmllink', 'chuck', 'fu', 'utter', 'amp', 'exclusive', 'eminem', 'soo', 'cant', 'substantial', 'earthquake', 'trolling', 'sexual', 'rhianna', 'mcashim', '100100', 'downs', 'step', 'lucas', 'industry', 'dreamhelp', 'patriot', 'chaste', 'horrific', 'keen', 'truethank', 'confessors', 'claiming', 'purry', 'rymeluv', 'year', 'window', 'we', 'grace', 'marketglory', 'way', 'terrorism', 'realy', 'fictional', 'o', 'smack', 'insanedo', 'being', 'phones', 'plz', 'course', 'ago', 'uplifting', 'channelsounds', 'inch', 'gay', 'this_', 'basethanks', '2017', 'viewed', 'minute', 'who39s', 'little', 'type', 'analyst', 'upgrade', 'advertisiments', 'unbiased', 'effects', 'xx', 'discover', 'songstill', 'birthday', 'entirechina', 'throw', 'google', 'suddenly', 'greatthis', 'uploaded', 'hay', 'pen', 'wierd', 'up', 'awesom', 'animals', 'kodaline', 'winning', 'jaylan', 'bengal', 'happenedi', '3rd', 'loool', 'bit', 'freedom', 'mileycelebnewscouk', 'files', 'receive', 'awesoooome', 'describe', 'wwhore', 'ploosnar', 'rewards', 'pop', 'srilanka', 'worldwide', 'plus', 'honest', 'hours', 'annoys', '41', 'ideas', 'aaaaaaa', 'exactly', 'twitter', 'publishing', 'mum', 'lemme', 'spammed', 'keithlinscotts', 'guysi', 'sky', 'sitting', 'help', 'salon', 'submits', 'songwriter', 'jello', 'more', 'balls', 'speech', 'gem_stone', 'shuffle', 'asked', 'home', '2015', 'secret', 'press', 'expression', 'glad', 'wanted', 'whose', 'british', 'unelind', 'morning', 'secure', 'otherwise', 'smiling_face', 'playlist', 'christ', 'turned', 'boaconic', 'adhoc', 'here', 'imperfect', 'walk', 'fucking', 'pages', 'summer', 'channelthanks', 'penis', 'expansion', 'album', 'soon', 'matter', 'gwar', 'whore', 'relevant', 'only', 'hid', 'allows', 'blow', 'anywon', 'boyi', 'yes', 'illness', 'basically', 'fav', 'feed', 'green', 'belle', 'prior', 'at', 'crying_face', 'tries', 'ice', 'either', 'ferirama', 'else', 'tube', 'drums', 'onedont', 'likkee', 'phenomenallyricshere', 'acoustic', '4th', '__', 'cool', 'justins', 'takes', 'itttttttt', 'alvar', 'running', 'rather', 'helpful', 'search', 'airlines', 'gone', 'billion', 'roblox', 'goals', 'chubby', 'chacking', 'beat', 'woozy', 'lover', 's4', 'netherland', 'hog', 'spreading', 'hard', 'wasting', 'starting', 'christmas', 'fright', 'sign', 'auto', '04', '002', '421', 'pleas', 'blast', 'screw', 'aiiima', 'videoes', 'featuring', 'paul', 'air', 'eight', 'tell', '21', 'so', 'thx', 'favorite', 'adoult', 'lucky', 'person', 'net', 'goal', 'ittttttttttttt', 'gen', 'musicim', 'prevent', 'transmit', 'freyacumqueen', 'vincent', 'bad', 'score', 'mindblowing', 'bocilile', 'musical_score', 'treating', 'sheldon', 'seems', 'africa', 'entertains', 'i39m', 'liers', '강남스타일', 'event', 'cried', 'sooooooooooooooo', 'enlist', 'guide', 'block', 'umichael', 'psy', 'cents', 'offıcal', 'spread', 'audit', 'aware', 'follow', 'shikas', 'hairstyles', 'from', '2billion', 'arrowgance', 'busyglide', 'elephant', 'taking', 'nails', 'was', 'focuses', 'lmfaois', 'lovely', 'yourself', 'dollar', 'currently', 'again', 'dancesuperbbb', 'laughable', 'challenge', 'task', 'sexy', '00', 'ft', 'uppity', 'female', 'vídeo', 'euw', '109', 'funny', 'mio', 'luv', 'accounts1111', 'loss', 'strawberry', 'saying', 'operating', 'sayin', 'describes', '14000000', 'grimacing_face', 'succeeds', 'big', 'bunch', 'system', 'derives', 'freestyles', 'wiews', 'however', 'uphill', 'e', 'fairrrrrrr', 'lneadw26bftotoufj0z3vfflfnaxykwzsivqhimxenotorious', 'alternate', 'lovet', 'beware', 'expecting', 'switch', 'weak', 'single', 'mute', 'hopefully', 'with', 'bangladesh', 'america', '2011', 'succesfull', 'gt3', 'few', 'incmediaorg', 'subcribe', 'level', 'face_with_medical_mask', 'details', 'repair', 'pivot', 'nation', 'breaks', 'total', 'joking', 'ling', 'age', 'probably', 'present', 'plan', 'independent', 'ana', 'things', 'hear', 'large', 'forget', 'doing', 'sister', 'band', 'insurance', 'sprayon', 'equals', 'adding', 'facts', 'mindcould', 'frigea', 'same', 'eggmode', 'beta', 'several', 'rugby', 'find', 'fablife', 'amazing', 'society', 'pour', 'lasting', 'subscribee', 'account', 'wouldnt', 'sense', 'hacked', 'vote', 'justice', 'finish', 'if', 'exposure', 'how', '250', 'progressive', '2x109', 'vanoss', 'subscribirse', 'ill', 'questions', 'learn', 'fuck', 'hw', 'ｈｔｔｐｗｗｗｅｂａｙｃｏｍｕｓｒｓｈｏｅｃｏｌｌｅｃｔｏｒ314', 'pun', 'nossnevs', 'colorful', 'sponswer', 'ricky', 'arm', 'disliked', 'quoteminem', 'yaaaaaa', 'justin', 'playtime', 'ohand', 'skills', 'earth', 'mins', '7000000000', 'giver', 'gta', 'our', 'meghan', 'story', 'smh', 'chinese', 'wickedness', 'look', 'viva', 'ybuwyn', 'salvation', 'gogopo', '1k', 'cute', 'galaxy', 'senator', 'o_o', 'toogit', 'autotune', 'ｄａｍｎ', 'colors', 'en', 'said', 'evertim', 'useful', 'brave', 'channels', 'response', 'moneyenjoy', 'roared', 'rock', 'cs', 'boobs', 'gordon', '666', 'dude', 'appreciated', 'niketan', 'arrogant', 'floor', 'youtu', 'suffering', 'concert', 'mummy', 'simply', 'bother', 'scintillating', 'platform', 'insidious', 'stephanie', 'hits', 'deep', 'expect', 'clothing', 'expo', 'quotswagquot', 'short', 'months', 'socool', 'easy', 'sub', 'beats', 'cece', 'wurkkkkkkkkkkkkkkkkkkkkkkkkkkkkkkkkkkkkkkkkkkkkkkkkkkkkkkkkkkkkkkkkkkkkkkkkkkkkkkkkkkkkkkkkkkkkkkkkkkkkk', 'produced', 'great', 'bighit', 'filled', 'vulnerable', 'goood', 'movie', 'sun', 'vanstone', 'well', 'dumb', 'human', 'seriously', 'bitcoins', 'remove', 'therealchrisking1', 'lova', 'roll', 'detective', 'thisand', 'bigger', 'surpassing', 'once', 'mice', 'aslamu', 'plzzzzzzz', 'stil', 'feature', 'not', 'team', 'family', 'hioffpo', 'pleassssssssssssssss', 'come', 'dizzy_face', 'already', 'ver', 'joinits', 'tonight', 'legit', 'cope', 'mah', 'stand', 'likes', 'jims', 'trumpetcallofgodonline', 'twins', 'start', 'middle', 'young', 'men', 'hurts', 'actual', 'raise', 'republic', 'yr', 'musicwe', 'locobot', 'bs', 'subscribeeeeeeeeee', '1700000000', 'nuts', 'link', 'dat', 'kidding', 'wil', 'rapidly', 'stop', 'wear', 'irish', 'dressed', 'starlitnightsky', 'vip', 'sleep', 'upload', 'stereotype', 'looooved', 'blushing', 'sheep', '600', 'succumbs', 'january', 'mes', 'awesomeshe', 'sooooo', 'namepicture', 'evil', 'prepare', 'sasaroo', 'gusttavo', 'foto', 'heart', 'enlargement', 'field', 'have', 'younique', 'thumb', 'friends', 'lyric', 'anxious_face_with_sweat', 'out', 'neutral_face', 'super', 'it', 'meet', 'belarus', 'admitting', 'honestly', 'released', 'journeywatch', 'shakiria', 'looked', 'today', 'il', 'tech', 'gs', 'tend', 'closer', 'lneadw26bfvkahxpkenm25fywkyxthsupri6juqsznug', 'misty', 'thou', 'overlol', 'conciliate', 'install', 'vevo', 'fan', 'astonished_face', 'duh', 'collaborator39s', 'movement', 'nvmthe', 'history', 'vena', 'his', 'fire', 'fighting', 'thought', 'should', 'cocktail_glass', 'increible', 'yt', 'depreciateds', 'be', 'hottest', 'katie', 'trusted', 'christians', 'refers', 'convinced', 'sucks', 'lose', 'writeperformrecordmixeditpost', 'requite', 'talented', 'plzzz', 'freaking', 'together', 'golden', 'fee', 'breaken', 'megan', 'still', 'than', 'bringing', 'including', 'pplease', 'rollin', 'wet', 'gorgeous', '800000000', '139', '108k', 'subscribe', 'public', 'bitly1bsefqe', 'huh', 'inspired', 'am', 'launchpad', 'folly', 'off', 'swoquix', 'ii', 'their', 'tiget', 'during', '1fhenqx1twqm153v2ptayiejnealahzvem', 'boost', 'bf4', 'hassle', 'piece', 'wrecking', 'gorg', 'catch', 'messages', 'wake', 'ithat', '25th', 'surgery', 'g', 'use', 'helpless', 'possibly', 'about', 'gabby', 'rappers', 'time', 'regret', 'loli', 'sooo', 'lets', 'jap', 'im', 'anymore', 'idol', 'add', 'winking_face', 'rappersongwriter', 'death', 'asinine', 'dede', 'insperasen', 'tha', 'got', 'pussy', 'gets', 'london39s', 'killed', 'cardsxbox', 'mv', '5000', '79', 'retain', 'content', 'egoistic', 'glamour', 'minaj', '300', 'usl', 'anaconda', 'molly', 'idaho', 'videoi', 'act', 'iniesta39s', 'echa', 'due', 'meh', 'llikee', '8bit', 'youtubedaaaaaaaaaaannng', 'epic', 'real', 'amazed', 'worst', 'journey', 'dick', 'leads', 'shakira', 'another', '23', 'king', 'difference', 'niceesabrosura', 'shady', 'playerto', '40', 'looooooooooooooooooooovvvvvvvvveeeeeeeeeeee', 'spoderman', 'linked', 'emotions', 'reminiscent', 'best', 'boy', 'lima', 'berzerk', '30th', 'into', 'cheating', 'quotmemory', 'stuff', 'tapes', 'texas', 'chillstep', 'musiclyrics', 'ignore', 'police_car_light', 'makeing', 'downcast_face_with_sweat', 'school', 'fools', 'proud', 'shitty', 'dickwad', 'mississippi', 'far', 'social', '1', 'professionally', 'exist', 'moon', 'what', 'watchin', 'tshirts', 'donate', '500m', 'movies', 'saints', '31st', 'marian', 'dang', 'flushed_face', 'cover', 'lie', 'train', 'whatuknow', 'coolwhy', 'pink', 'turn', '10', 'fashion', 'diagnosed', 'apprecitate', 'slip', 'god', 'lovatype', 'mic', 'filling', 'butts', 'day', 'official', 'firms', 'speaking', 'jim', '11', 'nicer', 'qiameth', 'gamestop', 'mate', 'remixes', 'robot', 'senators', 'nut', 'emas', 'received', 'performe', 'yahoo', 'bet', 'lyrically', 'camp', 'also', '2012', 'chillpal', 'go', 'gimme', '12year', 'instrumental', '77', 'entered', 'i', 'virgins', 'jelly', '105', 'homes', 'streamer', 'ouffffffffffffffffff', 'allot', 'scale', 'listening', 'hack', 'dancer', 'couldve', '447935454150', 'idea', 'partying', 'hotter', 'betfair', 'feminist', 'pleasure', 'billon', 'relate', 'quotcereal', 'motivating', 'hii', 'blows', 'azerbaijan', 'fox', 'victory_hand_selector', 'please', 'syndrome', 'claster', 'hothot', 'heck', 'subscribesoon', 'fearful_face', 'millisecond', 'obviously', 'perfect', 'cyphers', 'fantasy', 'squeezes', 'using', 'ba', 'american', 'tried', 'free', 'greatest', 'lot', 'loving', 'tightttthtmllink', '11000', 'daily', 'timei', 'pleaase', 'johnny', 'stars', 'fear', 'needed', 'rhythm', 'energy', 'seconds', 'beaming_face_with_smiling_eyes', 'hiring', 'inches', 'hyperurlcok6a5xt', 'feedback', 'smiling_face_with_hearteyes', 'money', 'decent', 'listencheck', 'girlfriend', 'killtheclockhd', 'bones', 'dragonsand', 'gods', 'disappoint', 'choice', 'virucide', 'shy', 'pouting_face', 'tsu', 'grinning_face_with_big_eyes', 'toilet', 'conceived', 'crop', 'quotsubscribequot', 'shitjust', 'unit', 'ltscriptgtdocumentwritelta', 'shuffled', 'whipe', 'theyve', 'living', 'leisure', 'chubbz', 'd', 'longer', 'humanim', 'much', 'xoxoleah', '3d', 'polish', 'lneadw26bfunoarag71awgu6tjo6azdkfiun_tz1_hymuhammad', 'kollektivet', 'least', 'cyrus', 'rocklolwho', 'wife', 'shock', 'intel', 'slut', 'site', 'olielle', 'hey', 'eminmem', 'vouchers', 'angel', 'wages', '4e', 'foxbecause', 'humor', '27', 'l', 'teacher', 'krean', 'subs', 'issue', 'fake', 'lile', 'korean', 'c', 'shared', 'deciocabelo', 'chainise', 'insted', 'ｆａｎｃy', 'flute', 'extra', 'offline', 'foot', 'before', 'kitten', 'rate', 'medication', 'clothes', 'andrew', 'tells', 'friend', 'bigboss286', 'party', 'bastard', 'youtubea', '1000000', 'price360', 'praying', 'shirts', 'dafuq', 'steven', 'louis', 'couple', 'inbox', 'tunez', 'cheat', 'fulfilling', 'avicii39s', 'put', 'that39d', 'mahones', 'assume', 'smiling_face_with_horns', 'agree', 'pitbull', 'pleasealso', 'getting', '0687119038', 'instagram', 'passion', 'formula', 'man39s', 'crashed', 'make', 'unamused_face', 'shrek', 'tomorrow', 'talent', 'sinned', 'wow', 'ipad', 'hyuna', 'college', 'macho', 'fgw', 'piano', 'contact', 'norrus', 'chanel', 'post_office', 'laura', 'headbutt', 'everywhere', 'while', 'looks', '7', 'gangnam', 'curled', 'gus', 'chesture', 'audition', 'born', 'warring', 'thankfully', 'tits', 'tupacase', 'gtgt', 'marketer', 'plot', 'one', 'kill', 'might', 'entertainment', 'x3333333333', 'jungle', 'clue', 'spelled', 'quotdribbleproshotquot', 'congrasulation', 'whistleblower', 'guaschi', 'neeru105', 'f', 'pretty', 'earned', 'fr', 'method', 'price385', 'low', 'happening', 'after', 'sorry', 'face_with_steam_from_nose', 'hiya', 'reply', 'johackle', 'soundsofsunday', '90000000000000000000000000000000000000000000000000000000000000000000000000000000000000000000000000000000000000000000000000000000000000000000000000000000000000000000000000000000000000000000000000000000000000000000000000000000000000000000000000000000000000000000000000000000000000000000000000000000000000000000000000000000000000000000000000000000000000000', 'charley', 'skyburst', 'eyes_', 'raising_hands', 'mosh', '5', 'desire', 'postponing', 'one0', 'setting', 'mm', 'agreeable', 'september', 'youtubefacebook', 'voice', 'helped'}\n"
          ],
          "name": "stdout"
        }
      ]
    },
    {
      "cell_type": "code",
      "metadata": {
        "id": "UxhIOwDGlCZo"
      },
      "source": [
        "for word in vocabulary:\n",
        "  df[word] = 0"
      ],
      "execution_count": 383,
      "outputs": []
    },
    {
      "cell_type": "code",
      "metadata": {
        "id": "GGtzs1zIlabD",
        "outputId": "8c1012d9-41e9-45a1-c23a-fa58dbb14cc8",
        "colab": {
          "base_uri": "https://localhost:8080/",
          "height": 679
        }
      },
      "source": [
        "df.head()"
      ],
      "execution_count": 384,
      "outputs": [
        {
          "output_type": "execute_result",
          "data": {
            "text/html": [
              "<div>\n",
              "<style scoped>\n",
              "    .dataframe tbody tr th:only-of-type {\n",
              "        vertical-align: middle;\n",
              "    }\n",
              "\n",
              "    .dataframe tbody tr th {\n",
              "        vertical-align: top;\n",
              "    }\n",
              "\n",
              "    .dataframe thead th {\n",
              "        text-align: right;\n",
              "    }\n",
              "</style>\n",
              "<table border=\"1\" class=\"dataframe\">\n",
              "  <thead>\n",
              "    <tr style=\"text-align: right;\">\n",
              "      <th></th>\n",
              "      <th>CONTENT</th>\n",
              "      <th>CLASS</th>\n",
              "      <th>src</th>\n",
              "      <th>100</th>\n",
              "      <th>eat</th>\n",
              "      <th>curly</th>\n",
              "      <th>relationship</th>\n",
              "      <th>looooooooove</th>\n",
              "      <th>yay</th>\n",
              "      <th>tango</th>\n",
              "      <th>somewhere</th>\n",
              "      <th>definitley</th>\n",
              "      <th>you39re</th>\n",
              "      <th>core</th>\n",
              "      <th>awful</th>\n",
              "      <th>ovbiously</th>\n",
              "      <th>happens</th>\n",
              "      <th>buys</th>\n",
              "      <th>americans</th>\n",
              "      <th>wow5</th>\n",
              "      <th>womanly</th>\n",
              "      <th>shares</th>\n",
              "      <th>showcase</th>\n",
              "      <th>2nd</th>\n",
              "      <th>keyword</th>\n",
              "      <th>maybe</th>\n",
              "      <th>range</th>\n",
              "      <th>daneja</th>\n",
              "      <th>1990</th>\n",
              "      <th>experiments</th>\n",
              "      <th>rave</th>\n",
              "      <th>sound</th>\n",
              "      <th>monkeys</th>\n",
              "      <th>easily</th>\n",
              "      <th>onece</th>\n",
              "      <th>113</th>\n",
              "      <th>sounds</th>\n",
              "      <th>koreans</th>\n",
              "      <th>bite</th>\n",
              "      <th>refused</th>\n",
              "      <th>...</th>\n",
              "      <th>jungle</th>\n",
              "      <th>clue</th>\n",
              "      <th>spelled</th>\n",
              "      <th>quotdribbleproshotquot</th>\n",
              "      <th>congrasulation</th>\n",
              "      <th>whistleblower</th>\n",
              "      <th>guaschi</th>\n",
              "      <th>neeru105</th>\n",
              "      <th>f</th>\n",
              "      <th>pretty</th>\n",
              "      <th>earned</th>\n",
              "      <th>fr</th>\n",
              "      <th>method</th>\n",
              "      <th>price385</th>\n",
              "      <th>low</th>\n",
              "      <th>happening</th>\n",
              "      <th>after</th>\n",
              "      <th>sorry</th>\n",
              "      <th>face_with_steam_from_nose</th>\n",
              "      <th>hiya</th>\n",
              "      <th>reply</th>\n",
              "      <th>johackle</th>\n",
              "      <th>soundsofsunday</th>\n",
              "      <th>90000000000000000000000000000000000000000000000000000000000000000000000000000000000000000000000000000000000000000000000000000000000000000000000000000000000000000000000000000000000000000000000000000000000000000000000000000000000000000000000000000000000000000000000000000000000000000000000000000000000000000000000000000000000000000000000000000000000000000</th>\n",
              "      <th>charley</th>\n",
              "      <th>skyburst</th>\n",
              "      <th>eyes_</th>\n",
              "      <th>raising_hands</th>\n",
              "      <th>mosh</th>\n",
              "      <th>5</th>\n",
              "      <th>desire</th>\n",
              "      <th>postponing</th>\n",
              "      <th>one0</th>\n",
              "      <th>setting</th>\n",
              "      <th>mm</th>\n",
              "      <th>agreeable</th>\n",
              "      <th>september</th>\n",
              "      <th>youtubefacebook</th>\n",
              "      <th>voice</th>\n",
              "      <th>helped</th>\n",
              "    </tr>\n",
              "  </thead>\n",
              "  <tbody>\n",
              "    <tr>\n",
              "      <th>0</th>\n",
              "      <td>huh anyway check out this youtube channel koby...</td>\n",
              "      <td>1</td>\n",
              "      <td>0</td>\n",
              "      <td>0</td>\n",
              "      <td>0</td>\n",
              "      <td>0</td>\n",
              "      <td>0</td>\n",
              "      <td>0</td>\n",
              "      <td>0</td>\n",
              "      <td>0</td>\n",
              "      <td>0</td>\n",
              "      <td>0</td>\n",
              "      <td>0</td>\n",
              "      <td>0</td>\n",
              "      <td>0</td>\n",
              "      <td>0</td>\n",
              "      <td>0</td>\n",
              "      <td>0</td>\n",
              "      <td>0</td>\n",
              "      <td>0</td>\n",
              "      <td>0</td>\n",
              "      <td>0</td>\n",
              "      <td>0</td>\n",
              "      <td>0</td>\n",
              "      <td>0</td>\n",
              "      <td>0</td>\n",
              "      <td>0</td>\n",
              "      <td>0</td>\n",
              "      <td>0</td>\n",
              "      <td>0</td>\n",
              "      <td>0</td>\n",
              "      <td>0</td>\n",
              "      <td>0</td>\n",
              "      <td>0</td>\n",
              "      <td>0</td>\n",
              "      <td>0</td>\n",
              "      <td>0</td>\n",
              "      <td>0</td>\n",
              "      <td>0</td>\n",
              "      <td>0</td>\n",
              "      <td>...</td>\n",
              "      <td>0</td>\n",
              "      <td>0</td>\n",
              "      <td>0</td>\n",
              "      <td>0</td>\n",
              "      <td>0</td>\n",
              "      <td>0</td>\n",
              "      <td>0</td>\n",
              "      <td>0</td>\n",
              "      <td>0</td>\n",
              "      <td>0</td>\n",
              "      <td>0</td>\n",
              "      <td>0</td>\n",
              "      <td>0</td>\n",
              "      <td>0</td>\n",
              "      <td>0</td>\n",
              "      <td>0</td>\n",
              "      <td>0</td>\n",
              "      <td>0</td>\n",
              "      <td>0</td>\n",
              "      <td>0</td>\n",
              "      <td>0</td>\n",
              "      <td>0</td>\n",
              "      <td>0</td>\n",
              "      <td>0</td>\n",
              "      <td>0</td>\n",
              "      <td>0</td>\n",
              "      <td>0</td>\n",
              "      <td>0</td>\n",
              "      <td>0</td>\n",
              "      <td>0</td>\n",
              "      <td>0</td>\n",
              "      <td>0</td>\n",
              "      <td>0</td>\n",
              "      <td>0</td>\n",
              "      <td>0</td>\n",
              "      <td>0</td>\n",
              "      <td>0</td>\n",
              "      <td>0</td>\n",
              "      <td>0</td>\n",
              "      <td>0</td>\n",
              "    </tr>\n",
              "    <tr>\n",
              "      <th>1</th>\n",
              "      <td>hey guys check out my new channel and our firs...</td>\n",
              "      <td>1</td>\n",
              "      <td>0</td>\n",
              "      <td>0</td>\n",
              "      <td>0</td>\n",
              "      <td>0</td>\n",
              "      <td>0</td>\n",
              "      <td>0</td>\n",
              "      <td>0</td>\n",
              "      <td>0</td>\n",
              "      <td>0</td>\n",
              "      <td>0</td>\n",
              "      <td>0</td>\n",
              "      <td>0</td>\n",
              "      <td>0</td>\n",
              "      <td>0</td>\n",
              "      <td>0</td>\n",
              "      <td>0</td>\n",
              "      <td>0</td>\n",
              "      <td>0</td>\n",
              "      <td>0</td>\n",
              "      <td>0</td>\n",
              "      <td>0</td>\n",
              "      <td>0</td>\n",
              "      <td>0</td>\n",
              "      <td>0</td>\n",
              "      <td>0</td>\n",
              "      <td>0</td>\n",
              "      <td>0</td>\n",
              "      <td>0</td>\n",
              "      <td>0</td>\n",
              "      <td>0</td>\n",
              "      <td>0</td>\n",
              "      <td>0</td>\n",
              "      <td>0</td>\n",
              "      <td>0</td>\n",
              "      <td>0</td>\n",
              "      <td>0</td>\n",
              "      <td>0</td>\n",
              "      <td>0</td>\n",
              "      <td>...</td>\n",
              "      <td>0</td>\n",
              "      <td>0</td>\n",
              "      <td>0</td>\n",
              "      <td>0</td>\n",
              "      <td>0</td>\n",
              "      <td>0</td>\n",
              "      <td>0</td>\n",
              "      <td>0</td>\n",
              "      <td>0</td>\n",
              "      <td>0</td>\n",
              "      <td>0</td>\n",
              "      <td>0</td>\n",
              "      <td>0</td>\n",
              "      <td>0</td>\n",
              "      <td>0</td>\n",
              "      <td>0</td>\n",
              "      <td>0</td>\n",
              "      <td>0</td>\n",
              "      <td>0</td>\n",
              "      <td>0</td>\n",
              "      <td>0</td>\n",
              "      <td>0</td>\n",
              "      <td>0</td>\n",
              "      <td>0</td>\n",
              "      <td>0</td>\n",
              "      <td>0</td>\n",
              "      <td>0</td>\n",
              "      <td>0</td>\n",
              "      <td>0</td>\n",
              "      <td>0</td>\n",
              "      <td>0</td>\n",
              "      <td>0</td>\n",
              "      <td>0</td>\n",
              "      <td>0</td>\n",
              "      <td>0</td>\n",
              "      <td>0</td>\n",
              "      <td>0</td>\n",
              "      <td>0</td>\n",
              "      <td>0</td>\n",
              "      <td>0</td>\n",
              "    </tr>\n",
              "    <tr>\n",
              "      <th>2</th>\n",
              "      <td>just for test i have to say htmllink</td>\n",
              "      <td>1</td>\n",
              "      <td>0</td>\n",
              "      <td>0</td>\n",
              "      <td>0</td>\n",
              "      <td>0</td>\n",
              "      <td>0</td>\n",
              "      <td>0</td>\n",
              "      <td>0</td>\n",
              "      <td>0</td>\n",
              "      <td>0</td>\n",
              "      <td>0</td>\n",
              "      <td>0</td>\n",
              "      <td>0</td>\n",
              "      <td>0</td>\n",
              "      <td>0</td>\n",
              "      <td>0</td>\n",
              "      <td>0</td>\n",
              "      <td>0</td>\n",
              "      <td>0</td>\n",
              "      <td>0</td>\n",
              "      <td>0</td>\n",
              "      <td>0</td>\n",
              "      <td>0</td>\n",
              "      <td>0</td>\n",
              "      <td>0</td>\n",
              "      <td>0</td>\n",
              "      <td>0</td>\n",
              "      <td>0</td>\n",
              "      <td>0</td>\n",
              "      <td>0</td>\n",
              "      <td>0</td>\n",
              "      <td>0</td>\n",
              "      <td>0</td>\n",
              "      <td>0</td>\n",
              "      <td>0</td>\n",
              "      <td>0</td>\n",
              "      <td>0</td>\n",
              "      <td>0</td>\n",
              "      <td>0</td>\n",
              "      <td>...</td>\n",
              "      <td>0</td>\n",
              "      <td>0</td>\n",
              "      <td>0</td>\n",
              "      <td>0</td>\n",
              "      <td>0</td>\n",
              "      <td>0</td>\n",
              "      <td>0</td>\n",
              "      <td>0</td>\n",
              "      <td>0</td>\n",
              "      <td>0</td>\n",
              "      <td>0</td>\n",
              "      <td>0</td>\n",
              "      <td>0</td>\n",
              "      <td>0</td>\n",
              "      <td>0</td>\n",
              "      <td>0</td>\n",
              "      <td>0</td>\n",
              "      <td>0</td>\n",
              "      <td>0</td>\n",
              "      <td>0</td>\n",
              "      <td>0</td>\n",
              "      <td>0</td>\n",
              "      <td>0</td>\n",
              "      <td>0</td>\n",
              "      <td>0</td>\n",
              "      <td>0</td>\n",
              "      <td>0</td>\n",
              "      <td>0</td>\n",
              "      <td>0</td>\n",
              "      <td>0</td>\n",
              "      <td>0</td>\n",
              "      <td>0</td>\n",
              "      <td>0</td>\n",
              "      <td>0</td>\n",
              "      <td>0</td>\n",
              "      <td>0</td>\n",
              "      <td>0</td>\n",
              "      <td>0</td>\n",
              "      <td>0</td>\n",
              "      <td>0</td>\n",
              "    </tr>\n",
              "    <tr>\n",
              "      <th>3</th>\n",
              "      <td>me shaking my sexy ass on my channel enjoy _</td>\n",
              "      <td>1</td>\n",
              "      <td>0</td>\n",
              "      <td>0</td>\n",
              "      <td>0</td>\n",
              "      <td>0</td>\n",
              "      <td>0</td>\n",
              "      <td>0</td>\n",
              "      <td>0</td>\n",
              "      <td>0</td>\n",
              "      <td>0</td>\n",
              "      <td>0</td>\n",
              "      <td>0</td>\n",
              "      <td>0</td>\n",
              "      <td>0</td>\n",
              "      <td>0</td>\n",
              "      <td>0</td>\n",
              "      <td>0</td>\n",
              "      <td>0</td>\n",
              "      <td>0</td>\n",
              "      <td>0</td>\n",
              "      <td>0</td>\n",
              "      <td>0</td>\n",
              "      <td>0</td>\n",
              "      <td>0</td>\n",
              "      <td>0</td>\n",
              "      <td>0</td>\n",
              "      <td>0</td>\n",
              "      <td>0</td>\n",
              "      <td>0</td>\n",
              "      <td>0</td>\n",
              "      <td>0</td>\n",
              "      <td>0</td>\n",
              "      <td>0</td>\n",
              "      <td>0</td>\n",
              "      <td>0</td>\n",
              "      <td>0</td>\n",
              "      <td>0</td>\n",
              "      <td>0</td>\n",
              "      <td>0</td>\n",
              "      <td>...</td>\n",
              "      <td>0</td>\n",
              "      <td>0</td>\n",
              "      <td>0</td>\n",
              "      <td>0</td>\n",
              "      <td>0</td>\n",
              "      <td>0</td>\n",
              "      <td>0</td>\n",
              "      <td>0</td>\n",
              "      <td>0</td>\n",
              "      <td>0</td>\n",
              "      <td>0</td>\n",
              "      <td>0</td>\n",
              "      <td>0</td>\n",
              "      <td>0</td>\n",
              "      <td>0</td>\n",
              "      <td>0</td>\n",
              "      <td>0</td>\n",
              "      <td>0</td>\n",
              "      <td>0</td>\n",
              "      <td>0</td>\n",
              "      <td>0</td>\n",
              "      <td>0</td>\n",
              "      <td>0</td>\n",
              "      <td>0</td>\n",
              "      <td>0</td>\n",
              "      <td>0</td>\n",
              "      <td>0</td>\n",
              "      <td>0</td>\n",
              "      <td>0</td>\n",
              "      <td>0</td>\n",
              "      <td>0</td>\n",
              "      <td>0</td>\n",
              "      <td>0</td>\n",
              "      <td>0</td>\n",
              "      <td>0</td>\n",
              "      <td>0</td>\n",
              "      <td>0</td>\n",
              "      <td>0</td>\n",
              "      <td>0</td>\n",
              "      <td>0</td>\n",
              "    </tr>\n",
              "    <tr>\n",
              "      <th>4</th>\n",
              "      <td>htmllink   check this out</td>\n",
              "      <td>1</td>\n",
              "      <td>0</td>\n",
              "      <td>0</td>\n",
              "      <td>0</td>\n",
              "      <td>0</td>\n",
              "      <td>0</td>\n",
              "      <td>0</td>\n",
              "      <td>0</td>\n",
              "      <td>0</td>\n",
              "      <td>0</td>\n",
              "      <td>0</td>\n",
              "      <td>0</td>\n",
              "      <td>0</td>\n",
              "      <td>0</td>\n",
              "      <td>0</td>\n",
              "      <td>0</td>\n",
              "      <td>0</td>\n",
              "      <td>0</td>\n",
              "      <td>0</td>\n",
              "      <td>0</td>\n",
              "      <td>0</td>\n",
              "      <td>0</td>\n",
              "      <td>0</td>\n",
              "      <td>0</td>\n",
              "      <td>0</td>\n",
              "      <td>0</td>\n",
              "      <td>0</td>\n",
              "      <td>0</td>\n",
              "      <td>0</td>\n",
              "      <td>0</td>\n",
              "      <td>0</td>\n",
              "      <td>0</td>\n",
              "      <td>0</td>\n",
              "      <td>0</td>\n",
              "      <td>0</td>\n",
              "      <td>0</td>\n",
              "      <td>0</td>\n",
              "      <td>0</td>\n",
              "      <td>0</td>\n",
              "      <td>...</td>\n",
              "      <td>0</td>\n",
              "      <td>0</td>\n",
              "      <td>0</td>\n",
              "      <td>0</td>\n",
              "      <td>0</td>\n",
              "      <td>0</td>\n",
              "      <td>0</td>\n",
              "      <td>0</td>\n",
              "      <td>0</td>\n",
              "      <td>0</td>\n",
              "      <td>0</td>\n",
              "      <td>0</td>\n",
              "      <td>0</td>\n",
              "      <td>0</td>\n",
              "      <td>0</td>\n",
              "      <td>0</td>\n",
              "      <td>0</td>\n",
              "      <td>0</td>\n",
              "      <td>0</td>\n",
              "      <td>0</td>\n",
              "      <td>0</td>\n",
              "      <td>0</td>\n",
              "      <td>0</td>\n",
              "      <td>0</td>\n",
              "      <td>0</td>\n",
              "      <td>0</td>\n",
              "      <td>0</td>\n",
              "      <td>0</td>\n",
              "      <td>0</td>\n",
              "      <td>0</td>\n",
              "      <td>0</td>\n",
              "      <td>0</td>\n",
              "      <td>0</td>\n",
              "      <td>0</td>\n",
              "      <td>0</td>\n",
              "      <td>0</td>\n",
              "      <td>0</td>\n",
              "      <td>0</td>\n",
              "      <td>0</td>\n",
              "      <td>0</td>\n",
              "    </tr>\n",
              "  </tbody>\n",
              "</table>\n",
              "<p>5 rows × 3975 columns</p>\n",
              "</div>"
            ],
            "text/plain": [
              "                                             CONTENT  CLASS  ...  voice  helped\n",
              "0  huh anyway check out this youtube channel koby...      1  ...      0       0\n",
              "1  hey guys check out my new channel and our firs...      1  ...      0       0\n",
              "2               just for test i have to say htmllink      1  ...      0       0\n",
              "3      me shaking my sexy ass on my channel enjoy _       1  ...      0       0\n",
              "4                         htmllink   check this out       1  ...      0       0\n",
              "\n",
              "[5 rows x 3975 columns]"
            ]
          },
          "metadata": {
            "tags": []
          },
          "execution_count": 384
        }
      ]
    },
    {
      "cell_type": "code",
      "metadata": {
        "id": "ZQg6wZkEipTJ",
        "outputId": "c234afae-2b58-4fab-8c0a-14257265280f",
        "colab": {
          "base_uri": "https://localhost:8080/"
        }
      },
      "source": [
        "for index, sentence in enumerate(df[\"CONTENT\"]):\n",
        "  for word in sentence.split():\n",
        "    df[word].iloc[index] += 1  \n"
      ],
      "execution_count": 385,
      "outputs": [
        {
          "output_type": "stream",
          "text": [
            "/usr/local/lib/python3.6/dist-packages/pandas/core/indexing.py:670: SettingWithCopyWarning: \n",
            "A value is trying to be set on a copy of a slice from a DataFrame\n",
            "\n",
            "See the caveats in the documentation: https://pandas.pydata.org/pandas-docs/stable/user_guide/indexing.html#returning-a-view-versus-a-copy\n",
            "  iloc._setitem_with_indexer(indexer, value)\n"
          ],
          "name": "stderr"
        }
      ]
    },
    {
      "cell_type": "code",
      "metadata": {
        "id": "88Fr-EqIl_zH",
        "outputId": "62cc6b43-de03-4ee0-ddbe-73c5fa95650e",
        "colab": {
          "base_uri": "https://localhost:8080/",
          "height": 679
        }
      },
      "source": [
        "df.head()"
      ],
      "execution_count": 386,
      "outputs": [
        {
          "output_type": "execute_result",
          "data": {
            "text/html": [
              "<div>\n",
              "<style scoped>\n",
              "    .dataframe tbody tr th:only-of-type {\n",
              "        vertical-align: middle;\n",
              "    }\n",
              "\n",
              "    .dataframe tbody tr th {\n",
              "        vertical-align: top;\n",
              "    }\n",
              "\n",
              "    .dataframe thead th {\n",
              "        text-align: right;\n",
              "    }\n",
              "</style>\n",
              "<table border=\"1\" class=\"dataframe\">\n",
              "  <thead>\n",
              "    <tr style=\"text-align: right;\">\n",
              "      <th></th>\n",
              "      <th>CONTENT</th>\n",
              "      <th>CLASS</th>\n",
              "      <th>src</th>\n",
              "      <th>100</th>\n",
              "      <th>eat</th>\n",
              "      <th>curly</th>\n",
              "      <th>relationship</th>\n",
              "      <th>looooooooove</th>\n",
              "      <th>yay</th>\n",
              "      <th>tango</th>\n",
              "      <th>somewhere</th>\n",
              "      <th>definitley</th>\n",
              "      <th>you39re</th>\n",
              "      <th>core</th>\n",
              "      <th>awful</th>\n",
              "      <th>ovbiously</th>\n",
              "      <th>happens</th>\n",
              "      <th>buys</th>\n",
              "      <th>americans</th>\n",
              "      <th>wow5</th>\n",
              "      <th>womanly</th>\n",
              "      <th>shares</th>\n",
              "      <th>showcase</th>\n",
              "      <th>2nd</th>\n",
              "      <th>keyword</th>\n",
              "      <th>maybe</th>\n",
              "      <th>range</th>\n",
              "      <th>daneja</th>\n",
              "      <th>1990</th>\n",
              "      <th>experiments</th>\n",
              "      <th>rave</th>\n",
              "      <th>sound</th>\n",
              "      <th>monkeys</th>\n",
              "      <th>easily</th>\n",
              "      <th>onece</th>\n",
              "      <th>113</th>\n",
              "      <th>sounds</th>\n",
              "      <th>koreans</th>\n",
              "      <th>bite</th>\n",
              "      <th>refused</th>\n",
              "      <th>...</th>\n",
              "      <th>jungle</th>\n",
              "      <th>clue</th>\n",
              "      <th>spelled</th>\n",
              "      <th>quotdribbleproshotquot</th>\n",
              "      <th>congrasulation</th>\n",
              "      <th>whistleblower</th>\n",
              "      <th>guaschi</th>\n",
              "      <th>neeru105</th>\n",
              "      <th>f</th>\n",
              "      <th>pretty</th>\n",
              "      <th>earned</th>\n",
              "      <th>fr</th>\n",
              "      <th>method</th>\n",
              "      <th>price385</th>\n",
              "      <th>low</th>\n",
              "      <th>happening</th>\n",
              "      <th>after</th>\n",
              "      <th>sorry</th>\n",
              "      <th>face_with_steam_from_nose</th>\n",
              "      <th>hiya</th>\n",
              "      <th>reply</th>\n",
              "      <th>johackle</th>\n",
              "      <th>soundsofsunday</th>\n",
              "      <th>90000000000000000000000000000000000000000000000000000000000000000000000000000000000000000000000000000000000000000000000000000000000000000000000000000000000000000000000000000000000000000000000000000000000000000000000000000000000000000000000000000000000000000000000000000000000000000000000000000000000000000000000000000000000000000000000000000000000000000</th>\n",
              "      <th>charley</th>\n",
              "      <th>skyburst</th>\n",
              "      <th>eyes_</th>\n",
              "      <th>raising_hands</th>\n",
              "      <th>mosh</th>\n",
              "      <th>5</th>\n",
              "      <th>desire</th>\n",
              "      <th>postponing</th>\n",
              "      <th>one0</th>\n",
              "      <th>setting</th>\n",
              "      <th>mm</th>\n",
              "      <th>agreeable</th>\n",
              "      <th>september</th>\n",
              "      <th>youtubefacebook</th>\n",
              "      <th>voice</th>\n",
              "      <th>helped</th>\n",
              "    </tr>\n",
              "  </thead>\n",
              "  <tbody>\n",
              "    <tr>\n",
              "      <th>0</th>\n",
              "      <td>huh anyway check out this youtube channel koby...</td>\n",
              "      <td>1</td>\n",
              "      <td>0</td>\n",
              "      <td>0</td>\n",
              "      <td>0</td>\n",
              "      <td>0</td>\n",
              "      <td>0</td>\n",
              "      <td>0</td>\n",
              "      <td>0</td>\n",
              "      <td>0</td>\n",
              "      <td>0</td>\n",
              "      <td>0</td>\n",
              "      <td>0</td>\n",
              "      <td>0</td>\n",
              "      <td>0</td>\n",
              "      <td>0</td>\n",
              "      <td>0</td>\n",
              "      <td>0</td>\n",
              "      <td>0</td>\n",
              "      <td>0</td>\n",
              "      <td>0</td>\n",
              "      <td>0</td>\n",
              "      <td>0</td>\n",
              "      <td>0</td>\n",
              "      <td>0</td>\n",
              "      <td>0</td>\n",
              "      <td>0</td>\n",
              "      <td>0</td>\n",
              "      <td>0</td>\n",
              "      <td>0</td>\n",
              "      <td>0</td>\n",
              "      <td>0</td>\n",
              "      <td>0</td>\n",
              "      <td>0</td>\n",
              "      <td>0</td>\n",
              "      <td>0</td>\n",
              "      <td>0</td>\n",
              "      <td>0</td>\n",
              "      <td>0</td>\n",
              "      <td>0</td>\n",
              "      <td>...</td>\n",
              "      <td>0</td>\n",
              "      <td>0</td>\n",
              "      <td>0</td>\n",
              "      <td>0</td>\n",
              "      <td>0</td>\n",
              "      <td>0</td>\n",
              "      <td>0</td>\n",
              "      <td>0</td>\n",
              "      <td>0</td>\n",
              "      <td>0</td>\n",
              "      <td>0</td>\n",
              "      <td>0</td>\n",
              "      <td>0</td>\n",
              "      <td>0</td>\n",
              "      <td>0</td>\n",
              "      <td>0</td>\n",
              "      <td>0</td>\n",
              "      <td>0</td>\n",
              "      <td>0</td>\n",
              "      <td>0</td>\n",
              "      <td>0</td>\n",
              "      <td>0</td>\n",
              "      <td>0</td>\n",
              "      <td>0</td>\n",
              "      <td>0</td>\n",
              "      <td>0</td>\n",
              "      <td>0</td>\n",
              "      <td>0</td>\n",
              "      <td>0</td>\n",
              "      <td>0</td>\n",
              "      <td>0</td>\n",
              "      <td>0</td>\n",
              "      <td>0</td>\n",
              "      <td>0</td>\n",
              "      <td>0</td>\n",
              "      <td>0</td>\n",
              "      <td>0</td>\n",
              "      <td>0</td>\n",
              "      <td>0</td>\n",
              "      <td>0</td>\n",
              "    </tr>\n",
              "    <tr>\n",
              "      <th>1</th>\n",
              "      <td>hey guys check out my new channel and our firs...</td>\n",
              "      <td>1</td>\n",
              "      <td>0</td>\n",
              "      <td>0</td>\n",
              "      <td>0</td>\n",
              "      <td>0</td>\n",
              "      <td>0</td>\n",
              "      <td>0</td>\n",
              "      <td>0</td>\n",
              "      <td>0</td>\n",
              "      <td>0</td>\n",
              "      <td>0</td>\n",
              "      <td>0</td>\n",
              "      <td>0</td>\n",
              "      <td>0</td>\n",
              "      <td>0</td>\n",
              "      <td>0</td>\n",
              "      <td>0</td>\n",
              "      <td>0</td>\n",
              "      <td>0</td>\n",
              "      <td>0</td>\n",
              "      <td>0</td>\n",
              "      <td>0</td>\n",
              "      <td>0</td>\n",
              "      <td>0</td>\n",
              "      <td>0</td>\n",
              "      <td>0</td>\n",
              "      <td>0</td>\n",
              "      <td>0</td>\n",
              "      <td>0</td>\n",
              "      <td>0</td>\n",
              "      <td>0</td>\n",
              "      <td>1</td>\n",
              "      <td>0</td>\n",
              "      <td>0</td>\n",
              "      <td>0</td>\n",
              "      <td>0</td>\n",
              "      <td>0</td>\n",
              "      <td>0</td>\n",
              "      <td>0</td>\n",
              "      <td>...</td>\n",
              "      <td>0</td>\n",
              "      <td>0</td>\n",
              "      <td>0</td>\n",
              "      <td>0</td>\n",
              "      <td>0</td>\n",
              "      <td>0</td>\n",
              "      <td>0</td>\n",
              "      <td>0</td>\n",
              "      <td>0</td>\n",
              "      <td>0</td>\n",
              "      <td>0</td>\n",
              "      <td>0</td>\n",
              "      <td>0</td>\n",
              "      <td>0</td>\n",
              "      <td>0</td>\n",
              "      <td>0</td>\n",
              "      <td>0</td>\n",
              "      <td>0</td>\n",
              "      <td>0</td>\n",
              "      <td>0</td>\n",
              "      <td>0</td>\n",
              "      <td>0</td>\n",
              "      <td>0</td>\n",
              "      <td>0</td>\n",
              "      <td>0</td>\n",
              "      <td>0</td>\n",
              "      <td>0</td>\n",
              "      <td>0</td>\n",
              "      <td>0</td>\n",
              "      <td>0</td>\n",
              "      <td>0</td>\n",
              "      <td>0</td>\n",
              "      <td>0</td>\n",
              "      <td>0</td>\n",
              "      <td>0</td>\n",
              "      <td>0</td>\n",
              "      <td>0</td>\n",
              "      <td>0</td>\n",
              "      <td>0</td>\n",
              "      <td>0</td>\n",
              "    </tr>\n",
              "    <tr>\n",
              "      <th>2</th>\n",
              "      <td>just for test i have to say htmllink</td>\n",
              "      <td>1</td>\n",
              "      <td>0</td>\n",
              "      <td>0</td>\n",
              "      <td>0</td>\n",
              "      <td>0</td>\n",
              "      <td>0</td>\n",
              "      <td>0</td>\n",
              "      <td>0</td>\n",
              "      <td>0</td>\n",
              "      <td>0</td>\n",
              "      <td>0</td>\n",
              "      <td>0</td>\n",
              "      <td>0</td>\n",
              "      <td>0</td>\n",
              "      <td>0</td>\n",
              "      <td>0</td>\n",
              "      <td>0</td>\n",
              "      <td>0</td>\n",
              "      <td>0</td>\n",
              "      <td>0</td>\n",
              "      <td>0</td>\n",
              "      <td>0</td>\n",
              "      <td>0</td>\n",
              "      <td>0</td>\n",
              "      <td>0</td>\n",
              "      <td>0</td>\n",
              "      <td>0</td>\n",
              "      <td>0</td>\n",
              "      <td>0</td>\n",
              "      <td>0</td>\n",
              "      <td>0</td>\n",
              "      <td>0</td>\n",
              "      <td>0</td>\n",
              "      <td>0</td>\n",
              "      <td>0</td>\n",
              "      <td>0</td>\n",
              "      <td>0</td>\n",
              "      <td>0</td>\n",
              "      <td>0</td>\n",
              "      <td>...</td>\n",
              "      <td>0</td>\n",
              "      <td>0</td>\n",
              "      <td>0</td>\n",
              "      <td>0</td>\n",
              "      <td>0</td>\n",
              "      <td>0</td>\n",
              "      <td>0</td>\n",
              "      <td>0</td>\n",
              "      <td>0</td>\n",
              "      <td>0</td>\n",
              "      <td>0</td>\n",
              "      <td>0</td>\n",
              "      <td>0</td>\n",
              "      <td>0</td>\n",
              "      <td>0</td>\n",
              "      <td>0</td>\n",
              "      <td>0</td>\n",
              "      <td>0</td>\n",
              "      <td>0</td>\n",
              "      <td>0</td>\n",
              "      <td>0</td>\n",
              "      <td>0</td>\n",
              "      <td>0</td>\n",
              "      <td>0</td>\n",
              "      <td>0</td>\n",
              "      <td>0</td>\n",
              "      <td>0</td>\n",
              "      <td>0</td>\n",
              "      <td>0</td>\n",
              "      <td>0</td>\n",
              "      <td>0</td>\n",
              "      <td>0</td>\n",
              "      <td>0</td>\n",
              "      <td>0</td>\n",
              "      <td>0</td>\n",
              "      <td>0</td>\n",
              "      <td>0</td>\n",
              "      <td>0</td>\n",
              "      <td>0</td>\n",
              "      <td>0</td>\n",
              "    </tr>\n",
              "    <tr>\n",
              "      <th>3</th>\n",
              "      <td>me shaking my sexy ass on my channel enjoy _</td>\n",
              "      <td>1</td>\n",
              "      <td>0</td>\n",
              "      <td>0</td>\n",
              "      <td>0</td>\n",
              "      <td>0</td>\n",
              "      <td>0</td>\n",
              "      <td>0</td>\n",
              "      <td>0</td>\n",
              "      <td>0</td>\n",
              "      <td>0</td>\n",
              "      <td>0</td>\n",
              "      <td>0</td>\n",
              "      <td>0</td>\n",
              "      <td>0</td>\n",
              "      <td>0</td>\n",
              "      <td>0</td>\n",
              "      <td>0</td>\n",
              "      <td>0</td>\n",
              "      <td>0</td>\n",
              "      <td>0</td>\n",
              "      <td>0</td>\n",
              "      <td>0</td>\n",
              "      <td>0</td>\n",
              "      <td>0</td>\n",
              "      <td>0</td>\n",
              "      <td>0</td>\n",
              "      <td>0</td>\n",
              "      <td>0</td>\n",
              "      <td>0</td>\n",
              "      <td>0</td>\n",
              "      <td>0</td>\n",
              "      <td>0</td>\n",
              "      <td>0</td>\n",
              "      <td>0</td>\n",
              "      <td>0</td>\n",
              "      <td>0</td>\n",
              "      <td>0</td>\n",
              "      <td>0</td>\n",
              "      <td>0</td>\n",
              "      <td>...</td>\n",
              "      <td>0</td>\n",
              "      <td>0</td>\n",
              "      <td>0</td>\n",
              "      <td>0</td>\n",
              "      <td>0</td>\n",
              "      <td>0</td>\n",
              "      <td>0</td>\n",
              "      <td>0</td>\n",
              "      <td>0</td>\n",
              "      <td>0</td>\n",
              "      <td>0</td>\n",
              "      <td>0</td>\n",
              "      <td>0</td>\n",
              "      <td>0</td>\n",
              "      <td>0</td>\n",
              "      <td>0</td>\n",
              "      <td>0</td>\n",
              "      <td>0</td>\n",
              "      <td>0</td>\n",
              "      <td>0</td>\n",
              "      <td>0</td>\n",
              "      <td>0</td>\n",
              "      <td>0</td>\n",
              "      <td>0</td>\n",
              "      <td>0</td>\n",
              "      <td>0</td>\n",
              "      <td>0</td>\n",
              "      <td>0</td>\n",
              "      <td>0</td>\n",
              "      <td>0</td>\n",
              "      <td>0</td>\n",
              "      <td>0</td>\n",
              "      <td>0</td>\n",
              "      <td>0</td>\n",
              "      <td>0</td>\n",
              "      <td>0</td>\n",
              "      <td>0</td>\n",
              "      <td>0</td>\n",
              "      <td>0</td>\n",
              "      <td>0</td>\n",
              "    </tr>\n",
              "    <tr>\n",
              "      <th>4</th>\n",
              "      <td>htmllink   check this out</td>\n",
              "      <td>1</td>\n",
              "      <td>0</td>\n",
              "      <td>0</td>\n",
              "      <td>0</td>\n",
              "      <td>0</td>\n",
              "      <td>0</td>\n",
              "      <td>0</td>\n",
              "      <td>0</td>\n",
              "      <td>0</td>\n",
              "      <td>0</td>\n",
              "      <td>0</td>\n",
              "      <td>0</td>\n",
              "      <td>0</td>\n",
              "      <td>0</td>\n",
              "      <td>0</td>\n",
              "      <td>0</td>\n",
              "      <td>0</td>\n",
              "      <td>0</td>\n",
              "      <td>0</td>\n",
              "      <td>0</td>\n",
              "      <td>0</td>\n",
              "      <td>0</td>\n",
              "      <td>0</td>\n",
              "      <td>0</td>\n",
              "      <td>0</td>\n",
              "      <td>0</td>\n",
              "      <td>0</td>\n",
              "      <td>0</td>\n",
              "      <td>0</td>\n",
              "      <td>0</td>\n",
              "      <td>0</td>\n",
              "      <td>0</td>\n",
              "      <td>0</td>\n",
              "      <td>0</td>\n",
              "      <td>0</td>\n",
              "      <td>0</td>\n",
              "      <td>0</td>\n",
              "      <td>0</td>\n",
              "      <td>0</td>\n",
              "      <td>...</td>\n",
              "      <td>0</td>\n",
              "      <td>0</td>\n",
              "      <td>0</td>\n",
              "      <td>0</td>\n",
              "      <td>0</td>\n",
              "      <td>0</td>\n",
              "      <td>0</td>\n",
              "      <td>0</td>\n",
              "      <td>0</td>\n",
              "      <td>0</td>\n",
              "      <td>0</td>\n",
              "      <td>0</td>\n",
              "      <td>0</td>\n",
              "      <td>0</td>\n",
              "      <td>0</td>\n",
              "      <td>0</td>\n",
              "      <td>0</td>\n",
              "      <td>0</td>\n",
              "      <td>0</td>\n",
              "      <td>0</td>\n",
              "      <td>0</td>\n",
              "      <td>0</td>\n",
              "      <td>0</td>\n",
              "      <td>0</td>\n",
              "      <td>0</td>\n",
              "      <td>0</td>\n",
              "      <td>0</td>\n",
              "      <td>0</td>\n",
              "      <td>0</td>\n",
              "      <td>0</td>\n",
              "      <td>0</td>\n",
              "      <td>0</td>\n",
              "      <td>0</td>\n",
              "      <td>0</td>\n",
              "      <td>0</td>\n",
              "      <td>0</td>\n",
              "      <td>0</td>\n",
              "      <td>0</td>\n",
              "      <td>0</td>\n",
              "      <td>0</td>\n",
              "    </tr>\n",
              "  </tbody>\n",
              "</table>\n",
              "<p>5 rows × 3975 columns</p>\n",
              "</div>"
            ],
            "text/plain": [
              "                                             CONTENT  CLASS  ...  voice  helped\n",
              "0  huh anyway check out this youtube channel koby...      1  ...      0       0\n",
              "1  hey guys check out my new channel and our firs...      1  ...      0       0\n",
              "2               just for test i have to say htmllink      1  ...      0       0\n",
              "3      me shaking my sexy ass on my channel enjoy _       1  ...      0       0\n",
              "4                         htmllink   check this out       1  ...      0       0\n",
              "\n",
              "[5 rows x 3975 columns]"
            ]
          },
          "metadata": {
            "tags": []
          },
          "execution_count": 386
        }
      ]
    },
    {
      "cell_type": "code",
      "metadata": {
        "id": "-FtuY6mF1w4R"
      },
      "source": [
        "df.to_csv(\"df_clean.csv\")\n"
      ],
      "execution_count": 387,
      "outputs": []
    }
  ]
}